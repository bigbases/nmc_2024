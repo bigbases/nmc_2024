{
 "cells": [
  {
   "cell_type": "code",
   "execution_count": 1,
   "metadata": {},
   "outputs": [],
   "source": [
    "\n",
    "import torch \n",
    "import argparse\n",
    "import yaml\n",
    "import time\n",
    "import multiprocessing as mp\n",
    "import torch.nn.functional as F\n",
    "from tabulate import tabulate\n",
    "from tqdm import tqdm\n",
    "from torch.utils.data import DataLoader\n",
    "from pathlib import Path\n",
    "#from torch.utils.tensorboard import SummaryWriter\n",
    "from torch.cuda.amp import GradScaler, autocast\n",
    "from torch.nn.parallel import DistributedDataParallel as DDP\n",
    "from torch.utils.data import DistributedSampler, RandomSampler\n",
    "from torch import distributed as dist\n",
    "from nmc.models import *\n",
    "from nmc.datasets import * \n",
    "from nmc.augmentations import get_train_augmentation, get_val_augmentation\n",
    "from nmc.losses import get_loss\n",
    "from nmc.schedulers import get_scheduler\n",
    "from nmc.optimizers import get_optimizer\n",
    "from nmc.utils.utils import fix_seeds, setup_cudnn, cleanup_ddp, setup_ddp\n",
    "from tools.val import evaluate_epi\n",
    "from nmc.utils.episodic_utils import * \n",
    "from scipy.cluster import hierarchy\n",
    "from sklearn.preprocessing import MinMaxScaler\n",
    "import matplotlib.pyplot as plt\n",
    "from torchvision import models\n",
    "import torch.nn as nn\n",
    "from torch.optim import lr_scheduler\n",
    "import numpy as np\n",
    "from sklearn.metrics import accuracy_score, f1_score\n",
    "import pandas as pd\n",
    "import matplotlib.pyplot as plt\n",
    "import seaborn as sns\n",
    "from sklearn.metrics import mutual_info_score\n",
    "from scipy.cluster import hierarchy\n",
    "from tqdm import tqdm\n",
    "from sklearn.metrics import accuracy_score, precision_score, recall_score, f1_score, hamming_loss\n",
    "from torch.utils.data import Dataset, DataLoader, Sampler\n",
    "from torch.utils.data import Subset\n",
    "import torch.optim as optim\n",
    "from torchvision import transforms\n",
    "from PIL import Image\n",
    "import cv2\n",
    "\n",
    "# Swin Transformer 모델 정의 (7클래스 분류)\n",
    "from torchvision.models import swin_t"
   ]
  },
  {
   "cell_type": "code",
   "execution_count": 2,
   "metadata": {},
   "outputs": [
    {
     "name": "stdout",
     "output_type": "stream",
     "text": [
      "{'DEVICE': 'cuda:0', 'SAVE_DIR': 'output', 'MODEL': {'NAME': 'EfficientNetV2MModelMulti', 'BACKBONE': 'EfficientNetV2', 'PRETRAINED': '/workspace/jhmoon/nmc_2024/checkpoints/pretrained/tf_efficientnetv2_m_weights.pth', 'UNFREEZE': 'full', 'VERSION': \"384_32_loss'\"}, 'DATASET': {'NAME': 'NMCDataset', 'ROOT': '/data/nmc/processed_image', 'TRAIN_RATIO': 0.7, 'VALID_RATIO': 0.15, 'TEST_RATIO': 0.15}, 'TRAIN': {'IMAGE_SIZE': [384, 384], 'BATCH_SIZE': 32, 'EPOCHS': 100, 'EVAL_INTERVAL': 1, 'AMP': False, 'DDP': False}, 'LOSS': {'NAME': 'BCEWithLogitsLoss', 'CLS_WEIGHTS': False}, 'OPTIMIZER': {'NAME': 'adamw', 'LR': 0.1, 'WEIGHT_DECAY': 0.01}, 'SCHEDULER': {'NAME': 'warmuppolylr', 'POWER': 0.9, 'WARMUP': 10, 'WARMUP_RATIO': 0.1}, 'EVAL': {'MODEL_PATH': 'checkpoints/pretrained/FGMaxxVit/FGMaxxVit.FGMaxxVit.NMC.pth', 'IMAGE_SIZE': [384, 384]}, 'TEST': {'MODEL_PATH': 'checkpoints/pretrained/FGMaxxVit/FGMaxxVit.FGMaxxVit.NMC.pth', 'FILE': 'assests/ade', 'IMAGE_SIZE': [384, 384], 'OVERLAY': True}}\n"
     ]
    }
   ],
   "source": [
    "with open('../configs/NMC.yaml') as f:\n",
    "    cfg = yaml.load(f, Loader=yaml.SafeLoader)\n",
    "print(cfg)\n",
    "fix_seeds(3407)\n",
    "setup_cudnn()\n",
    "gpu = setup_ddp()\n",
    "save_dir = Path(cfg['SAVE_DIR'])\n",
    "save_dir.mkdir(exist_ok=True)\n",
    "cleanup_ddp()"
   ]
  },
  {
   "cell_type": "code",
   "execution_count": 3,
   "metadata": {},
   "outputs": [],
   "source": [
    "# Early Stopping\n",
    "class EarlyStopping:\n",
    "    def __init__(self, patience=7, min_delta=0):\n",
    "        self.patience = patience\n",
    "        self.min_delta = min_delta\n",
    "        self.counter = 0\n",
    "        self.best_score = None\n",
    "        self.early_stop = False\n",
    "\n",
    "    def __call__(self, val_score):\n",
    "        if self.best_score is None:\n",
    "            self.best_score = val_score\n",
    "        elif val_score < self.best_score + self.min_delta:\n",
    "            self.counter += 1\n",
    "            if self.counter >= self.patience:\n",
    "                self.early_stop = True\n",
    "        else:\n",
    "            self.best_score = val_score\n",
    "            self.counter = 0"
   ]
  },
  {
   "cell_type": "code",
   "execution_count": 4,
   "metadata": {},
   "outputs": [],
   "source": [
    "def get_train_augmentation(size):\n",
    "    return transforms.Compose([\n",
    "        transforms.Resize(size),\n",
    "        transforms.RandomHorizontalFlip(),\n",
    "        transforms.RandomRotation(10),\n",
    "        transforms.ColorJitter(brightness=0.2, contrast=0.2, saturation=0.2),\n",
    "        transforms.Lambda(lambda x: x.float() if x.dtype == torch.uint8 else x),\n",
    "        transforms.Lambda(lambda x: x / 255.0 if x.max() > 1.0 else x),\n",
    "        transforms.Normalize([0.485, 0.456, 0.406], [0.229, 0.224, 0.225])\n",
    "    ])\n",
    "\n",
    "def get_val_test_transform(size):\n",
    "    return transforms.Compose([\n",
    "        transforms.Resize(size),\n",
    "        transforms.Lambda(lambda x: x.float() if x.dtype == torch.uint8 else x),\n",
    "        transforms.Lambda(lambda x: x / 255.0 if x.max() > 1.0 else x),\n",
    "        transforms.Normalize([0.485, 0.456, 0.406], [0.229, 0.224, 0.225])\n",
    "    ])\n"
   ]
  },
  {
   "cell_type": "code",
   "execution_count": 5,
   "metadata": {},
   "outputs": [],
   "source": [
    "class BalancedBatchSampler(Sampler):\n",
    "    def __init__(self, dataset, batch_size):\n",
    "        self.dataset = dataset\n",
    "        self.batch_size = batch_size\n",
    "        \n",
    "        # 데이터셋에서 레이블 추출\n",
    "        if hasattr(dataset, 'labels'):\n",
    "            self.labels = dataset.labels\n",
    "            if isinstance(self.labels, np.ndarray):\n",
    "                self.labels = torch.from_numpy(self.labels)\n",
    "        elif hasattr(dataset, 'targets'):\n",
    "            self.labels = dataset.targets\n",
    "            if isinstance(self.labels, np.ndarray):\n",
    "                self.labels = torch.from_numpy(self.labels)\n",
    "        else:\n",
    "            try:\n",
    "                self.labels = [sample[1] for sample in dataset]\n",
    "                if isinstance(self.labels[0], np.ndarray):\n",
    "                    self.labels = torch.from_numpy(np.array(self.labels))\n",
    "                else:\n",
    "                    self.labels = torch.tensor(self.labels)\n",
    "            except:\n",
    "                raise ValueError(\"Cannot access labels from dataset\")\n",
    "        \n",
    "        self.n_classes = self.labels.shape[1] if len(self.labels.shape) > 1 else len(torch.unique(self.labels))\n",
    "        self.samples_per_class = batch_size // self.n_classes\n",
    "        \n",
    "        # 클래스별 인덱스 저장\n",
    "        self.class_indices = []\n",
    "        for i in range(self.n_classes):\n",
    "            if len(self.labels.shape) > 1:\n",
    "                idx = torch.where(self.labels[:, i] == 1)[0]\n",
    "            else:\n",
    "                idx = torch.where(self.labels == i)[0]\n",
    "            self.class_indices.append(idx)\n",
    "        \n",
    "        self.n_batches = len(self.dataset) // batch_size\n",
    "        if len(self.dataset) % batch_size != 0:\n",
    "            self.n_batches += 1\n",
    "    \n",
    "    def __iter__(self):\n",
    "        for _ in range(self.n_batches):\n",
    "            batch_indices = []\n",
    "            for class_idx in range(self.n_classes):\n",
    "                class_samples = self.class_indices[class_idx]\n",
    "                if len(class_samples) == 0:\n",
    "                    continue\n",
    "                \n",
    "                # 랜덤 선택\n",
    "                selected = class_samples[torch.randint(len(class_samples), \n",
    "                                                     (self.samples_per_class,))]\n",
    "                batch_indices.extend(selected.tolist())\n",
    "            \n",
    "            # 배치 크기에 맞게 자르기\n",
    "            if len(batch_indices) > self.batch_size:\n",
    "                batch_indices = batch_indices[:self.batch_size]\n",
    "            \n",
    "            # 중요: 리스트로 yield\n",
    "            yield batch_indices\n",
    "    \n",
    "    def __len__(self):\n",
    "        return self.n_batches"
   ]
  },
  {
   "cell_type": "code",
   "execution_count": 6,
   "metadata": {},
   "outputs": [
    {
     "name": "stdout",
     "output_type": "stream",
     "text": [
      "device :  cuda:0\n",
      "/data/nmc/processed_image/cropped_images_1424x1648\n",
      "(0,)               1935\n",
      "(3,)                542\n",
      "(1, 2, 3)           532\n",
      "(1, 2)              286\n",
      "(2,)                233\n",
      "(1, 2, 3, 4)        190\n",
      "(2, 3)              163\n",
      "(1,)                155\n",
      "(4,)                 47\n",
      "(1, 3)               31\n",
      "(1, 2, 4)            27\n",
      "(3, 4)               22\n",
      "(1, 2, 3, 4, 5)      11\n",
      "(5,)                  9\n",
      "(2, 3, 4)             9\n",
      "(1, 4)                9\n",
      "(1, 2, 3, 5)          8\n",
      "(1, 2, 5)             7\n",
      "(2, 4)                7\n",
      "(1, 2, 3, 5, 6)       5\n",
      "(1, 2, 3, 6)          4\n",
      "(1, 3, 4)             2\n",
      "(1, 3, 6)             1\n",
      "(6,)                  1\n",
      "(1, 2, 6)             1\n",
      "(1, 2, 3, 4, 6)       1\n",
      "Name: label, dtype: int64\n",
      "train size: 4238\n",
      "(0,)               415\n",
      "(3,)               118\n",
      "(1, 2, 3)          113\n",
      "(1, 2)              65\n",
      "(2,)                50\n",
      "(1, 2, 3, 4)        46\n",
      "(2, 3)              35\n",
      "(1,)                32\n",
      "(4,)                13\n",
      "(1, 3)               7\n",
      "(5,)                 4\n",
      "(3, 4)               3\n",
      "(1, 2, 4)            2\n",
      "(1, 4)               2\n",
      "(2, 4)               2\n",
      "(1, 5)               2\n",
      "(1, 2, 3, 4, 6)      1\n",
      "(2, 3, 4)            1\n",
      "(1, 2, 3, 6)         1\n",
      "(1, 2, 3, 5)         1\n",
      "(1, 2, 5)            1\n",
      "Name: label, dtype: int64\n",
      "val size: 914\n",
      "(0,)            415\n",
      "(1, 2, 3)       114\n",
      "(3,)            108\n",
      "(1, 2)           67\n",
      "(2, 3)           41\n",
      "(1, 2, 3, 4)     40\n",
      "(2,)             40\n",
      "(1,)             24\n",
      "(1, 3)           11\n",
      "(3, 4)            8\n",
      "(2, 4)            7\n",
      "(1, 4)            6\n",
      "(5,)              5\n",
      "(1, 2, 4)         5\n",
      "(6,)              3\n",
      "(4,)              2\n",
      "(1, 2, 3, 5)      2\n",
      "(1, 3, 4)         1\n",
      "(2, 3, 4)         1\n",
      "(1, 2, 5)         1\n",
      "(1, 5)            1\n",
      "Name: label, dtype: int64\n",
      "test size: 902\n"
     ]
    }
   ],
   "source": [
    "start = time.time()\n",
    "best_mf1 = 0.0\n",
    "device = torch.device(cfg['DEVICE'])\n",
    "print(\"device : \", device)\n",
    "num_workers = mp.cpu_count()\n",
    "train_cfg, eval_cfg = cfg['TRAIN'], cfg['EVAL']\n",
    "dataset_cfg, model_cfg = cfg['DATASET'], cfg['MODEL']\n",
    "loss_cfg, optim_cfg, sched_cfg = cfg['LOSS'], cfg['OPTIMIZER'], cfg['SCHEDULER']\n",
    "epochs, lr = train_cfg['EPOCHS'], optim_cfg['LR']\n",
    "\n",
    "image_size = [256,256]\n",
    "image_dir = Path(dataset_cfg['ROOT']) / 'train_images'\n",
    "train_transform = get_train_augmentation(image_size)\n",
    "val_test_transform = get_val_test_transform(image_size)\n",
    "batch_size = 32\n",
    "\n",
    "\n",
    "dataset = eval(dataset_cfg['NAME'])(\n",
    "    dataset_cfg['ROOT'] + '/cropped_images_1424x1648',\n",
    "    dataset_cfg['TRAIN_RATIO'],\n",
    "    dataset_cfg['VALID_RATIO'],\n",
    "    dataset_cfg['TEST_RATIO'],\n",
    "    transform=None\n",
    ")\n",
    "trainset, valset, testset = dataset.get_splits()\n",
    "trainset.transform = train_transform\n",
    "valset.transform = val_test_transform\n",
    "testset.transform = val_test_transform\n",
    "\n",
    "\n",
    "\n",
    "# DataLoader 수정\n",
    "trainloader = DataLoader(\n",
    "    trainset, \n",
    "    batch_sampler=BalancedBatchSampler(trainset, batch_size=batch_size),\n",
    "    num_workers=num_workers,\n",
    "    pin_memory=True\n",
    ")\n",
    "# trainloader = DataLoader(trainset, batch_size=batch_size, num_workers=num_workers, drop_last=True, pin_memory=True)\n",
    "valloader = DataLoader(valset, batch_size=1, num_workers=1, pin_memory=True)\n",
    "testloader = DataLoader(testset, batch_size=1, num_workers=1, pin_memory=True)"
   ]
  },
  {
   "cell_type": "code",
   "execution_count": 22,
   "metadata": {},
   "outputs": [
    {
     "name": "stderr",
     "output_type": "stream",
     "text": [
      "/root/anaconda3/envs/gm/lib/python3.7/site-packages/torchvision/models/_utils.py:209: UserWarning: The parameter 'pretrained' is deprecated since 0.13 and may be removed in the future, please use 'weights' instead.\n",
      "  f\"The parameter '{pretrained_param}' is deprecated since 0.13 and may be removed in the future, \"\n",
      "/root/anaconda3/envs/gm/lib/python3.7/site-packages/torchvision/models/_utils.py:223: UserWarning: Arguments other than a weight enum or `None` for 'weights' are deprecated since 0.13 and may be removed in the future. The current behavior is equivalent to passing `weights=EfficientNet_V2_M_Weights.IMAGENET1K_V1`. You can also use `weights=EfficientNet_V2_M_Weights.DEFAULT` to get the most up-to-date weights.\n",
      "  warnings.warn(msg)\n"
     ]
    }
   ],
   "source": [
    "# Model definition (changed to binary classification)\n",
    "model = models.efficientnet_v2_m(pretrained=True)\n",
    "num_ftrs = model.classifier[1].in_features\n",
    "model.classifier = nn.Sequential(\n",
    "    nn.BatchNorm1d(num_ftrs),\n",
    "    nn.Linear(num_ftrs, 7)\n",
    ")\n",
    "model = model.to(device)"
   ]
  },
  {
   "cell_type": "code",
   "execution_count": 8,
   "metadata": {},
   "outputs": [
    {
     "name": "stderr",
     "output_type": "stream",
     "text": [
      "/root/anaconda3/envs/gm/lib/python3.7/site-packages/torchvision/models/_utils.py:209: UserWarning: The parameter 'pretrained' is deprecated since 0.13 and may be removed in the future, please use 'weights' instead.\n",
      "  f\"The parameter '{pretrained_param}' is deprecated since 0.13 and may be removed in the future, \"\n",
      "/root/anaconda3/envs/gm/lib/python3.7/site-packages/torchvision/models/_utils.py:223: UserWarning: Arguments other than a weight enum or `None` for 'weights' are deprecated since 0.13 and may be removed in the future. The current behavior is equivalent to passing `weights=Swin_S_Weights.IMAGENET1K_V1`. You can also use `weights=Swin_S_Weights.DEFAULT` to get the most up-to-date weights.\n",
      "  warnings.warn(msg)\n"
     ]
    }
   ],
   "source": [
    "# model for swin S\n",
    "model = models.swin_s(pretrained=True)\n",
    "num_ftrs = model.head.in_features\n",
    "model.head = nn.Sequential(\n",
    "    nn.BatchNorm1d(num_ftrs),\n",
    "    nn.Linear(num_ftrs, 7)\n",
    ")\n",
    "model = model.to(device)"
   ]
  },
  {
   "cell_type": "code",
   "execution_count": 23,
   "metadata": {},
   "outputs": [],
   "source": [
    "# L2 regularization\n",
    "weight_decay = 1e-4\n",
    "optimizer = torch.optim.AdamW(model.parameters(), lr=0.0001, weight_decay=weight_decay)\n",
    "criterion = nn.BCEWithLogitsLoss()\n",
    "scaler = GradScaler(enabled=train_cfg['AMP'])\n",
    "# Learning rate scheduler\n",
    "scheduler = optim.lr_scheduler.ReduceLROnPlateau(optimizer, mode='max', factor=0.1, patience=5, verbose=True)\n"
   ]
  },
  {
   "cell_type": "code",
   "execution_count": 24,
   "metadata": {},
   "outputs": [],
   "source": [
    "\n",
    "def train_epoch(model, dataloader, criterion, optimizer, scaler, device):\n",
    "    model.train()\n",
    "    total_loss = 0\n",
    "    for images, labels in tqdm(dataloader, desc=\"Training\"):\n",
    "        images, labels = images.to(device), labels.to(device)\n",
    "        \n",
    "        optimizer.zero_grad()\n",
    "        \n",
    "        with autocast(enabled=scaler is not None):\n",
    "            outputs = model(images)\n",
    "            loss = criterion(outputs.squeeze(), labels.float())\n",
    "        \n",
    "        if scaler is not None:\n",
    "            scaler.scale(loss).backward()\n",
    "            scaler.step(optimizer)\n",
    "            scaler.update()\n",
    "        else:\n",
    "            loss.backward()\n",
    "            optimizer.step()\n",
    "        \n",
    "        total_loss += loss.item()\n",
    "    \n",
    "    return total_loss / len(dataloader)"
   ]
  },
  {
   "cell_type": "code",
   "execution_count": 25,
   "metadata": {},
   "outputs": [],
   "source": [
    "def evaluate(model, dataloader, device):\n",
    "    model.eval()\n",
    "    all_preds = []\n",
    "    all_labels = []\n",
    "    \n",
    "    with torch.no_grad():\n",
    "        for images, labels in tqdm(dataloader, desc=\"Evaluating\"):\n",
    "            images, labels = images.to(device), labels.to(device)\n",
    "            \n",
    "            outputs = model(images)\n",
    "            # 각 클래스에 대해 시그모이드 적용 후 임계값 처리\n",
    "            preds = (torch.sigmoid(outputs) > 0.5).int()\n",
    "            \n",
    "            # 배치 단위로 예측값과 라벨 저장\n",
    "            all_preds.append(preds.cpu().numpy())\n",
    "            all_labels.append(labels.cpu().numpy())\n",
    "    \n",
    "    # 배치 데이터를 하나의 배열로 결합\n",
    "    all_preds = np.vstack(all_preds)\n",
    "    all_labels = np.vstack(all_labels)\n",
    "    \n",
    "    # 멀티라벨 F1 score 계산\n",
    "    f1 = f1_score(all_labels, all_preds, average='samples')  # or 'micro', 'macro', 'weighted'\n",
    "    \n",
    "    return f1"
   ]
  },
  {
   "cell_type": "code",
   "execution_count": 26,
   "metadata": {},
   "outputs": [],
   "source": [
    "def train_and_evaluate(model, train_loader, val_loader, criterion, optimizer, scaler, device, epochs):\n",
    "    best_f1 = 0.0\n",
    "    early_stopping = EarlyStopping(patience=10, min_delta=0.001)\n",
    "    \n",
    "    for epoch in range(epochs):\n",
    "        print(f\"Epoch {epoch+1}/{epochs}\")\n",
    "        \n",
    "        train_loss = train_epoch(model, train_loader, criterion, optimizer, scaler, device)\n",
    "        val_f1 = evaluate(model, val_loader, device)\n",
    "        \n",
    "        print(f\"Training Loss: {train_loss:.4f}\")\n",
    "        print(f\"Validation F1 Score: {val_f1:.4f}\")\n",
    "        \n",
    "        scheduler.step(val_f1)\n",
    "        \n",
    "        if val_f1 > best_f1:\n",
    "            best_f1 = val_f1\n",
    "            torch.save(model.state_dict(), 'model/best_model_nmc.pth')\n",
    "            print(\"New best model saved!\")\n",
    "        \n",
    "        early_stopping(val_f1)\n",
    "        if early_stopping.early_stop:\n",
    "            print(\"Early stopping triggered\")\n",
    "            break\n",
    "        \n",
    "        print()\n",
    "    \n",
    "    return best_f1"
   ]
  },
  {
   "cell_type": "code",
   "execution_count": 27,
   "metadata": {},
   "outputs": [
    {
     "name": "stdout",
     "output_type": "stream",
     "text": [
      "Epoch 1/100\n"
     ]
    },
    {
     "name": "stderr",
     "output_type": "stream",
     "text": [
      "Training:   0%|          | 0/133 [00:00<?, ?it/s]"
     ]
    },
    {
     "name": "stderr",
     "output_type": "stream",
     "text": [
      "Training: 100%|██████████| 133/133 [00:53<00:00,  2.49it/s]\n",
      "Evaluating: 100%|██████████| 914/914 [00:39<00:00, 23.24it/s]\n"
     ]
    },
    {
     "name": "stdout",
     "output_type": "stream",
     "text": [
      "Training Loss: 0.4608\n",
      "Validation F1 Score: 0.6501\n",
      "New best model saved!\n",
      "\n",
      "Epoch 2/100\n"
     ]
    },
    {
     "name": "stderr",
     "output_type": "stream",
     "text": [
      "Training: 100%|██████████| 133/133 [00:58<00:00,  2.27it/s]\n",
      "Evaluating: 100%|██████████| 914/914 [00:39<00:00, 23.38it/s]\n"
     ]
    },
    {
     "name": "stdout",
     "output_type": "stream",
     "text": [
      "Training Loss: 0.2707\n",
      "Validation F1 Score: 0.6586\n",
      "New best model saved!\n",
      "\n",
      "Epoch 3/100\n"
     ]
    },
    {
     "name": "stderr",
     "output_type": "stream",
     "text": [
      "Training: 100%|██████████| 133/133 [00:53<00:00,  2.51it/s]\n",
      "Evaluating: 100%|██████████| 914/914 [00:40<00:00, 22.58it/s]\n"
     ]
    },
    {
     "name": "stdout",
     "output_type": "stream",
     "text": [
      "Training Loss: 0.2093\n",
      "Validation F1 Score: 0.7346\n",
      "New best model saved!\n",
      "\n",
      "Epoch 4/100\n"
     ]
    },
    {
     "name": "stderr",
     "output_type": "stream",
     "text": [
      "Training: 100%|██████████| 133/133 [00:44<00:00,  2.96it/s]\n",
      "Evaluating: 100%|██████████| 914/914 [00:52<00:00, 17.37it/s]\n"
     ]
    },
    {
     "name": "stdout",
     "output_type": "stream",
     "text": [
      "Training Loss: 0.1732\n",
      "Validation F1 Score: 0.7418\n",
      "New best model saved!\n",
      "\n",
      "Epoch 5/100\n"
     ]
    },
    {
     "name": "stderr",
     "output_type": "stream",
     "text": [
      "Training: 100%|██████████| 133/133 [00:44<00:00,  2.97it/s]\n",
      "Evaluating: 100%|██████████| 914/914 [00:43<00:00, 21.17it/s]\n"
     ]
    },
    {
     "name": "stdout",
     "output_type": "stream",
     "text": [
      "Training Loss: 0.1467\n",
      "Validation F1 Score: 0.7641\n",
      "New best model saved!\n",
      "\n",
      "Epoch 6/100\n"
     ]
    },
    {
     "name": "stderr",
     "output_type": "stream",
     "text": [
      "Training: 100%|██████████| 133/133 [00:52<00:00,  2.53it/s]\n",
      "Evaluating: 100%|██████████| 914/914 [00:38<00:00, 23.92it/s]\n"
     ]
    },
    {
     "name": "stdout",
     "output_type": "stream",
     "text": [
      "Training Loss: 0.1343\n",
      "Validation F1 Score: 0.7205\n",
      "\n",
      "Epoch 7/100\n"
     ]
    },
    {
     "name": "stderr",
     "output_type": "stream",
     "text": [
      "Training: 100%|██████████| 133/133 [00:55<00:00,  2.41it/s]\n",
      "Evaluating: 100%|██████████| 914/914 [00:38<00:00, 23.64it/s]\n"
     ]
    },
    {
     "name": "stdout",
     "output_type": "stream",
     "text": [
      "Training Loss: 0.1038\n",
      "Validation F1 Score: 0.7235\n",
      "\n",
      "Epoch 8/100\n"
     ]
    },
    {
     "name": "stderr",
     "output_type": "stream",
     "text": [
      "Training: 100%|██████████| 133/133 [00:42<00:00,  3.13it/s]\n",
      "Evaluating: 100%|██████████| 914/914 [00:50<00:00, 18.15it/s]\n"
     ]
    },
    {
     "name": "stdout",
     "output_type": "stream",
     "text": [
      "Training Loss: 0.0937\n",
      "Validation F1 Score: 0.7694\n",
      "New best model saved!\n",
      "\n",
      "Epoch 9/100\n"
     ]
    },
    {
     "name": "stderr",
     "output_type": "stream",
     "text": [
      "Training: 100%|██████████| 133/133 [00:43<00:00,  3.07it/s]\n",
      "Evaluating: 100%|██████████| 914/914 [00:47<00:00, 19.44it/s]\n"
     ]
    },
    {
     "name": "stdout",
     "output_type": "stream",
     "text": [
      "Training Loss: 0.0900\n",
      "Validation F1 Score: 0.7438\n",
      "\n",
      "Epoch 10/100\n"
     ]
    },
    {
     "name": "stderr",
     "output_type": "stream",
     "text": [
      "Training: 100%|██████████| 133/133 [00:48<00:00,  2.74it/s]\n",
      "Evaluating: 100%|██████████| 914/914 [00:38<00:00, 23.55it/s]\n"
     ]
    },
    {
     "name": "stdout",
     "output_type": "stream",
     "text": [
      "Training Loss: 0.0909\n",
      "Validation F1 Score: 0.7955\n",
      "New best model saved!\n",
      "\n",
      "Epoch 11/100\n"
     ]
    },
    {
     "name": "stderr",
     "output_type": "stream",
     "text": [
      "Training: 100%|██████████| 133/133 [00:58<00:00,  2.27it/s]\n",
      "Evaluating: 100%|██████████| 914/914 [00:39<00:00, 23.09it/s]\n"
     ]
    },
    {
     "name": "stdout",
     "output_type": "stream",
     "text": [
      "Training Loss: 0.0750\n",
      "Validation F1 Score: 0.7873\n",
      "\n",
      "Epoch 12/100\n"
     ]
    },
    {
     "name": "stderr",
     "output_type": "stream",
     "text": [
      "Training: 100%|██████████| 133/133 [00:44<00:00,  2.98it/s]\n",
      "Evaluating: 100%|██████████| 914/914 [00:49<00:00, 18.64it/s]\n"
     ]
    },
    {
     "name": "stdout",
     "output_type": "stream",
     "text": [
      "Training Loss: 0.0658\n",
      "Validation F1 Score: 0.8021\n",
      "New best model saved!\n",
      "\n",
      "Epoch 13/100\n"
     ]
    },
    {
     "name": "stderr",
     "output_type": "stream",
     "text": [
      "Training: 100%|██████████| 133/133 [00:43<00:00,  3.03it/s]\n",
      "Evaluating: 100%|██████████| 914/914 [00:51<00:00, 17.70it/s]\n"
     ]
    },
    {
     "name": "stdout",
     "output_type": "stream",
     "text": [
      "Training Loss: 0.0597\n",
      "Validation F1 Score: 0.8080\n",
      "New best model saved!\n",
      "\n",
      "Epoch 14/100\n"
     ]
    },
    {
     "name": "stderr",
     "output_type": "stream",
     "text": [
      "Training: 100%|██████████| 133/133 [00:43<00:00,  3.04it/s]\n",
      "Evaluating: 100%|██████████| 914/914 [00:38<00:00, 23.64it/s]\n"
     ]
    },
    {
     "name": "stdout",
     "output_type": "stream",
     "text": [
      "Training Loss: 0.0535\n",
      "Validation F1 Score: 0.8173\n",
      "New best model saved!\n",
      "\n",
      "Epoch 15/100\n"
     ]
    },
    {
     "name": "stderr",
     "output_type": "stream",
     "text": [
      "Training: 100%|██████████| 133/133 [01:00<00:00,  2.21it/s]\n",
      "Evaluating: 100%|██████████| 914/914 [00:38<00:00, 23.46it/s]\n"
     ]
    },
    {
     "name": "stdout",
     "output_type": "stream",
     "text": [
      "Training Loss: 0.0458\n",
      "Validation F1 Score: 0.8055\n",
      "\n",
      "Epoch 16/100\n"
     ]
    },
    {
     "name": "stderr",
     "output_type": "stream",
     "text": [
      "Training: 100%|██████████| 133/133 [00:53<00:00,  2.46it/s]\n",
      "Evaluating: 100%|██████████| 914/914 [00:40<00:00, 22.39it/s]\n"
     ]
    },
    {
     "name": "stdout",
     "output_type": "stream",
     "text": [
      "Training Loss: 0.0464\n",
      "Validation F1 Score: 0.8253\n",
      "New best model saved!\n",
      "\n",
      "Epoch 17/100\n"
     ]
    },
    {
     "name": "stderr",
     "output_type": "stream",
     "text": [
      "Training: 100%|██████████| 133/133 [00:44<00:00,  3.02it/s]\n",
      "Evaluating: 100%|██████████| 914/914 [00:48<00:00, 18.66it/s]\n"
     ]
    },
    {
     "name": "stdout",
     "output_type": "stream",
     "text": [
      "Training Loss: 0.0484\n",
      "Validation F1 Score: 0.8062\n",
      "\n",
      "Epoch 18/100\n"
     ]
    },
    {
     "name": "stderr",
     "output_type": "stream",
     "text": [
      "Training: 100%|██████████| 133/133 [00:43<00:00,  3.03it/s]\n",
      "Evaluating: 100%|██████████| 914/914 [00:39<00:00, 23.13it/s]\n"
     ]
    },
    {
     "name": "stdout",
     "output_type": "stream",
     "text": [
      "Training Loss: 0.0399\n",
      "Validation F1 Score: 0.8117\n",
      "\n",
      "Epoch 19/100\n"
     ]
    },
    {
     "name": "stderr",
     "output_type": "stream",
     "text": [
      "Training: 100%|██████████| 133/133 [00:59<00:00,  2.24it/s]\n",
      "Evaluating: 100%|██████████| 914/914 [00:37<00:00, 24.51it/s]\n"
     ]
    },
    {
     "name": "stdout",
     "output_type": "stream",
     "text": [
      "Training Loss: 0.0426\n",
      "Validation F1 Score: 0.8031\n",
      "\n",
      "Epoch 20/100\n"
     ]
    },
    {
     "name": "stderr",
     "output_type": "stream",
     "text": [
      "Training: 100%|██████████| 133/133 [00:50<00:00,  2.64it/s]\n",
      "Evaluating: 100%|██████████| 914/914 [00:43<00:00, 21.20it/s]\n"
     ]
    },
    {
     "name": "stdout",
     "output_type": "stream",
     "text": [
      "Training Loss: 0.0419\n",
      "Validation F1 Score: 0.8097\n",
      "\n",
      "Epoch 21/100\n"
     ]
    },
    {
     "name": "stderr",
     "output_type": "stream",
     "text": [
      "Training: 100%|██████████| 133/133 [00:43<00:00,  3.02it/s]\n",
      "Evaluating: 100%|██████████| 914/914 [00:51<00:00, 17.84it/s]\n"
     ]
    },
    {
     "name": "stdout",
     "output_type": "stream",
     "text": [
      "Training Loss: 0.0337\n",
      "Validation F1 Score: 0.7746\n",
      "\n",
      "Epoch 22/100\n"
     ]
    },
    {
     "name": "stderr",
     "output_type": "stream",
     "text": [
      "Training: 100%|██████████| 133/133 [00:42<00:00,  3.10it/s]\n",
      "Evaluating: 100%|██████████| 914/914 [00:37<00:00, 24.23it/s]\n"
     ]
    },
    {
     "name": "stdout",
     "output_type": "stream",
     "text": [
      "Training Loss: 0.0323\n",
      "Validation F1 Score: 0.8139\n",
      "Epoch 00022: reducing learning rate of group 0 to 1.0000e-05.\n",
      "\n",
      "Epoch 23/100\n"
     ]
    },
    {
     "name": "stderr",
     "output_type": "stream",
     "text": [
      "Training: 100%|██████████| 133/133 [00:58<00:00,  2.29it/s]\n",
      "Evaluating: 100%|██████████| 914/914 [00:39<00:00, 23.36it/s]\n"
     ]
    },
    {
     "name": "stdout",
     "output_type": "stream",
     "text": [
      "Training Loss: 0.0271\n",
      "Validation F1 Score: 0.8184\n",
      "\n",
      "Epoch 24/100\n"
     ]
    },
    {
     "name": "stderr",
     "output_type": "stream",
     "text": [
      "Training: 100%|██████████| 133/133 [00:57<00:00,  2.32it/s]\n",
      "Evaluating: 100%|██████████| 914/914 [00:39<00:00, 23.43it/s]\n"
     ]
    },
    {
     "name": "stdout",
     "output_type": "stream",
     "text": [
      "Training Loss: 0.0231\n",
      "Validation F1 Score: 0.8178\n",
      "\n",
      "Epoch 25/100\n"
     ]
    },
    {
     "name": "stderr",
     "output_type": "stream",
     "text": [
      "Training: 100%|██████████| 133/133 [00:44<00:00,  2.96it/s]\n",
      "Evaluating: 100%|██████████| 914/914 [00:48<00:00, 18.84it/s]\n"
     ]
    },
    {
     "name": "stdout",
     "output_type": "stream",
     "text": [
      "Training Loss: 0.0220\n",
      "Validation F1 Score: 0.8257\n",
      "New best model saved!\n",
      "\n",
      "Epoch 26/100\n"
     ]
    },
    {
     "name": "stderr",
     "output_type": "stream",
     "text": [
      "Training: 100%|██████████| 133/133 [00:44<00:00,  2.98it/s]\n",
      "Evaluating: 100%|██████████| 914/914 [00:51<00:00, 17.65it/s]\n"
     ]
    },
    {
     "name": "stdout",
     "output_type": "stream",
     "text": [
      "Training Loss: 0.0206\n",
      "Validation F1 Score: 0.8217\n",
      "Early stopping triggered\n",
      "Training completed. Best F1 Score: 0.8257\n"
     ]
    },
    {
     "name": "stderr",
     "output_type": "stream",
     "text": [
      "Evaluating: 100%|██████████| 902/902 [00:50<00:00, 17.85it/s]"
     ]
    },
    {
     "name": "stdout",
     "output_type": "stream",
     "text": [
      "Test F1 Score: 0.8321\n"
     ]
    },
    {
     "name": "stderr",
     "output_type": "stream",
     "text": [
      "\n"
     ]
    }
   ],
   "source": [
    "# Main execution code\n",
    "# 정규화, lr스케쥴링, 데이터 증강, 조기종료, 배치정규화\n",
    "epochs = 100\n",
    "best_f1 = train_and_evaluate(model, trainloader, valloader, criterion, optimizer, scaler, device, epochs)\n",
    "\n",
    "print(f\"Training completed. Best F1 Score: {best_f1:.4f}\")\n",
    "\n",
    "# Final evaluation on test set\n",
    "model.load_state_dict(torch.load('model/best_model_nmc.pth'))\n",
    "test_f1 = evaluate(model, testloader, device)\n",
    "print(f\"Test F1 Score: {test_f1:.4f}\")"
   ]
  },
  {
   "cell_type": "code",
   "execution_count": 28,
   "metadata": {},
   "outputs": [],
   "source": [
    "def evaluate(model, dataloader, device, num_classes):\n",
    "    model.eval()\n",
    "    all_preds = []\n",
    "    all_labels = []\n",
    "    \n",
    "    with torch.no_grad():\n",
    "        for images, labels in tqdm(dataloader, desc=\"Evaluating\"):\n",
    "            images, labels = images.to(device), labels.to(device)\n",
    "            \n",
    "            outputs = model(images)\n",
    "            # 각 클래스에 대해 시그모이드 적용 후 임계값 처리\n",
    "            preds = (torch.sigmoid(outputs) > 0.5).int()\n",
    "            \n",
    "            # 배치 단위로 예측값과 라벨 저장\n",
    "            all_preds.append(preds.cpu().numpy())\n",
    "            all_labels.append(labels.cpu().numpy())\n",
    "    \n",
    "    # 배치 데이터를 하나의 배열로 결합\n",
    "    all_preds = np.vstack(all_preds)\n",
    "    all_labels = np.vstack(all_labels)\n",
    "    \n",
    "    # 전체 F1 score 계산\n",
    "    overall_f1 = f1_score(all_labels, all_preds, average='samples')\n",
    "    \n",
    "    # 각 클래스별 F1 score 계산\n",
    "    class_f1_scores = f1_score(all_labels, all_preds, average=None)\n",
    "    \n",
    "    # 각 클래스별 정밀도(Precision)와 재현율(Recall) 계산\n",
    "    class_precision = precision_score(all_labels, all_preds, average=None)\n",
    "    class_recall = recall_score(all_labels, all_preds, average=None)\n",
    "    \n",
    "    # 결과를 딕셔너리로 정리\n",
    "    results = {\n",
    "        'overall_f1': overall_f1,\n",
    "        'class_f1_scores': class_f1_scores,\n",
    "        'class_precision': class_precision,\n",
    "        'class_recall': class_recall\n",
    "    }\n",
    "    \n",
    "    # 각 클래스별 메트릭 출력\n",
    "    print(\"\\nPer-class Performance Metrics:\")\n",
    "    print(\"-\" * 50)\n",
    "    for i in range(num_classes):\n",
    "        print(f\"Class {i}:\")\n",
    "        print(f\"  F1-Score: {class_f1_scores[i]:.4f}\")\n",
    "        print(f\"  Precision: {class_precision[i]:.4f}\")\n",
    "        print(f\"  Recall: {class_recall[i]:.4f}\")\n",
    "    print(\"-\" * 50)\n",
    "    print(f\"Overall F1-Score: {overall_f1:.4f}\")\n",
    "    \n",
    "    return results"
   ]
  },
  {
   "cell_type": "code",
   "execution_count": 29,
   "metadata": {},
   "outputs": [
    {
     "name": "stderr",
     "output_type": "stream",
     "text": [
      "Evaluating: 100%|██████████| 902/902 [00:38<00:00, 23.31it/s]\n"
     ]
    },
    {
     "name": "stdout",
     "output_type": "stream",
     "text": [
      "\n",
      "Per-class Performance Metrics:\n",
      "--------------------------------------------------\n",
      "Class 0:\n",
      "  F1-Score: 0.8984\n",
      "  Precision: 0.9129\n",
      "  Recall: 0.8843\n",
      "Class 1:\n",
      "  F1-Score: 0.8358\n",
      "  Precision: 0.8485\n",
      "  Recall: 0.8235\n",
      "Class 2:\n",
      "  F1-Score: 0.8671\n",
      "  Precision: 0.8726\n",
      "  Recall: 0.8616\n",
      "Class 3:\n",
      "  F1-Score: 0.8563\n",
      "  Precision: 0.8726\n",
      "  Recall: 0.8405\n",
      "Class 4:\n",
      "  F1-Score: 0.6102\n",
      "  Precision: 0.7500\n",
      "  Recall: 0.5143\n",
      "Class 5:\n",
      "  F1-Score: 0.6667\n",
      "  Precision: 0.8333\n",
      "  Recall: 0.5556\n",
      "Class 6:\n",
      "  F1-Score: 0.5000\n",
      "  Precision: 1.0000\n",
      "  Recall: 0.3333\n",
      "--------------------------------------------------\n",
      "Overall F1-Score: 0.8321\n"
     ]
    }
   ],
   "source": [
    "model.load_state_dict(torch.load('model/best_model_nmc.pth'))\n",
    "test_f1 = evaluate(model, testloader, device, 7)"
   ]
  },
  {
   "cell_type": "code",
   "execution_count": null,
   "metadata": {},
   "outputs": [],
   "source": []
  }
 ],
 "metadata": {
  "kernelspec": {
   "display_name": "gm",
   "language": "python",
   "name": "python3"
  },
  "language_info": {
   "codemirror_mode": {
    "name": "ipython",
    "version": 3
   },
   "file_extension": ".py",
   "mimetype": "text/x-python",
   "name": "python",
   "nbconvert_exporter": "python",
   "pygments_lexer": "ipython3",
   "version": "3.7.16"
  }
 },
 "nbformat": 4,
 "nbformat_minor": 2
}
