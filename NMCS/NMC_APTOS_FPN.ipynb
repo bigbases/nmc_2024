{
 "cells": [
  {
   "cell_type": "code",
   "execution_count": 4,
   "metadata": {},
   "outputs": [],
   "source": [
    "\n",
    "import torch \n",
    "import argparse\n",
    "import yaml\n",
    "import time\n",
    "import multiprocessing as mp\n",
    "import torch.nn.functional as F\n",
    "from tabulate import tabulate\n",
    "from tqdm import tqdm\n",
    "from torch.utils.data import DataLoader\n",
    "from pathlib import Path\n",
    "#from torch.utils.tensorboard import SummaryWriter\n",
    "from torch.cuda.amp import GradScaler, autocast\n",
    "from torch.nn.parallel import DistributedDataParallel as DDP\n",
    "from torch.utils.data import DistributedSampler, RandomSampler\n",
    "from torch import distributed as dist\n",
    "from nmc.models import *\n",
    "from nmc.datasets import * \n",
    "from nmc.augmentations import get_train_augmentation, get_val_augmentation\n",
    "from nmc.losses import get_loss\n",
    "from nmc.schedulers import get_scheduler\n",
    "from nmc.optimizers import get_optimizer\n",
    "from nmc.utils.utils import fix_seeds, setup_cudnn, cleanup_ddp, setup_ddp\n",
    "from tools.val import evaluate_epi\n",
    "from nmc.utils.episodic_utils import * \n",
    "from scipy.cluster import hierarchy\n",
    "from sklearn.preprocessing import MinMaxScaler\n",
    "import matplotlib.pyplot as plt\n",
    "from torchvision import models\n",
    "import torch.nn as nn\n",
    "from torch.optim import lr_scheduler\n",
    "import numpy as np\n",
    "from sklearn.metrics import accuracy_score, f1_score\n",
    "import pandas as pd\n",
    "import matplotlib.pyplot as plt\n",
    "import seaborn as sns\n",
    "from sklearn.metrics import mutual_info_score\n",
    "from scipy.cluster import hierarchy\n",
    "from tqdm import tqdm\n",
    "from sklearn.metrics import accuracy_score, precision_score, recall_score, f1_score, hamming_loss\n",
    "from torch.utils.data import Dataset, DataLoader, Sampler\n",
    "from torch.utils.data import Subset\n",
    "import torch.optim as optim\n",
    "from torchvision import transforms\n",
    "from PIL import Image\n",
    "import cv2"
   ]
  },
  {
   "cell_type": "code",
   "execution_count": 5,
   "metadata": {},
   "outputs": [
    {
     "name": "stdout",
     "output_type": "stream",
     "text": [
      "{'DEVICE': 'cuda:0', 'SAVE_DIR': 'output', 'MODEL': {'NAME': 'EfficientNetV2MModel', 'BACKBONE': 'EfficientNetV2', 'PRETRAINED': '/workspace/jhmoon/nmc_2024/checkpoints/pretrained/tf_efficientnetv2_m_weights.pth', 'UNFREEZE': 'full', 'VERSION': '384_32'}, 'DATASET': {'NAME': 'APTOSDataset', 'ROOT': '/data/public_data/aptos', 'TRAIN_RATIO': 0.7, 'VALID_RATIO': 0.15, 'TEST_RATIO': 0.15}, 'TRAIN': {'IMAGE_SIZE': [384, 384], 'BATCH_SIZE': 32, 'EPOCHS': 100, 'EVAL_INTERVAL': 25, 'AMP': False, 'DDP': False}, 'LOSS': {'NAME': 'CrossEntropy', 'CLS_WEIGHTS': False}, 'OPTIMIZER': {'NAME': 'adamw', 'LR': 0.001, 'WEIGHT_DECAY': 0.01}, 'SCHEDULER': {'NAME': 'warmuppolylr', 'POWER': 0.9, 'WARMUP': 10, 'WARMUP_RATIO': 0.1}, 'EVAL': {'MODEL_PATH': 'checkpoints/pretrained/FGMaxxVit/FGMaxxVit.FGMaxxVit.APTOS.pth', 'IMAGE_SIZE': [384, 384]}, 'TEST': {'MODEL_PATH': 'checkpoints/pretrained/FGMaxxVit/FGMaxxVit.FGMaxxVit.APTOS.pth', 'FILE': 'assests/ade', 'IMAGE_SIZE': [384, 384], 'OVERLAY': True}}\n"
     ]
    }
   ],
   "source": [
    "with open('../configs/APTOS.yaml') as f:\n",
    "    cfg = yaml.load(f, Loader=yaml.SafeLoader)\n",
    "print(cfg)\n",
    "fix_seeds(3407)\n",
    "setup_cudnn()\n",
    "gpu = setup_ddp()\n",
    "save_dir = Path(cfg['SAVE_DIR'])\n",
    "save_dir.mkdir(exist_ok=True)\n",
    "cleanup_ddp()"
   ]
  },
  {
   "cell_type": "code",
   "execution_count": 6,
   "metadata": {},
   "outputs": [],
   "source": [
    "# Early Stopping\n",
    "class EarlyStopping:\n",
    "    def __init__(self, patience=7, min_delta=0):\n",
    "        self.patience = patience\n",
    "        self.min_delta = min_delta\n",
    "        self.counter = 0\n",
    "        self.best_score = None\n",
    "        self.early_stop = False\n",
    "\n",
    "    def __call__(self, val_score):\n",
    "        if self.best_score is None:\n",
    "            self.best_score = val_score\n",
    "        elif val_score < self.best_score + self.min_delta:\n",
    "            self.counter += 1\n",
    "            if self.counter >= self.patience:\n",
    "                self.early_stop = True\n",
    "        else:\n",
    "            self.best_score = val_score\n",
    "            self.counter = 0"
   ]
  },
  {
   "cell_type": "code",
   "execution_count": 7,
   "metadata": {},
   "outputs": [],
   "source": [
    "def get_train_augmentation(size):\n",
    "    return transforms.Compose([\n",
    "        transforms.Resize(size),\n",
    "        transforms.RandomHorizontalFlip(),\n",
    "        transforms.RandomRotation(10),\n",
    "        transforms.ColorJitter(brightness=0.2, contrast=0.2, saturation=0.2),\n",
    "        transforms.Lambda(lambda x: x.float() if x.dtype == torch.uint8 else x),\n",
    "        transforms.Lambda(lambda x: x / 255.0 if x.max() > 1.0 else x),\n",
    "        transforms.Normalize([0.485, 0.456, 0.406], [0.229, 0.224, 0.225])\n",
    "    ])\n",
    "\n",
    "def get_val_test_transform(size):\n",
    "    return transforms.Compose([\n",
    "        transforms.Resize(size),\n",
    "        transforms.Lambda(lambda x: x.float() if x.dtype == torch.uint8 else x),\n",
    "        transforms.Lambda(lambda x: x / 255.0 if x.max() > 1.0 else x),\n",
    "        transforms.Normalize([0.485, 0.456, 0.406], [0.229, 0.224, 0.225])\n",
    "    ])\n"
   ]
  },
  {
   "cell_type": "code",
   "execution_count": 8,
   "metadata": {},
   "outputs": [],
   "source": [
    "class BalancedBatchSampler(Sampler):\n",
    "    def __init__(self, dataset, batch_size):\n",
    "        self.dataset = dataset\n",
    "        self.batch_size = batch_size\n",
    "        \n",
    "        # 데이터셋에서 레이블 추출\n",
    "        if hasattr(dataset, 'labels'):\n",
    "            self.labels = dataset.labels\n",
    "            if isinstance(self.labels, np.ndarray):\n",
    "                self.labels = torch.from_numpy(self.labels)\n",
    "        elif hasattr(dataset, 'targets'):\n",
    "            self.labels = dataset.targets\n",
    "            if isinstance(self.labels, np.ndarray):\n",
    "                self.labels = torch.from_numpy(self.labels)\n",
    "        else:\n",
    "            try:\n",
    "                self.labels = [sample[1] for sample in dataset]\n",
    "                if isinstance(self.labels[0], np.ndarray):\n",
    "                    self.labels = torch.from_numpy(np.array(self.labels))\n",
    "                else:\n",
    "                    self.labels = torch.tensor(self.labels)\n",
    "            except:\n",
    "                raise ValueError(\"Cannot access labels from dataset\")\n",
    "        \n",
    "        self.n_classes = self.labels.shape[1] if len(self.labels.shape) > 1 else len(torch.unique(self.labels))\n",
    "        self.samples_per_class = batch_size // self.n_classes\n",
    "        \n",
    "        # 클래스별 인덱스 저장\n",
    "        self.class_indices = []\n",
    "        for i in range(self.n_classes):\n",
    "            if len(self.labels.shape) > 1:\n",
    "                idx = torch.where(self.labels[:, i] == 1)[0]\n",
    "            else:\n",
    "                idx = torch.where(self.labels == i)[0]\n",
    "            self.class_indices.append(idx)\n",
    "        \n",
    "        self.n_batches = len(self.dataset) // batch_size\n",
    "        if len(self.dataset) % batch_size != 0:\n",
    "            self.n_batches += 1\n",
    "    \n",
    "    def __iter__(self):\n",
    "        for _ in range(self.n_batches):\n",
    "            batch_indices = []\n",
    "            for class_idx in range(self.n_classes):\n",
    "                class_samples = self.class_indices[class_idx]\n",
    "                if len(class_samples) == 0:\n",
    "                    continue\n",
    "                \n",
    "                # 랜덤 선택\n",
    "                selected = class_samples[torch.randint(len(class_samples), \n",
    "                                                     (self.samples_per_class,))]\n",
    "                batch_indices.extend(selected.tolist())\n",
    "            \n",
    "            # 배치 크기에 맞게 자르기\n",
    "            if len(batch_indices) > self.batch_size:\n",
    "                batch_indices = batch_indices[:self.batch_size]\n",
    "            \n",
    "            # 중요: 리스트로 yield\n",
    "            yield batch_indices\n",
    "    \n",
    "    def __len__(self):\n",
    "        return self.n_batches"
   ]
  },
  {
   "cell_type": "code",
   "execution_count": 9,
   "metadata": {},
   "outputs": [
    {
     "name": "stdout",
     "output_type": "stream",
     "text": [
      "device :  cuda:0\n",
      "/data/public_data/aptos/combined_images\n",
      "0    1263\n",
      "2     699\n",
      "1     259\n",
      "4     207\n",
      "3     135\n",
      "Name: diagnosis, dtype: int64\n",
      "Train size: 2563\n",
      "0    271\n",
      "2    150\n",
      "1     55\n",
      "4     44\n",
      "3     29\n",
      "Name: diagnosis, dtype: int64\n",
      "Validation size: 549\n",
      "0    271\n",
      "2    150\n",
      "1     56\n",
      "4     44\n",
      "3     29\n",
      "Name: diagnosis, dtype: int64\n",
      "Test size: 550\n"
     ]
    }
   ],
   "source": [
    "start = time.time()\n",
    "best_mf1 = 0.0\n",
    "device = torch.device(cfg['DEVICE'])\n",
    "print(\"device : \", device)\n",
    "num_workers = mp.cpu_count()\n",
    "train_cfg, eval_cfg = cfg['TRAIN'], cfg['EVAL']\n",
    "dataset_cfg, model_cfg = cfg['DATASET'], cfg['MODEL']\n",
    "loss_cfg, optim_cfg, sched_cfg = cfg['LOSS'], cfg['OPTIMIZER'], cfg['SCHEDULER']\n",
    "epochs, lr = train_cfg['EPOCHS'], optim_cfg['LR']\n",
    "\n",
    "image_size = [256,256]\n",
    "image_dir = Path(dataset_cfg['ROOT']) / 'train_images'\n",
    "train_transform = get_train_augmentation(image_size)\n",
    "val_test_transform = get_val_test_transform(image_size)\n",
    "batch_size = 32\n",
    "\n",
    "\n",
    "dataset = eval(dataset_cfg['NAME'])(\n",
    "    dataset_cfg['ROOT'] + '/combined_images',\n",
    "    dataset_cfg['TRAIN_RATIO'],\n",
    "    dataset_cfg['VALID_RATIO'],\n",
    "    dataset_cfg['TEST_RATIO'],\n",
    "    transform=None\n",
    ")\n",
    "trainset, valset, testset = dataset.get_splits()\n",
    "trainset.transform = train_transform\n",
    "valset.transform = val_test_transform\n",
    "testset.transform = val_test_transform\n",
    "\n",
    "# DataLoader 수정\n",
    "trainloader = DataLoader(\n",
    "    trainset, \n",
    "    batch_sampler=BalancedBatchSampler(trainset, batch_size=batch_size),\n",
    "    num_workers=num_workers,\n",
    "    pin_memory=True\n",
    ")\n",
    "valloader = DataLoader(valset, batch_size=1, num_workers=1, pin_memory=True)\n",
    "testloader = DataLoader(testset, batch_size=1, num_workers=1, pin_memory=True)\n"
   ]
  },
  {
   "cell_type": "code",
   "execution_count": 10,
   "metadata": {},
   "outputs": [],
   "source": [
    "class WeightedFeatureFusion(nn.Module):\n",
    "    def __init__(self, num_inputs):\n",
    "        super().__init__()\n",
    "        self.weights = nn.Parameter(torch.ones(num_inputs, dtype=torch.float32), requires_grad=True)\n",
    "        \n",
    "    def forward(self, features):\n",
    "        # weights를 softmax로 정규화\n",
    "        normalized_weights = F.softmax(self.weights, dim=0)\n",
    "        # 가중치를 적용하고 합산\n",
    "        weighted_sum = sum(w * f for w, f in zip(normalized_weights, features))\n",
    "        return weighted_sum\n"
   ]
  },
  {
   "cell_type": "code",
   "execution_count": 11,
   "metadata": {},
   "outputs": [],
   "source": [
    "class FPNBlock(nn.Module):\n",
    "    def __init__(self, in_channels, out_channels=None):\n",
    "        super().__init__()\n",
    "        if out_channels is None:\n",
    "            out_channels = in_channels\n",
    "            \n",
    "        # Lateral connections (1x1 conv)\n",
    "        self.lateral_convs = nn.ModuleList([\n",
    "            nn.Conv2d(in_channels, out_channels, 1)\n",
    "            for _ in range(5)  # P3-P7 레벨\n",
    "        ])\n",
    "        \n",
    "        # FPN output convs (3x3 conv)\n",
    "        self.fpn_convs = nn.ModuleList([\n",
    "            nn.Sequential(\n",
    "                nn.Conv2d(out_channels, out_channels, 3, padding=1),\n",
    "                nn.BatchNorm2d(out_channels),\n",
    "                nn.ReLU()\n",
    "            ) for _ in range(5)  # P3-P7 레벨\n",
    "        ])\n",
    "        \n",
    "    def forward(self, features):\n",
    "        # features: P3->P7 순서 (하위레벨->상위레벨)\n",
    "        \n",
    "        # Lateral connections\n",
    "        laterals = [\n",
    "            lateral_conv(feature)\n",
    "            for feature, lateral_conv in zip(features, self.lateral_convs)\n",
    "        ]\n",
    "        \n",
    "        # Top-down pathway\n",
    "        for i in range(len(laterals)-1, 0, -1):\n",
    "            # 상위 레벨 feature를 upsampling\n",
    "            upsampled = F.interpolate(\n",
    "                laterals[i], \n",
    "                size=laterals[i-1].shape[-2:],\n",
    "                mode='nearest'\n",
    "            )\n",
    "            # 하위 레벨 feature와 결합\n",
    "            laterals[i-1] = laterals[i-1] + upsampled\n",
    "        \n",
    "        # Apply FPN convs\n",
    "        outputs = [\n",
    "            fpn_conv(lateral)\n",
    "            for lateral, fpn_conv in zip(laterals, self.fpn_convs)\n",
    "        ]\n",
    "        \n",
    "        return outputs"
   ]
  },
  {
   "cell_type": "code",
   "execution_count": 12,
   "metadata": {},
   "outputs": [],
   "source": [
    "class DualEfficientNetFPN(nn.Module):\n",
    "    def __init__(self, efficientnet_nmc, efficientnet_aptos, num_classes=5, num_fpn_blocks=3):\n",
    "        super().__init__()\n",
    "        \n",
    "        # EfficientNet 모델들 저장 및 freeze\n",
    "        self.nmc_model = efficientnet_nmc\n",
    "        self.aptos_model = efficientnet_aptos\n",
    "        \n",
    "        # Freeze EfficientNet models\n",
    "        for param in self.nmc_model.parameters():\n",
    "            param.requires_grad = False\n",
    "        for param in self.aptos_model.parameters():\n",
    "            param.requires_grad = False\n",
    "        \n",
    "        # 주요 블록들의 출력 채널 수 확인\n",
    "        main_blocks = self.get_main_blocks(efficientnet_nmc)\n",
    "        \n",
    "        def find_out_channels(block):\n",
    "            modules = list(block.modules())\n",
    "            for module in reversed(modules):\n",
    "                if isinstance(module, nn.Conv2d):\n",
    "                    return module.out_channels\n",
    "            return None\n",
    "\n",
    "        # 각 블록의 채널 수 저장\n",
    "        self.block_channels = [find_out_channels(block) for block in main_blocks]\n",
    "        \n",
    "        # FPN에서 사용할 채널 수\n",
    "        self.fpn_channels = 160\n",
    "        \n",
    "        # Feature fusion layers\n",
    "        self.fusion_layers = nn.ModuleList([\n",
    "            nn.Sequential(\n",
    "                nn.Conv2d(in_channels * 2, self.fpn_channels, 1),\n",
    "                nn.BatchNorm2d(self.fpn_channels),\n",
    "                nn.ReLU()\n",
    "            ) for in_channels in self.block_channels\n",
    "        ])\n",
    "        \n",
    "        # FPN blocks\n",
    "        self.fpn_blocks = nn.ModuleList([\n",
    "            FPNBlock(in_channels=self.fpn_channels, out_channels=self.fpn_channels) \n",
    "            for _ in range(num_fpn_blocks)\n",
    "        ])\n",
    "        \n",
    "        # Classifier\n",
    "        self.classifier = nn.Sequential(\n",
    "            nn.AdaptiveAvgPool2d(1),\n",
    "            nn.Flatten(),\n",
    "            nn.BatchNorm1d(self.fpn_channels * 5),\n",
    "            nn.Linear(self.fpn_channels * 5, num_classes)\n",
    "        )\n",
    "    \n",
    "    @staticmethod\n",
    "    def get_main_blocks(model):\n",
    "        return [\n",
    "            model.features[i] for i in range(1, 6)\n",
    "        ]\n",
    "    \n",
    "    def extract_features(self, x, model):\n",
    "        features = []\n",
    "        x = model.features[0](x)\n",
    "        \n",
    "        for block in self.get_main_blocks(model):\n",
    "            x = block(x)\n",
    "            features.append(x)\n",
    "        return features\n",
    "    \n",
    "    def forward(self, x):\n",
    "        # 각 모델에서 feature 추출\n",
    "        nmc_features = self.extract_features(x, self.nmc_model)\n",
    "        aptos_features = self.extract_features(x, self.aptos_model)\n",
    "        \n",
    "        # Feature fusion\n",
    "        combined_features = []\n",
    "        for nmc_feat, aptos_feat, fusion_layer in zip(nmc_features, aptos_features, self.fusion_layers):\n",
    "            concat_feat = torch.cat([nmc_feat, aptos_feat], dim=1)\n",
    "            fused_feat = fusion_layer(concat_feat)\n",
    "            combined_features.append(fused_feat)\n",
    "        \n",
    "        # FPN blocks 통과\n",
    "        fpn_features = combined_features\n",
    "        for fpn in self.fpn_blocks:\n",
    "            fpn_features = fpn(fpn_features)\n",
    "        \n",
    "        # 분류\n",
    "        multi_scale_features = torch.cat([self.classifier[0](feat) for feat in fpn_features], dim=1)\n",
    "        out = self.classifier[1](multi_scale_features)\n",
    "        out = self.classifier[2](out)\n",
    "        out = self.classifier[3](out)\n",
    "        \n",
    "        return out"
   ]
  },
  {
   "cell_type": "code",
   "execution_count": 13,
   "metadata": {},
   "outputs": [],
   "source": [
    "\n",
    "def train_epoch(model, dataloader, criterion, optimizer, scaler, device):\n",
    "    model.train()\n",
    "    total_loss = 0\n",
    "    for images, labels in tqdm(dataloader, desc=\"Training\"):\n",
    "        images, labels = images.to(device), labels.to(device)\n",
    "        \n",
    "        optimizer.zero_grad()\n",
    "        \n",
    "        with autocast(enabled=scaler is not None):\n",
    "            outputs = model(images)\n",
    "            loss = criterion(outputs.squeeze(), labels.float())\n",
    "        \n",
    "        if scaler is not None:\n",
    "            scaler.scale(loss).backward()\n",
    "            scaler.step(optimizer)\n",
    "            scaler.update()\n",
    "        else:\n",
    "            loss.backward()\n",
    "            optimizer.step()\n",
    "        \n",
    "        total_loss += loss.item()\n",
    "    \n",
    "    return total_loss / len(dataloader)"
   ]
  },
  {
   "cell_type": "code",
   "execution_count": 14,
   "metadata": {},
   "outputs": [],
   "source": [
    "def evaluate(model, dataloader, device):\n",
    "    model.eval()\n",
    "    all_preds = []\n",
    "    all_labels = []\n",
    "    \n",
    "    with torch.no_grad():\n",
    "        for images, labels in tqdm(dataloader, desc=\"Evaluating\"):\n",
    "            images, labels = images.to(device), labels.to(device)\n",
    "            \n",
    "            outputs = model(images)\n",
    "            # 각 클래스에 대해 시그모이드 적용 후 임계값 처리\n",
    "            preds = (torch.sigmoid(outputs) > 0.5).int()\n",
    "            \n",
    "            # 배치 단위로 예측값과 라벨 저장\n",
    "            all_preds.append(preds.cpu().numpy())\n",
    "            all_labels.append(labels.cpu().numpy())\n",
    "    \n",
    "    # 배치 데이터를 하나의 배열로 결합\n",
    "    all_preds = np.vstack(all_preds)\n",
    "    all_labels = np.vstack(all_labels)\n",
    "    \n",
    "    # 멀티라벨 F1 score 계산\n",
    "    f1 = f1_score(all_labels, all_preds, average='samples')  # or 'micro', 'macro', 'weighted'\n",
    "    \n",
    "    return f1"
   ]
  },
  {
   "cell_type": "code",
   "execution_count": 15,
   "metadata": {},
   "outputs": [],
   "source": [
    "def train_and_evaluate(model, train_loader, val_loader, criterion, optimizer, scaler, device, epochs):\n",
    "    best_f1 = 0.0\n",
    "    early_stopping = EarlyStopping(patience=10, min_delta=0.001)\n",
    "    \n",
    "    for epoch in range(epochs):\n",
    "        print(f\"Epoch {epoch+1}/{epochs}\")\n",
    "        \n",
    "        train_loss = train_epoch(model, train_loader, criterion, optimizer, scaler, device)\n",
    "        val_f1 = evaluate(model, val_loader, device)\n",
    "        \n",
    "        print(f\"Training Loss: {train_loss:.4f}\")\n",
    "        print(f\"Validation F1 Score: {val_f1:.4f}\")\n",
    "        \n",
    "        scheduler.step(val_f1)\n",
    "        \n",
    "        if val_f1 > best_f1:\n",
    "            best_f1 = val_f1\n",
    "            torch.save(model.state_dict(), 'model/fusion/best_model_combined_fpn.pth')\n",
    "            print(\"New best model saved!\")\n",
    "        \n",
    "        early_stopping(val_f1)\n",
    "        if early_stopping.early_stop:\n",
    "            print(\"Early stopping triggered\")\n",
    "            break\n",
    "        \n",
    "        print()\n",
    "    \n",
    "    return best_f1"
   ]
  },
  {
   "cell_type": "code",
   "execution_count": 16,
   "metadata": {},
   "outputs": [
    {
     "name": "stderr",
     "output_type": "stream",
     "text": [
      "/root/anaconda3/envs/gm/lib/python3.7/site-packages/torchvision/models/_utils.py:209: UserWarning: The parameter 'pretrained' is deprecated since 0.13 and may be removed in the future, please use 'weights' instead.\n",
      "  f\"The parameter '{pretrained_param}' is deprecated since 0.13 and may be removed in the future, \"\n",
      "/root/anaconda3/envs/gm/lib/python3.7/site-packages/torchvision/models/_utils.py:223: UserWarning: Arguments other than a weight enum or `None` for 'weights' are deprecated since 0.13 and may be removed in the future. The current behavior is equivalent to passing `weights=None`.\n",
      "  warnings.warn(msg)\n"
     ]
    }
   ],
   "source": [
    "# Model definition (changed to binary classification)\n",
    "efficientnet_nmc = models.efficientnet_v2_m(pretrained=False)\n",
    "num_ftrs = efficientnet_nmc.classifier[1].in_features\n",
    "efficientnet_nmc.classifier = nn.Sequential(\n",
    "    nn.BatchNorm1d(num_ftrs),\n",
    "    nn.Linear(num_ftrs, 7)\n",
    ")\n",
    "efficientnet_nmc = efficientnet_nmc.to(device)\n",
    "\n",
    "# Model definition (changed to binary classification)\n",
    "efficientnet_aptos = models.efficientnet_v2_m(pretrained=False)\n",
    "num_ftrs = efficientnet_aptos.classifier[1].in_features\n",
    "efficientnet_aptos.classifier = nn.Sequential(\n",
    "    nn.BatchNorm1d(num_ftrs),\n",
    "    nn.Linear(num_ftrs, 5)\n",
    ")\n",
    "efficientnet_aptos = efficientnet_aptos.to(device)"
   ]
  },
  {
   "cell_type": "code",
   "execution_count": 14,
   "metadata": {},
   "outputs": [
    {
     "name": "stdout",
     "output_type": "stream",
     "text": [
      "Epoch 1/100\n"
     ]
    },
    {
     "name": "stderr",
     "output_type": "stream",
     "text": [
      "Training: 100%|██████████| 81/81 [00:47<00:00,  1.71it/s]\n",
      "Evaluating: 100%|██████████| 549/549 [01:45<00:00,  5.19it/s]\n"
     ]
    },
    {
     "name": "stdout",
     "output_type": "stream",
     "text": [
      "Training Loss: 0.5368\n",
      "Validation F1 Score: 0.6345\n",
      "New best model saved!\n",
      "\n",
      "Epoch 2/100\n"
     ]
    },
    {
     "name": "stderr",
     "output_type": "stream",
     "text": [
      "Training: 100%|██████████| 81/81 [00:35<00:00,  2.29it/s]\n",
      "Evaluating: 100%|██████████| 549/549 [01:59<00:00,  4.60it/s]\n"
     ]
    },
    {
     "name": "stdout",
     "output_type": "stream",
     "text": [
      "Training Loss: 0.4682\n",
      "Validation F1 Score: 0.5595\n",
      "\n",
      "Epoch 3/100\n"
     ]
    },
    {
     "name": "stderr",
     "output_type": "stream",
     "text": [
      "Training: 100%|██████████| 81/81 [00:44<00:00,  1.83it/s]\n",
      "Evaluating: 100%|██████████| 549/549 [01:48<00:00,  5.05it/s]\n"
     ]
    },
    {
     "name": "stdout",
     "output_type": "stream",
     "text": [
      "Training Loss: 0.4288\n",
      "Validation F1 Score: 0.6400\n",
      "New best model saved!\n",
      "\n",
      "Epoch 4/100\n"
     ]
    },
    {
     "name": "stderr",
     "output_type": "stream",
     "text": [
      "Training: 100%|██████████| 81/81 [00:41<00:00,  1.94it/s]\n",
      "Evaluating: 100%|██████████| 549/549 [01:49<00:00,  5.03it/s]\n"
     ]
    },
    {
     "name": "stdout",
     "output_type": "stream",
     "text": [
      "Training Loss: 0.3970\n",
      "Validation F1 Score: 0.6072\n",
      "\n",
      "Epoch 5/100\n"
     ]
    },
    {
     "name": "stderr",
     "output_type": "stream",
     "text": [
      "Training: 100%|██████████| 81/81 [00:41<00:00,  1.94it/s]\n",
      "Evaluating: 100%|██████████| 549/549 [01:52<00:00,  4.89it/s]\n"
     ]
    },
    {
     "name": "stdout",
     "output_type": "stream",
     "text": [
      "Training Loss: 0.3685\n",
      "Validation F1 Score: 0.7034\n",
      "New best model saved!\n",
      "\n",
      "Epoch 6/100\n"
     ]
    },
    {
     "name": "stderr",
     "output_type": "stream",
     "text": [
      "Training: 100%|██████████| 81/81 [00:42<00:00,  1.90it/s]\n",
      "Evaluating: 100%|██████████| 549/549 [01:50<00:00,  4.98it/s]\n"
     ]
    },
    {
     "name": "stdout",
     "output_type": "stream",
     "text": [
      "Training Loss: 0.3307\n",
      "Validation F1 Score: 0.6715\n",
      "\n",
      "Epoch 7/100\n"
     ]
    },
    {
     "name": "stderr",
     "output_type": "stream",
     "text": [
      "Training: 100%|██████████| 81/81 [00:41<00:00,  1.96it/s]\n",
      "Evaluating: 100%|██████████| 549/549 [01:51<00:00,  4.93it/s]\n"
     ]
    },
    {
     "name": "stdout",
     "output_type": "stream",
     "text": [
      "Training Loss: 0.3068\n",
      "Validation F1 Score: 0.6290\n",
      "\n",
      "Epoch 8/100\n"
     ]
    },
    {
     "name": "stderr",
     "output_type": "stream",
     "text": [
      "Training: 100%|██████████| 81/81 [00:39<00:00,  2.06it/s]\n",
      "Evaluating: 100%|██████████| 549/549 [01:47<00:00,  5.09it/s]\n"
     ]
    },
    {
     "name": "stdout",
     "output_type": "stream",
     "text": [
      "Training Loss: 0.2759\n",
      "Validation F1 Score: 0.5729\n",
      "\n",
      "Epoch 9/100\n"
     ]
    },
    {
     "name": "stderr",
     "output_type": "stream",
     "text": [
      "Training: 100%|██████████| 81/81 [00:42<00:00,  1.90it/s]\n",
      "Evaluating: 100%|██████████| 549/549 [01:51<00:00,  4.94it/s]\n"
     ]
    },
    {
     "name": "stdout",
     "output_type": "stream",
     "text": [
      "Training Loss: 0.2436\n",
      "Validation F1 Score: 0.6782\n",
      "\n",
      "Epoch 10/100\n"
     ]
    },
    {
     "name": "stderr",
     "output_type": "stream",
     "text": [
      "Training: 100%|██████████| 81/81 [00:42<00:00,  1.91it/s]\n",
      "Evaluating: 100%|██████████| 549/549 [01:46<00:00,  5.15it/s]\n"
     ]
    },
    {
     "name": "stdout",
     "output_type": "stream",
     "text": [
      "Training Loss: 0.2158\n",
      "Validation F1 Score: 0.6296\n",
      "\n",
      "Epoch 11/100\n"
     ]
    },
    {
     "name": "stderr",
     "output_type": "stream",
     "text": [
      "Training: 100%|██████████| 81/81 [00:43<00:00,  1.88it/s]\n",
      "Evaluating: 100%|██████████| 549/549 [01:50<00:00,  4.95it/s]\n"
     ]
    },
    {
     "name": "stdout",
     "output_type": "stream",
     "text": [
      "Training Loss: 0.1977\n",
      "Validation F1 Score: 0.5446\n",
      "Epoch 00011: reducing learning rate of group 0 to 1.0000e-05.\n",
      "\n",
      "Epoch 12/100\n"
     ]
    },
    {
     "name": "stderr",
     "output_type": "stream",
     "text": [
      "Training: 100%|██████████| 81/81 [00:42<00:00,  1.93it/s]\n",
      "Evaluating: 100%|██████████| 549/549 [01:47<00:00,  5.12it/s]\n"
     ]
    },
    {
     "name": "stdout",
     "output_type": "stream",
     "text": [
      "Training Loss: 0.1805\n",
      "Validation F1 Score: 0.7611\n",
      "New best model saved!\n",
      "\n",
      "Epoch 13/100\n"
     ]
    },
    {
     "name": "stderr",
     "output_type": "stream",
     "text": [
      "Training: 100%|██████████| 81/81 [00:40<00:00,  1.99it/s]\n",
      "Evaluating: 100%|██████████| 549/549 [01:52<00:00,  4.90it/s]\n"
     ]
    },
    {
     "name": "stdout",
     "output_type": "stream",
     "text": [
      "Training Loss: 0.1786\n",
      "Validation F1 Score: 0.7823\n",
      "New best model saved!\n",
      "\n",
      "Epoch 14/100\n"
     ]
    },
    {
     "name": "stderr",
     "output_type": "stream",
     "text": [
      "Training: 100%|██████████| 81/81 [00:34<00:00,  2.36it/s]\n",
      "Evaluating: 100%|██████████| 549/549 [01:41<00:00,  5.42it/s]\n"
     ]
    },
    {
     "name": "stdout",
     "output_type": "stream",
     "text": [
      "Training Loss: 0.1749\n",
      "Validation F1 Score: 0.7823\n",
      "\n",
      "Epoch 15/100\n"
     ]
    },
    {
     "name": "stderr",
     "output_type": "stream",
     "text": [
      "Training: 100%|██████████| 81/81 [00:34<00:00,  2.33it/s]\n",
      "Evaluating: 100%|██████████| 549/549 [01:40<00:00,  5.46it/s]\n"
     ]
    },
    {
     "name": "stdout",
     "output_type": "stream",
     "text": [
      "Training Loss: 0.1751\n",
      "Validation F1 Score: 0.7875\n",
      "New best model saved!\n",
      "\n",
      "Epoch 16/100\n"
     ]
    },
    {
     "name": "stderr",
     "output_type": "stream",
     "text": [
      "Training: 100%|██████████| 81/81 [00:36<00:00,  2.21it/s]\n",
      "Evaluating: 100%|██████████| 549/549 [01:44<00:00,  5.26it/s]\n"
     ]
    },
    {
     "name": "stdout",
     "output_type": "stream",
     "text": [
      "Training Loss: 0.1770\n",
      "Validation F1 Score: 0.7860\n",
      "\n",
      "Epoch 17/100\n"
     ]
    },
    {
     "name": "stderr",
     "output_type": "stream",
     "text": [
      "Training: 100%|██████████| 81/81 [00:37<00:00,  2.17it/s]\n",
      "Evaluating: 100%|██████████| 549/549 [01:43<00:00,  5.31it/s]\n"
     ]
    },
    {
     "name": "stdout",
     "output_type": "stream",
     "text": [
      "Training Loss: 0.1699\n",
      "Validation F1 Score: 0.7854\n",
      "\n",
      "Epoch 18/100\n"
     ]
    },
    {
     "name": "stderr",
     "output_type": "stream",
     "text": [
      "Training: 100%|██████████| 81/81 [00:38<00:00,  2.09it/s]\n",
      "Evaluating: 100%|██████████| 549/549 [01:36<00:00,  5.70it/s]\n"
     ]
    },
    {
     "name": "stdout",
     "output_type": "stream",
     "text": [
      "Training Loss: 0.1648\n",
      "Validation F1 Score: 0.8030\n",
      "New best model saved!\n",
      "\n",
      "Epoch 19/100\n"
     ]
    },
    {
     "name": "stderr",
     "output_type": "stream",
     "text": [
      "Training: 100%|██████████| 81/81 [00:38<00:00,  2.08it/s]\n",
      "Evaluating: 100%|██████████| 549/549 [01:48<00:00,  5.06it/s]\n"
     ]
    },
    {
     "name": "stdout",
     "output_type": "stream",
     "text": [
      "Training Loss: 0.1644\n",
      "Validation F1 Score: 0.7790\n",
      "\n",
      "Epoch 20/100\n"
     ]
    },
    {
     "name": "stderr",
     "output_type": "stream",
     "text": [
      "Training: 100%|██████████| 81/81 [00:37<00:00,  2.14it/s]\n",
      "Evaluating: 100%|██████████| 549/549 [01:40<00:00,  5.46it/s]\n"
     ]
    },
    {
     "name": "stdout",
     "output_type": "stream",
     "text": [
      "Training Loss: 0.1602\n",
      "Validation F1 Score: 0.7653\n",
      "\n",
      "Epoch 21/100\n"
     ]
    },
    {
     "name": "stderr",
     "output_type": "stream",
     "text": [
      "Training: 100%|██████████| 81/81 [00:37<00:00,  2.16it/s]\n",
      "Evaluating: 100%|██████████| 549/549 [01:48<00:00,  5.07it/s]\n"
     ]
    },
    {
     "name": "stdout",
     "output_type": "stream",
     "text": [
      "Training Loss: 0.1574\n",
      "Validation F1 Score: 0.8087\n",
      "New best model saved!\n",
      "\n",
      "Epoch 22/100\n"
     ]
    },
    {
     "name": "stderr",
     "output_type": "stream",
     "text": [
      "Training: 100%|██████████| 81/81 [00:38<00:00,  2.08it/s]\n",
      "Evaluating: 100%|██████████| 549/549 [01:43<00:00,  5.29it/s]\n"
     ]
    },
    {
     "name": "stdout",
     "output_type": "stream",
     "text": [
      "Training Loss: 0.1576\n",
      "Validation F1 Score: 0.8002\n",
      "\n",
      "Epoch 23/100\n"
     ]
    },
    {
     "name": "stderr",
     "output_type": "stream",
     "text": [
      "Training: 100%|██████████| 81/81 [00:37<00:00,  2.15it/s]\n",
      "Evaluating: 100%|██████████| 549/549 [01:47<00:00,  5.10it/s]\n"
     ]
    },
    {
     "name": "stdout",
     "output_type": "stream",
     "text": [
      "Training Loss: 0.1535\n",
      "Validation F1 Score: 0.8097\n",
      "New best model saved!\n",
      "\n",
      "Epoch 24/100\n"
     ]
    },
    {
     "name": "stderr",
     "output_type": "stream",
     "text": [
      "Training: 100%|██████████| 81/81 [00:38<00:00,  2.10it/s]\n",
      "Evaluating: 100%|██████████| 549/549 [01:50<00:00,  4.96it/s]\n"
     ]
    },
    {
     "name": "stdout",
     "output_type": "stream",
     "text": [
      "Training Loss: 0.1514\n",
      "Validation F1 Score: 0.7757\n",
      "\n",
      "Epoch 25/100\n"
     ]
    },
    {
     "name": "stderr",
     "output_type": "stream",
     "text": [
      "Training: 100%|██████████| 81/81 [00:40<00:00,  2.01it/s]\n",
      "Evaluating: 100%|██████████| 549/549 [01:48<00:00,  5.08it/s]\n"
     ]
    },
    {
     "name": "stdout",
     "output_type": "stream",
     "text": [
      "Training Loss: 0.1497\n",
      "Validation F1 Score: 0.8097\n",
      "\n",
      "Epoch 26/100\n"
     ]
    },
    {
     "name": "stderr",
     "output_type": "stream",
     "text": [
      "Training: 100%|██████████| 81/81 [00:35<00:00,  2.31it/s]\n",
      "Evaluating: 100%|██████████| 549/549 [01:43<00:00,  5.31it/s]\n"
     ]
    },
    {
     "name": "stdout",
     "output_type": "stream",
     "text": [
      "Training Loss: 0.1548\n",
      "Validation F1 Score: 0.7933\n",
      "\n",
      "Epoch 27/100\n"
     ]
    },
    {
     "name": "stderr",
     "output_type": "stream",
     "text": [
      "Training: 100%|██████████| 81/81 [00:36<00:00,  2.25it/s]\n",
      "Evaluating: 100%|██████████| 549/549 [01:39<00:00,  5.52it/s]\n"
     ]
    },
    {
     "name": "stdout",
     "output_type": "stream",
     "text": [
      "Training Loss: 0.1448\n",
      "Validation F1 Score: 0.8230\n",
      "New best model saved!\n",
      "\n",
      "Epoch 28/100\n"
     ]
    },
    {
     "name": "stderr",
     "output_type": "stream",
     "text": [
      "Training: 100%|██████████| 81/81 [00:38<00:00,  2.09it/s]\n",
      "Evaluating: 100%|██████████| 549/549 [01:42<00:00,  5.34it/s]\n"
     ]
    },
    {
     "name": "stdout",
     "output_type": "stream",
     "text": [
      "Training Loss: 0.1446\n",
      "Validation F1 Score: 0.7605\n",
      "\n",
      "Epoch 29/100\n"
     ]
    },
    {
     "name": "stderr",
     "output_type": "stream",
     "text": [
      "Training: 100%|██████████| 81/81 [00:40<00:00,  1.99it/s]\n",
      "Evaluating: 100%|██████████| 549/549 [01:36<00:00,  5.71it/s]\n"
     ]
    },
    {
     "name": "stdout",
     "output_type": "stream",
     "text": [
      "Training Loss: 0.1483\n",
      "Validation F1 Score: 0.8169\n",
      "\n",
      "Epoch 30/100\n"
     ]
    },
    {
     "name": "stderr",
     "output_type": "stream",
     "text": [
      "Training: 100%|██████████| 81/81 [00:37<00:00,  2.17it/s]\n",
      "Evaluating: 100%|██████████| 549/549 [01:46<00:00,  5.14it/s]\n"
     ]
    },
    {
     "name": "stdout",
     "output_type": "stream",
     "text": [
      "Training Loss: 0.1362\n",
      "Validation F1 Score: 0.7769\n",
      "\n",
      "Epoch 31/100\n"
     ]
    },
    {
     "name": "stderr",
     "output_type": "stream",
     "text": [
      "Training: 100%|██████████| 81/81 [00:38<00:00,  2.10it/s]\n",
      "Evaluating: 100%|██████████| 549/549 [01:43<00:00,  5.29it/s]\n"
     ]
    },
    {
     "name": "stdout",
     "output_type": "stream",
     "text": [
      "Training Loss: 0.1385\n",
      "Validation F1 Score: 0.7963\n",
      "\n",
      "Epoch 32/100\n"
     ]
    },
    {
     "name": "stderr",
     "output_type": "stream",
     "text": [
      "Training: 100%|██████████| 81/81 [00:38<00:00,  2.11it/s]\n",
      "Evaluating: 100%|██████████| 549/549 [01:43<00:00,  5.30it/s]\n"
     ]
    },
    {
     "name": "stdout",
     "output_type": "stream",
     "text": [
      "Training Loss: 0.1377\n",
      "Validation F1 Score: 0.8087\n",
      "\n",
      "Epoch 33/100\n"
     ]
    },
    {
     "name": "stderr",
     "output_type": "stream",
     "text": [
      "Training: 100%|██████████| 81/81 [00:37<00:00,  2.14it/s]\n",
      "Evaluating: 100%|██████████| 549/549 [01:37<00:00,  5.64it/s]\n"
     ]
    },
    {
     "name": "stdout",
     "output_type": "stream",
     "text": [
      "Training Loss: 0.1405\n",
      "Validation F1 Score: 0.8048\n",
      "Epoch 00033: reducing learning rate of group 0 to 1.0000e-06.\n",
      "\n",
      "Epoch 34/100\n"
     ]
    },
    {
     "name": "stderr",
     "output_type": "stream",
     "text": [
      "Training: 100%|██████████| 81/81 [00:36<00:00,  2.20it/s]\n",
      "Evaluating: 100%|██████████| 549/549 [01:35<00:00,  5.78it/s]\n"
     ]
    },
    {
     "name": "stdout",
     "output_type": "stream",
     "text": [
      "Training Loss: 0.1320\n",
      "Validation F1 Score: 0.8002\n",
      "\n",
      "Epoch 35/100\n"
     ]
    },
    {
     "name": "stderr",
     "output_type": "stream",
     "text": [
      "Training: 100%|██████████| 81/81 [00:38<00:00,  2.13it/s]\n",
      "Evaluating: 100%|██████████| 549/549 [01:30<00:00,  6.07it/s]\n"
     ]
    },
    {
     "name": "stdout",
     "output_type": "stream",
     "text": [
      "Training Loss: 0.1340\n",
      "Validation F1 Score: 0.7981\n",
      "\n",
      "Epoch 36/100\n"
     ]
    },
    {
     "name": "stderr",
     "output_type": "stream",
     "text": [
      "Training: 100%|██████████| 81/81 [00:35<00:00,  2.27it/s]\n",
      "Evaluating: 100%|██████████| 549/549 [01:35<00:00,  5.76it/s]\n"
     ]
    },
    {
     "name": "stdout",
     "output_type": "stream",
     "text": [
      "Training Loss: 0.1337\n",
      "Validation F1 Score: 0.8115\n",
      "\n",
      "Epoch 37/100\n"
     ]
    },
    {
     "name": "stderr",
     "output_type": "stream",
     "text": [
      "Training: 100%|██████████| 81/81 [00:33<00:00,  2.40it/s]\n",
      "Evaluating: 100%|██████████| 549/549 [01:29<00:00,  6.10it/s]"
     ]
    },
    {
     "name": "stdout",
     "output_type": "stream",
     "text": [
      "Training Loss: 0.1351\n",
      "Validation F1 Score: 0.7993\n",
      "Early stopping triggered\n",
      "Training completed. Best F1 Score: 0.8230\n"
     ]
    },
    {
     "name": "stderr",
     "output_type": "stream",
     "text": [
      "\n"
     ]
    }
   ],
   "source": [
    "# Main execution code\n",
    "# 정규화, lr스케쥴링, 데이터 증강, 조기종료, 배치정규화\n",
    "epochs = 100\n",
    "\n",
    "efficientnet_nmc.load_state_dict(torch.load('model/multilabel/best_model_nmc_cnn.pth'))\n",
    "efficientnet_aptos.load_state_dict(torch.load('model/multilabel/best_model_aptos_cnn.pth'))\n",
    "\n",
    "# 모델 생성\n",
    "combined_model = DualEfficientNetFPN(\n",
    "    efficientnet_nmc=efficientnet_nmc,\n",
    "    efficientnet_aptos=efficientnet_aptos,\n",
    "    num_classes=5,\n",
    "    num_fpn_blocks=1\n",
    ").to(device)\n",
    "\n",
    "# L2 regularization\n",
    "weight_decay = 1e-4\n",
    "# Optimizer 생성 시 학습 가능한 파라미터만 전달\n",
    "optimizer = torch.optim.AdamW(\n",
    "    filter(lambda p: p.requires_grad, combined_model.parameters()),\n",
    "    lr=0.0001, \n",
    "    weight_decay=weight_decay\n",
    ")\n",
    "criterion = nn.BCEWithLogitsLoss()\n",
    "scaler = GradScaler(enabled=train_cfg['AMP'])\n",
    "# Learning rate scheduler\n",
    "scheduler = optim.lr_scheduler.ReduceLROnPlateau(optimizer, mode='max', factor=0.1, patience=5, verbose=True)\n",
    "\n",
    "\n",
    "best_f1 = train_and_evaluate(combined_model, trainloader, valloader, criterion, optimizer, scaler, device, epochs)\n",
    "\n",
    "print(f\"Training completed. Best F1 Score: {best_f1:.4f}\")\n",
    "\n"
   ]
  },
  {
   "cell_type": "code",
   "execution_count": 18,
   "metadata": {},
   "outputs": [],
   "source": [
    "# 모델 생성\n",
    "combined_model = DualEfficientNetFPN(\n",
    "    efficientnet_nmc=efficientnet_nmc,\n",
    "    efficientnet_aptos=efficientnet_aptos,\n",
    "    num_classes=5,\n",
    "    num_fpn_blocks=1\n",
    ").to(device)"
   ]
  },
  {
   "cell_type": "code",
   "execution_count": 20,
   "metadata": {},
   "outputs": [
    {
     "name": "stderr",
     "output_type": "stream",
     "text": [
      "Evaluating: 100%|██████████| 550/550 [01:34<00:00,  5.85it/s]"
     ]
    },
    {
     "name": "stdout",
     "output_type": "stream",
     "text": [
      "Test F1 Score: 0.8136\n"
     ]
    },
    {
     "name": "stderr",
     "output_type": "stream",
     "text": [
      "\n"
     ]
    }
   ],
   "source": [
    "# Final evaluation on test set\n",
    "combined_model.load_state_dict(torch.load('model/fusion/best_model_combined_fpn.pth'))\n",
    "test_f1 = evaluate(combined_model, testloader, device)\n",
    "print(f\"Test F1 Score: {test_f1:.4f}\")"
   ]
  },
  {
   "cell_type": "code",
   "execution_count": 21,
   "metadata": {},
   "outputs": [],
   "source": [
    "def evaluate(model, dataloader, device, num_classes):\n",
    "    model.eval()\n",
    "    all_preds = []\n",
    "    all_labels = []\n",
    "    \n",
    "    with torch.no_grad():\n",
    "        for images, labels in tqdm(dataloader, desc=\"Evaluating\"):\n",
    "            images, labels = images.to(device), labels.to(device)\n",
    "            \n",
    "            outputs = model(images)\n",
    "            # 각 클래스에 대해 시그모이드 적용 후 임계값 처리\n",
    "            preds = (torch.sigmoid(outputs) > 0.5).int()\n",
    "            \n",
    "            # 배치 단위로 예측값과 라벨 저장\n",
    "            all_preds.append(preds.cpu().numpy())\n",
    "            all_labels.append(labels.cpu().numpy())\n",
    "    \n",
    "    # 배치 데이터를 하나의 배열로 결합\n",
    "    all_preds = np.vstack(all_preds)\n",
    "    all_labels = np.vstack(all_labels)\n",
    "    \n",
    "    # 전체 F1 score 계산\n",
    "    overall_f1 = f1_score(all_labels, all_preds, average='samples')\n",
    "    \n",
    "    # 각 클래스별 F1 score 계산\n",
    "    class_f1_scores = f1_score(all_labels, all_preds, average=None)\n",
    "    \n",
    "    # 각 클래스별 정밀도(Precision)와 재현율(Recall) 계산\n",
    "    class_precision = precision_score(all_labels, all_preds, average=None)\n",
    "    class_recall = recall_score(all_labels, all_preds, average=None)\n",
    "    \n",
    "    # 결과를 딕셔너리로 정리\n",
    "    results = {\n",
    "        'overall_f1': overall_f1,\n",
    "        'class_f1_scores': class_f1_scores,\n",
    "        'class_precision': class_precision,\n",
    "        'class_recall': class_recall\n",
    "    }\n",
    "    \n",
    "    # 각 클래스별 메트릭 출력\n",
    "    print(\"\\nPer-class Performance Metrics:\")\n",
    "    print(\"-\" * 50)\n",
    "    for i in range(num_classes):\n",
    "        print(f\"Class {i}:\")\n",
    "        print(f\"  F1-Score: {class_f1_scores[i]:.4f}\")\n",
    "        print(f\"  Precision: {class_precision[i]:.4f}\")\n",
    "        print(f\"  Recall: {class_recall[i]:.4f}\")\n",
    "    print(\"-\" * 50)\n",
    "    print(f\"Overall F1-Score: {overall_f1:.4f}\")\n",
    "    \n",
    "    return results"
   ]
  },
  {
   "cell_type": "code",
   "execution_count": 22,
   "metadata": {},
   "outputs": [
    {
     "name": "stderr",
     "output_type": "stream",
     "text": [
      "Evaluating: 100%|██████████| 550/550 [01:35<00:00,  5.76it/s]"
     ]
    },
    {
     "name": "stdout",
     "output_type": "stream",
     "text": [
      "\n",
      "Per-class Performance Metrics:\n",
      "--------------------------------------------------\n",
      "Class 0:\n",
      "  F1-Score: 0.9724\n",
      "  Precision: 0.9706\n",
      "  Recall: 0.9742\n",
      "Class 1:\n",
      "  F1-Score: 0.5490\n",
      "  Precision: 0.4330\n",
      "  Recall: 0.7500\n",
      "Class 2:\n",
      "  F1-Score: 0.7631\n",
      "  Precision: 0.7086\n",
      "  Recall: 0.8267\n",
      "Class 3:\n",
      "  F1-Score: 0.4643\n",
      "  Precision: 0.4815\n",
      "  Recall: 0.4483\n",
      "Class 4:\n",
      "  F1-Score: 0.6316\n",
      "  Precision: 0.5882\n",
      "  Recall: 0.6818\n",
      "--------------------------------------------------\n",
      "Overall F1-Score: 0.8136\n"
     ]
    },
    {
     "name": "stderr",
     "output_type": "stream",
     "text": [
      "\n"
     ]
    }
   ],
   "source": [
    "# Final evaluation on test set\n",
    "combined_model.load_state_dict(torch.load('model/fusion/best_model_combined_fpn.pth'))\n",
    "test_f1 = evaluate(combined_model, testloader, device,5)"
   ]
  },
  {
   "cell_type": "code",
   "execution_count": null,
   "metadata": {},
   "outputs": [],
   "source": []
  },
  {
   "cell_type": "code",
   "execution_count": null,
   "metadata": {},
   "outputs": [],
   "source": []
  },
  {
   "cell_type": "code",
   "execution_count": null,
   "metadata": {},
   "outputs": [],
   "source": []
  }
 ],
 "metadata": {
  "kernelspec": {
   "display_name": "gm",
   "language": "python",
   "name": "python3"
  },
  "language_info": {
   "codemirror_mode": {
    "name": "ipython",
    "version": 3
   },
   "file_extension": ".py",
   "mimetype": "text/x-python",
   "name": "python",
   "nbconvert_exporter": "python",
   "pygments_lexer": "ipython3",
   "version": "3.7.16"
  }
 },
 "nbformat": 4,
 "nbformat_minor": 2
}
