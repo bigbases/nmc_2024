{
 "cells": [
  {
   "cell_type": "markdown",
   "metadata": {},
   "source": [
    "### 싱글모델로 분류"
   ]
  },
  {
   "cell_type": "code",
   "execution_count": 1,
   "metadata": {},
   "outputs": [],
   "source": [
    "\n",
    "import torch \n",
    "import argparse\n",
    "import yaml\n",
    "import time\n",
    "import multiprocessing as mp\n",
    "import torch.nn.functional as F\n",
    "from tabulate import tabulate\n",
    "from tqdm import tqdm\n",
    "from torch.utils.data import DataLoader\n",
    "from pathlib import Path\n",
    "#from torch.utils.tensorboard import SummaryWriter\n",
    "from torch.cuda.amp import GradScaler, autocast\n",
    "from torch.nn.parallel import DistributedDataParallel as DDP\n",
    "from torch.utils.data import DistributedSampler, RandomSampler\n",
    "from torch import distributed as dist\n",
    "from nmc.models import *\n",
    "from nmc.datasets import * \n",
    "from nmc.augmentations import get_train_augmentation, get_val_augmentation\n",
    "from nmc.losses import get_loss\n",
    "from nmc.schedulers import get_scheduler\n",
    "from nmc.optimizers import get_optimizer\n",
    "from nmc.utils.utils import fix_seeds, setup_cudnn, cleanup_ddp, setup_ddp\n",
    "from tools.val import evaluate_epi\n",
    "from nmc.utils.episodic_utils import * \n",
    "from scipy.cluster import hierarchy\n",
    "from sklearn.preprocessing import MinMaxScaler\n",
    "import matplotlib.pyplot as plt\n",
    "from torchvision import models\n",
    "import torch.nn as nn\n",
    "from torch.optim import lr_scheduler\n",
    "import numpy as np\n",
    "from sklearn.metrics import accuracy_score, f1_score\n",
    "import pandas as pd\n",
    "import matplotlib.pyplot as plt\n",
    "import seaborn as sns\n",
    "from sklearn.metrics import mutual_info_score\n",
    "from scipy.cluster import hierarchy\n",
    "from tqdm import tqdm\n",
    "from sklearn.metrics import accuracy_score, precision_score, recall_score, f1_score, hamming_loss\n",
    "from torch.utils.data import Dataset, DataLoader, Sampler\n",
    "from torch.utils.data import Subset\n",
    "import torch.optim as optim\n",
    "from torchvision import transforms\n",
    "from PIL import Image\n",
    "import cv2\n",
    "import random"
   ]
  },
  {
   "cell_type": "code",
   "execution_count": 2,
   "metadata": {},
   "outputs": [
    {
     "name": "stdout",
     "output_type": "stream",
     "text": [
      "{'DEVICE': 'cuda:0', 'SAVE_DIR': 'output', 'MODEL': {'NAME': 'EfficientNetV2MModelMulti', 'BACKBONE': 'EfficientNetV2', 'PRETRAINED': '/workspace/jhmoon/nmc_2024/checkpoints/pretrained/tf_efficientnetv2_m_weights.pth', 'UNFREEZE': 'full', 'VERSION': \"384_32_loss'\"}, 'DATASET': {'NAME': 'NMCDataset', 'ROOT': '/data/nmc/processed_image', 'TRAIN_RATIO': 0.7, 'VALID_RATIO': 0.15, 'TEST_RATIO': 0.15}, 'TRAIN': {'IMAGE_SIZE': [384, 384], 'BATCH_SIZE': 32, 'EPOCHS': 100, 'EVAL_INTERVAL': 1, 'AMP': False, 'DDP': False}, 'LOSS': {'NAME': 'BCEWithLogitsLoss', 'CLS_WEIGHTS': False}, 'OPTIMIZER': {'NAME': 'adamw', 'LR': 0.1, 'WEIGHT_DECAY': 0.01}, 'SCHEDULER': {'NAME': 'warmuppolylr', 'POWER': 0.9, 'WARMUP': 10, 'WARMUP_RATIO': 0.1}, 'EVAL': {'MODEL_PATH': 'checkpoints/pretrained/FGMaxxVit/FGMaxxVit.FGMaxxVit.NMC.pth', 'IMAGE_SIZE': [384, 384]}, 'TEST': {'MODEL_PATH': 'checkpoints/pretrained/FGMaxxVit/FGMaxxVit.FGMaxxVit.NMC.pth', 'FILE': 'assests/ade', 'IMAGE_SIZE': [384, 384], 'OVERLAY': True}}\n"
     ]
    }
   ],
   "source": [
    "with open('../configs/NMC.yaml') as f:\n",
    "    cfg = yaml.load(f, Loader=yaml.SafeLoader)\n",
    "print(cfg)\n",
    "fix_seeds(3407)\n",
    "setup_cudnn()\n",
    "gpu = setup_ddp()\n",
    "save_dir = Path(cfg['SAVE_DIR'])\n",
    "save_dir.mkdir(exist_ok=True)\n",
    "cleanup_ddp()"
   ]
  },
  {
   "cell_type": "code",
   "execution_count": 3,
   "metadata": {},
   "outputs": [],
   "source": [
    "# Early Stopping\n",
    "class EarlyStopping:\n",
    "    def __init__(self, patience=7, min_delta=0):\n",
    "        self.patience = patience\n",
    "        self.min_delta = min_delta\n",
    "        self.counter = 0\n",
    "        self.best_score = None\n",
    "        self.early_stop = False\n",
    "\n",
    "    def __call__(self, val_score):\n",
    "        if self.best_score is None:\n",
    "            self.best_score = val_score\n",
    "        elif val_score < self.best_score + self.min_delta:\n",
    "            self.counter += 1\n",
    "            if self.counter >= self.patience:\n",
    "                self.early_stop = True\n",
    "        else:\n",
    "            self.best_score = val_score\n",
    "            self.counter = 0"
   ]
  },
  {
   "cell_type": "code",
   "execution_count": 4,
   "metadata": {},
   "outputs": [],
   "source": [
    "def get_train_augmentation(size):\n",
    "    return transforms.Compose([\n",
    "        transforms.Resize(size),\n",
    "        transforms.RandomHorizontalFlip(),\n",
    "        transforms.RandomRotation(10),\n",
    "        transforms.ColorJitter(brightness=0.2, contrast=0.2, saturation=0.2),\n",
    "        transforms.Lambda(lambda x: x.float() if x.dtype == torch.uint8 else x),\n",
    "        transforms.Lambda(lambda x: x / 255.0 if x.max() > 1.0 else x),\n",
    "        transforms.Normalize([0.485, 0.456, 0.406], [0.229, 0.224, 0.225])\n",
    "    ])\n",
    "\n",
    "def get_val_test_transform(size):\n",
    "    return transforms.Compose([\n",
    "        transforms.Resize(size),\n",
    "        transforms.Lambda(lambda x: x.float() if x.dtype == torch.uint8 else x),\n",
    "        transforms.Lambda(lambda x: x / 255.0 if x.max() > 1.0 else x),\n",
    "        transforms.Normalize([0.485, 0.456, 0.406], [0.229, 0.224, 0.225])\n",
    "    ])\n"
   ]
  },
  {
   "cell_type": "code",
   "execution_count": 5,
   "metadata": {},
   "outputs": [],
   "source": [
    "class MultiTargetBalancedBatchSampler(Sampler):\n",
    "    def __init__(self, dataset, batch_size, target_classes):\n",
    "        self.dataset = dataset\n",
    "        self.batch_size = batch_size\n",
    "        self.target_classes = target_classes\n",
    "        \n",
    "        # 데이터셋에서 레이블 추출\n",
    "        if hasattr(dataset, 'labels'):\n",
    "            self.labels = dataset.labels\n",
    "            if isinstance(self.labels, np.ndarray):\n",
    "                self.labels = torch.from_numpy(self.labels)\n",
    "        elif hasattr(dataset, 'targets'):\n",
    "            self.labels = dataset.targets\n",
    "            if isinstance(self.labels, np.ndarray):\n",
    "                self.labels = torch.from_numpy(self.labels)\n",
    "        else:\n",
    "            try:\n",
    "                self.labels = [sample[1] for sample in dataset]\n",
    "                if isinstance(self.labels[0], np.ndarray):\n",
    "                    self.labels = torch.from_numpy(np.array(self.labels))\n",
    "                else:\n",
    "                    self.labels = torch.tensor(self.labels)\n",
    "            except:\n",
    "                raise ValueError(\"Cannot access labels from dataset\")\n",
    "        \n",
    "        # 각 타겟 클래스와 나머지 클래스의 인덱스 저장\n",
    "        self.target_indices = {}\n",
    "        for target in target_classes:\n",
    "            if len(self.labels.shape) > 1:\n",
    "                self.target_indices[target] = torch.where(self.labels[:, target] == 1)[0]\n",
    "            else:\n",
    "                self.target_indices[target] = torch.where(self.labels == target)[0]\n",
    "        \n",
    "        # 나머지 클래스의 인덱스 저장\n",
    "        if len(self.labels.shape) > 1:\n",
    "            self.other_indices = torch.where(\n",
    "                torch.sum(self.labels[:, target_classes], dim=1) == 0)[0]\n",
    "        else:\n",
    "            mask = torch.ones_like(self.labels, dtype=torch.bool)\n",
    "            for target in target_classes:\n",
    "                mask &= (self.labels != target)\n",
    "            self.other_indices = torch.where(mask)[0]\n",
    "        \n",
    "        # 각 그룹당 샘플 수 계산\n",
    "        n_groups = len(target_classes) + 1  # 타겟 클래스들 + 나머지\n",
    "        self.samples_per_group = batch_size // n_groups\n",
    "        \n",
    "        self.n_batches = len(self.dataset) // batch_size\n",
    "        if len(self.dataset) % batch_size != 0:\n",
    "            self.n_batches += 1\n",
    "    \n",
    "    def __iter__(self):\n",
    "        for _ in range(self.n_batches):\n",
    "            batch_indices = []\n",
    "            \n",
    "            # 각 타겟 클래스에서 샘플링\n",
    "            for target in self.target_classes:\n",
    "                target_selected = self.target_indices[target][\n",
    "                    torch.randint(len(self.target_indices[target]), \n",
    "                                (self.samples_per_group,))\n",
    "                ]\n",
    "                batch_indices.extend(target_selected.tolist())\n",
    "            \n",
    "            # 나머지 클래스들에서 샘플링\n",
    "            other_selected = self.other_indices[\n",
    "                torch.randint(len(self.other_indices), \n",
    "                            (self.samples_per_group,))\n",
    "            ]\n",
    "            batch_indices.extend(other_selected.tolist())\n",
    "            \n",
    "            # 배치 셔플\n",
    "            random.shuffle(batch_indices)\n",
    "            \n",
    "            # 배치 크기에 맞게 자르기 (나누어 떨어지지 않는 경우 처리)\n",
    "            if len(batch_indices) > self.batch_size:\n",
    "                batch_indices = batch_indices[:self.batch_size]\n",
    "            \n",
    "            yield batch_indices\n",
    "    \n",
    "    def __len__(self):\n",
    "        return self.n_batches"
   ]
  },
  {
   "cell_type": "code",
   "execution_count": 6,
   "metadata": {},
   "outputs": [],
   "source": [
    "def train_epoch(model, dataloader, criterion, optimizer, scaler, device, target_label_idx):\n",
    "    model.train()\n",
    "    running_loss = 0.0\n",
    "    num_targets = len(target_label_idx)\n",
    "\n",
    "    for images, labels in tqdm(dataloader, desc=\"Training\"):\n",
    "        images = images.to(device)\n",
    "        \n",
    "        if num_targets == 1:\n",
    "            # 단일 레이블 케이스\n",
    "            target_labels = labels[:, target_label_idx].to(device)\n",
    "            \n",
    "            optimizer.zero_grad()\n",
    "            \n",
    "            with autocast(enabled=True):\n",
    "                outputs = model(images)\n",
    "                # 차원을 맞춰줌\n",
    "                outputs = outputs.view(-1)  # or outputs.squeeze()\n",
    "                target_labels = target_labels.view(-1)  # or target_labels.squeeze()\n",
    "                loss = criterion(outputs, target_labels)\n",
    "        else:\n",
    "            # 다중 레이블 케이스\n",
    "            target_labels = labels[:, target_label_idx].to(device)\n",
    "            \n",
    "            optimizer.zero_grad()\n",
    "            \n",
    "            with autocast(enabled=True):\n",
    "                outputs = model(images)\n",
    "                loss = criterion(outputs, target_labels)\n",
    "\n",
    "        if scaler is not None:\n",
    "            scaler.scale(loss).backward()\n",
    "            scaler.step(optimizer)\n",
    "            scaler.update()\n",
    "        else:\n",
    "            loss.backward()\n",
    "            optimizer.step()\n",
    "\n",
    "        running_loss += loss.item()\n",
    "\n",
    "    return running_loss / len(dataloader)"
   ]
  },
  {
   "cell_type": "code",
   "execution_count": 7,
   "metadata": {},
   "outputs": [],
   "source": [
    "def evaluate(model, dataloader, device, target_label_idx):\n",
    "   model.eval()\n",
    "   all_preds = []\n",
    "   all_labels = []\n",
    "   num_targets = len(target_label_idx)\n",
    "   \n",
    "   with torch.no_grad():\n",
    "       for images, labels in tqdm(dataloader, desc=\"Evaluating\"):\n",
    "           images = images.to(device)\n",
    "           \n",
    "           if num_targets == 1:\n",
    "               # 단일 레이블 케이스\n",
    "               target_labels = labels[:, target_label_idx].to(device)\n",
    "               outputs = model(images)\n",
    "               \n",
    "               # 차원 처리\n",
    "               if len(outputs.shape) == 2:\n",
    "                   outputs = outputs.squeeze(1)\n",
    "               \n",
    "               preds = (torch.sigmoid(outputs) > 0.5).float()\n",
    "               \n",
    "               all_preds.append(preds.cpu().numpy().reshape(-1))\n",
    "               all_labels.append(target_labels.cpu().numpy().reshape(-1))\n",
    "           \n",
    "           else:\n",
    "               # 다중 레이블 케이스\n",
    "               target_labels = labels[:, target_label_idx].to(device)\n",
    "               outputs = model(images)\n",
    "               \n",
    "               # 각 레이블에 대한 예측\n",
    "               preds = (torch.sigmoid(outputs) > 0.5).float()\n",
    "               \n",
    "               all_preds.append(preds.cpu().numpy())\n",
    "               all_labels.append(target_labels.cpu().numpy())\n",
    "   \n",
    "   # numpy array로 변환\n",
    "   all_preds = np.concatenate(all_preds)\n",
    "   all_labels = np.concatenate(all_labels)\n",
    "   \n",
    "   if num_targets == 1:\n",
    "       # 단일 레이블 메트릭\n",
    "       f1 = f1_score(all_labels, all_preds, average='binary')\n",
    "       accuracy = accuracy_score(all_labels, all_preds)\n",
    "       precision = precision_score(all_labels, all_preds)\n",
    "       recall = recall_score(all_labels, all_preds)\n",
    "       \n",
    "       return f1, accuracy, precision, recall\n",
    "   else:\n",
    "       # 다중 레이블 메트릭\n",
    "       f1 = f1_score(all_labels, all_preds, average='macro')\n",
    "       accuracy = accuracy_score(all_labels, all_preds)\n",
    "       precision = precision_score(all_labels, all_preds, average='macro')\n",
    "       recall = recall_score(all_labels, all_preds, average='macro')\n",
    "       \n",
    "       return f1, accuracy, precision, recall"
   ]
  },
  {
   "cell_type": "code",
   "execution_count": null,
   "metadata": {},
   "outputs": [],
   "source": [
    "def train_and_evaluate(model, train_loader, val_loader, criterion, optimizer, scaler, device, epochs, target_label_idx):\n",
    "    best_f1 = 0.0\n",
    "    early_stopping = EarlyStopping(patience=10, min_delta=0.001)\n",
    "    num_targets = len(target_label_idx)\n",
    "    \n",
    "    for epoch in range(epochs):\n",
    "        print(f\"Epoch {epoch+1}/{epochs}\")\n",
    "        \n",
    "        train_loss = train_epoch(model, train_loader, criterion, optimizer, scaler, device, target_label_idx)\n",
    "        \n",
    "        if num_targets == 1:\n",
    "            val_f1, val_acc, val_prec, val_rec = evaluate(model, val_loader, device, target_label_idx)\n",
    "            \n",
    "            print(f\"Training Loss: {train_loss:.4f}\")\n",
    "            print(f\"Validation Metrics:\")\n",
    "            print(f\"  F1 Score: {val_f1:.4f}\")\n",
    "            print(f\"  Accuracy: {val_acc:.4f}\") \n",
    "            print(f\"  Precision: {val_prec:.4f}\")\n",
    "            print(f\"  Recall: {val_rec:.4f}\")\n",
    "            \n",
    "            scheduler.step(val_f1)\n",
    "            \n",
    "            if val_f1 > best_f1:\n",
    "                best_f1 = val_f1\n",
    "                torch.save(model.state_dict(), f'model/singlelabel/best_model_label_{target_label_idx[0]}_nmc_cnn.pth')\n",
    "                print(\"New best model saved!\")\n",
    "        else:\n",
    "            # 모든 메트릭을 받아서 f1만 사용\n",
    "            val_f1, val_acc, val_prec, val_rec = evaluate(model, val_loader, device, target_label_idx)\n",
    "            \n",
    "            print(f\"Training Loss: {train_loss:.4f}\")\n",
    "            print(f\"Validation Metrics:\")\n",
    "            print(f\"  Macro F1 Score: {val_f1:.4f}\")\n",
    "            print(f\"  Macro Accuracy: {val_acc:.4f}\")\n",
    "            print(f\"  Macro Precision: {val_prec:.4f}\")\n",
    "            print(f\"  Macro Recall: {val_rec:.4f}\")\n",
    "            \n",
    "            scheduler.step(val_f1)\n",
    "            \n",
    "            if val_f1 > best_f1:\n",
    "                best_f1 = val_f1\n",
    "                torch.save(model.state_dict(), f'model/singlelabel/best_model_labels_{\"-\".join(map(str,target_label_idx))}_nmc_cnn.pth')\n",
    "                print(\"New best model saved!\")\n",
    "        \n",
    "        early_stopping(val_f1)\n",
    "        if early_stopping.early_stop:\n",
    "            print(\"Early stopping triggered\")\n",
    "            break\n",
    "            \n",
    "        print()\n",
    "    \n",
    "    return best_f1"
   ]
  },
  {
   "cell_type": "code",
   "execution_count": 11,
   "metadata": {},
   "outputs": [
    {
     "name": "stdout",
     "output_type": "stream",
     "text": [
      "device :  cuda:0\n",
      "/data/nmc/processed_image/cropped_images_1424x1648\n",
      "(0,)               1935\n",
      "(3,)                542\n",
      "(1, 2, 3)           532\n",
      "(1, 2)              286\n",
      "(2,)                233\n",
      "(1, 2, 3, 4)        190\n",
      "(2, 3)              163\n",
      "(1,)                155\n",
      "(4,)                 47\n",
      "(1, 3)               31\n",
      "(1, 2, 4)            27\n",
      "(3, 4)               22\n",
      "(1, 2, 3, 4, 5)      11\n",
      "(5,)                  9\n",
      "(2, 3, 4)             9\n",
      "(1, 4)                9\n",
      "(1, 2, 3, 5)          8\n",
      "(1, 2, 5)             7\n",
      "(2, 4)                7\n",
      "(1, 2, 3, 5, 6)       5\n",
      "(1, 2, 3, 6)          4\n",
      "(1, 3, 4)             2\n",
      "(1, 3, 6)             1\n",
      "(6,)                  1\n",
      "(1, 2, 6)             1\n",
      "(1, 2, 3, 4, 6)       1\n",
      "Name: label, dtype: int64\n",
      "train size: 4238\n",
      "(0,)               415\n",
      "(3,)               116\n",
      "(1, 2, 3)          112\n",
      "(1, 2)              66\n",
      "(2,)                46\n",
      "(1, 2, 3, 4)        45\n",
      "(2, 3)              38\n",
      "(1,)                30\n",
      "(4,)                11\n",
      "(1, 3)               9\n",
      "(2, 4)               4\n",
      "(5,)                 4\n",
      "(1, 4)               3\n",
      "(1, 2, 5)            2\n",
      "(3, 4)               2\n",
      "(6,)                 2\n",
      "(1, 2, 4)            2\n",
      "(1, 2, 3, 4, 6)      1\n",
      "(2, 3, 4)            1\n",
      "(1, 2, 3, 5)         1\n",
      "(1, 3, 4)            1\n",
      "(1, 5)               1\n",
      "Name: label, dtype: int64\n",
      "val size: 912\n",
      "(0,)            415\n",
      "(1, 2, 3)       115\n",
      "(3,)            110\n",
      "(1, 2)           66\n",
      "(2,)             44\n",
      "(1, 2, 3, 4)     41\n",
      "(2, 3)           38\n",
      "(1,)             26\n",
      "(1, 3)            9\n",
      "(3, 4)            9\n",
      "(1, 2, 4)         5\n",
      "(1, 4)            5\n",
      "(5,)              5\n",
      "(2, 4)            5\n",
      "(4,)              4\n",
      "(1, 2, 3, 5)      2\n",
      "(1, 5)            2\n",
      "(2, 3, 4)         1\n",
      "(1, 2, 3, 6)      1\n",
      "(6,)              1\n",
      "Name: label, dtype: int64\n",
      "test size: 904\n"
     ]
    },
    {
     "name": "stderr",
     "output_type": "stream",
     "text": [
      "/root/anaconda3/envs/gm/lib/python3.7/site-packages/torchvision/models/_utils.py:209: UserWarning: The parameter 'pretrained' is deprecated since 0.13 and may be removed in the future, please use 'weights' instead.\n",
      "  f\"The parameter '{pretrained_param}' is deprecated since 0.13 and may be removed in the future, \"\n",
      "/root/anaconda3/envs/gm/lib/python3.7/site-packages/torchvision/models/_utils.py:223: UserWarning: Arguments other than a weight enum or `None` for 'weights' are deprecated since 0.13 and may be removed in the future. The current behavior is equivalent to passing `weights=EfficientNet_V2_M_Weights.IMAGENET1K_V1`. You can also use `weights=EfficientNet_V2_M_Weights.DEFAULT` to get the most up-to-date weights.\n",
      "  warnings.warn(msg)\n"
     ]
    },
    {
     "name": "stdout",
     "output_type": "stream",
     "text": [
      "Epoch 1/100\n"
     ]
    },
    {
     "name": "stderr",
     "output_type": "stream",
     "text": [
      "Training: 100%|██████████| 133/133 [00:48<00:00,  2.77it/s]\n",
      "Evaluating: 100%|██████████| 912/912 [00:55<00:00, 16.38it/s]\n"
     ]
    },
    {
     "name": "stdout",
     "output_type": "stream",
     "text": [
      "Training Loss: 0.4786\n",
      "Validation Metrics:\n",
      "  Macro F1 Score: 0.7436\n",
      "  Macro Accuracy: 0.7511\n",
      "  Macro Precision: 0.7167\n",
      "  Macro Recall: 0.7758\n",
      "New best model saved!\n",
      "\n",
      "Epoch 2/100\n"
     ]
    },
    {
     "name": "stderr",
     "output_type": "stream",
     "text": [
      "Training: 100%|██████████| 133/133 [00:47<00:00,  2.83it/s]\n",
      "Evaluating: 100%|██████████| 912/912 [00:41<00:00, 21.82it/s]\n"
     ]
    },
    {
     "name": "stdout",
     "output_type": "stream",
     "text": [
      "Training Loss: 0.3061\n",
      "Validation Metrics:\n",
      "  Macro F1 Score: 0.7941\n",
      "  Macro Accuracy: 0.7982\n",
      "  Macro Precision: 0.8535\n",
      "  Macro Recall: 0.7431\n",
      "New best model saved!\n",
      "\n",
      "Epoch 3/100\n"
     ]
    },
    {
     "name": "stderr",
     "output_type": "stream",
     "text": [
      "Training: 100%|██████████| 133/133 [00:58<00:00,  2.28it/s]\n",
      "Evaluating: 100%|██████████| 912/912 [00:42<00:00, 21.59it/s]\n"
     ]
    },
    {
     "name": "stdout",
     "output_type": "stream",
     "text": [
      "Training Loss: 0.2571\n",
      "Validation Metrics:\n",
      "  Macro F1 Score: 0.7996\n",
      "  Macro Accuracy: 0.7664\n",
      "  Macro Precision: 0.7474\n",
      "  Macro Recall: 0.8623\n",
      "New best model saved!\n",
      "\n",
      "Epoch 4/100\n"
     ]
    },
    {
     "name": "stderr",
     "output_type": "stream",
     "text": [
      "Training: 100%|██████████| 133/133 [00:47<00:00,  2.81it/s]\n",
      "Evaluating: 100%|██████████| 912/912 [00:55<00:00, 16.45it/s]\n"
     ]
    },
    {
     "name": "stdout",
     "output_type": "stream",
     "text": [
      "Training Loss: 0.2045\n",
      "Validation Metrics:\n",
      "  Macro F1 Score: 0.8347\n",
      "  Macro Accuracy: 0.8213\n",
      "  Macro Precision: 0.8120\n",
      "  Macro Recall: 0.8596\n",
      "New best model saved!\n",
      "\n",
      "Epoch 5/100\n"
     ]
    },
    {
     "name": "stderr",
     "output_type": "stream",
     "text": [
      "Training: 100%|██████████| 133/133 [00:46<00:00,  2.85it/s]\n",
      "Evaluating: 100%|██████████| 912/912 [00:41<00:00, 21.76it/s]\n"
     ]
    },
    {
     "name": "stdout",
     "output_type": "stream",
     "text": [
      "Training Loss: 0.1699\n",
      "Validation Metrics:\n",
      "  Macro F1 Score: 0.8342\n",
      "  Macro Accuracy: 0.8147\n",
      "  Macro Precision: 0.8176\n",
      "  Macro Recall: 0.8515\n",
      "\n",
      "Epoch 6/100\n"
     ]
    },
    {
     "name": "stderr",
     "output_type": "stream",
     "text": [
      "Training: 100%|██████████| 133/133 [00:53<00:00,  2.49it/s]\n",
      "Evaluating: 100%|██████████| 912/912 [00:42<00:00, 21.51it/s]\n"
     ]
    },
    {
     "name": "stdout",
     "output_type": "stream",
     "text": [
      "Training Loss: 0.1613\n",
      "Validation Metrics:\n",
      "  Macro F1 Score: 0.8396\n",
      "  Macro Accuracy: 0.8224\n",
      "  Macro Precision: 0.8133\n",
      "  Macro Recall: 0.8678\n",
      "New best model saved!\n",
      "\n",
      "Epoch 7/100\n"
     ]
    },
    {
     "name": "stderr",
     "output_type": "stream",
     "text": [
      "Training: 100%|██████████| 133/133 [00:46<00:00,  2.85it/s]\n",
      "Evaluating: 100%|██████████| 912/912 [00:47<00:00, 19.24it/s]\n"
     ]
    },
    {
     "name": "stdout",
     "output_type": "stream",
     "text": [
      "Training Loss: 0.1432\n",
      "Validation Metrics:\n",
      "  Macro F1 Score: 0.8470\n",
      "  Macro Accuracy: 0.8235\n",
      "  Macro Precision: 0.8152\n",
      "  Macro Recall: 0.8814\n",
      "New best model saved!\n",
      "\n",
      "Epoch 8/100\n"
     ]
    },
    {
     "name": "stderr",
     "output_type": "stream",
     "text": [
      "Training: 100%|██████████| 133/133 [00:59<00:00,  2.25it/s]\n",
      "Evaluating: 100%|██████████| 912/912 [00:41<00:00, 22.17it/s]\n"
     ]
    },
    {
     "name": "stdout",
     "output_type": "stream",
     "text": [
      "Training Loss: 0.1242\n",
      "Validation Metrics:\n",
      "  Macro F1 Score: 0.8371\n",
      "  Macro Accuracy: 0.8136\n",
      "  Macro Precision: 0.8195\n",
      "  Macro Recall: 0.8560\n",
      "\n",
      "Epoch 9/100\n"
     ]
    },
    {
     "name": "stderr",
     "output_type": "stream",
     "text": [
      "Training: 100%|██████████| 133/133 [00:54<00:00,  2.46it/s]\n",
      "Evaluating: 100%|██████████| 912/912 [00:45<00:00, 20.17it/s]\n"
     ]
    },
    {
     "name": "stdout",
     "output_type": "stream",
     "text": [
      "Training Loss: 0.1155\n",
      "Validation Metrics:\n",
      "  Macro F1 Score: 0.8331\n",
      "  Macro Accuracy: 0.8037\n",
      "  Macro Precision: 0.7973\n",
      "  Macro Recall: 0.8725\n",
      "\n",
      "Epoch 10/100\n"
     ]
    },
    {
     "name": "stderr",
     "output_type": "stream",
     "text": [
      "Training: 100%|██████████| 133/133 [00:47<00:00,  2.82it/s]\n",
      "Evaluating: 100%|██████████| 912/912 [00:48<00:00, 18.87it/s]\n"
     ]
    },
    {
     "name": "stdout",
     "output_type": "stream",
     "text": [
      "Training Loss: 0.0957\n",
      "Validation Metrics:\n",
      "  Macro F1 Score: 0.8335\n",
      "  Macro Accuracy: 0.8026\n",
      "  Macro Precision: 0.8196\n",
      "  Macro Recall: 0.8505\n",
      "\n",
      "Epoch 11/100\n"
     ]
    },
    {
     "name": "stderr",
     "output_type": "stream",
     "text": [
      "Training: 100%|██████████| 133/133 [00:58<00:00,  2.27it/s]\n",
      "Evaluating: 100%|██████████| 912/912 [00:42<00:00, 21.64it/s]\n"
     ]
    },
    {
     "name": "stdout",
     "output_type": "stream",
     "text": [
      "Training Loss: 0.0879\n",
      "Validation Metrics:\n",
      "  Macro F1 Score: 0.8401\n",
      "  Macro Accuracy: 0.8180\n",
      "  Macro Precision: 0.8187\n",
      "  Macro Recall: 0.8628\n",
      "\n",
      "Epoch 12/100\n"
     ]
    },
    {
     "name": "stderr",
     "output_type": "stream",
     "text": [
      "Training: 100%|██████████| 133/133 [00:47<00:00,  2.80it/s]\n",
      "Evaluating: 100%|██████████| 912/912 [00:50<00:00, 18.09it/s]\n"
     ]
    },
    {
     "name": "stdout",
     "output_type": "stream",
     "text": [
      "Training Loss: 0.0772\n",
      "Validation Metrics:\n",
      "  Macro F1 Score: 0.8581\n",
      "  Macro Accuracy: 0.8333\n",
      "  Macro Precision: 0.8449\n",
      "  Macro Recall: 0.8720\n",
      "New best model saved!\n",
      "\n",
      "Epoch 13/100\n"
     ]
    },
    {
     "name": "stderr",
     "output_type": "stream",
     "text": [
      "Training: 100%|██████████| 133/133 [00:47<00:00,  2.81it/s]\n",
      "Evaluating: 100%|██████████| 912/912 [00:41<00:00, 21.87it/s]\n"
     ]
    },
    {
     "name": "stdout",
     "output_type": "stream",
     "text": [
      "Training Loss: 0.0730\n",
      "Validation Metrics:\n",
      "  Macro F1 Score: 0.8495\n",
      "  Macro Accuracy: 0.8268\n",
      "  Macro Precision: 0.8445\n",
      "  Macro Recall: 0.8547\n",
      "\n",
      "Epoch 14/100\n"
     ]
    },
    {
     "name": "stderr",
     "output_type": "stream",
     "text": [
      "Training: 100%|██████████| 133/133 [01:05<00:00,  2.02it/s]\n",
      "Evaluating: 100%|██████████| 912/912 [00:41<00:00, 22.24it/s]\n"
     ]
    },
    {
     "name": "stdout",
     "output_type": "stream",
     "text": [
      "Training Loss: 0.0674\n",
      "Validation Metrics:\n",
      "  Macro F1 Score: 0.8172\n",
      "  Macro Accuracy: 0.8070\n",
      "  Macro Precision: 0.8420\n",
      "  Macro Recall: 0.7939\n",
      "\n",
      "Epoch 15/100\n"
     ]
    },
    {
     "name": "stderr",
     "output_type": "stream",
     "text": [
      "Training: 100%|██████████| 133/133 [00:46<00:00,  2.85it/s]\n",
      "Evaluating: 100%|██████████| 912/912 [00:59<00:00, 15.36it/s]\n"
     ]
    },
    {
     "name": "stdout",
     "output_type": "stream",
     "text": [
      "Training Loss: 0.0583\n",
      "Validation Metrics:\n",
      "  Macro F1 Score: 0.8425\n",
      "  Macro Accuracy: 0.8279\n",
      "  Macro Precision: 0.8357\n",
      "  Macro Recall: 0.8494\n",
      "\n",
      "Epoch 16/100\n"
     ]
    },
    {
     "name": "stderr",
     "output_type": "stream",
     "text": [
      "Training: 100%|██████████| 133/133 [00:47<00:00,  2.80it/s]\n",
      "Evaluating: 100%|██████████| 912/912 [00:42<00:00, 21.46it/s]\n"
     ]
    },
    {
     "name": "stdout",
     "output_type": "stream",
     "text": [
      "Training Loss: 0.0523\n",
      "Validation Metrics:\n",
      "  Macro F1 Score: 0.8452\n",
      "  Macro Accuracy: 0.8322\n",
      "  Macro Precision: 0.8503\n",
      "  Macro Recall: 0.8416\n",
      "\n",
      "Epoch 17/100\n"
     ]
    },
    {
     "name": "stderr",
     "output_type": "stream",
     "text": [
      "Training: 100%|██████████| 133/133 [01:05<00:00,  2.03it/s]\n",
      "Evaluating: 100%|██████████| 912/912 [00:41<00:00, 21.96it/s]\n"
     ]
    },
    {
     "name": "stdout",
     "output_type": "stream",
     "text": [
      "Training Loss: 0.0531\n",
      "Validation Metrics:\n",
      "  Macro F1 Score: 0.8434\n",
      "  Macro Accuracy: 0.8147\n",
      "  Macro Precision: 0.8057\n",
      "  Macro Recall: 0.8850\n",
      "\n",
      "Epoch 18/100\n"
     ]
    },
    {
     "name": "stderr",
     "output_type": "stream",
     "text": [
      "Training: 100%|██████████| 133/133 [00:47<00:00,  2.79it/s]\n",
      "Evaluating: 100%|██████████| 912/912 [00:53<00:00, 16.95it/s]\n"
     ]
    },
    {
     "name": "stdout",
     "output_type": "stream",
     "text": [
      "Training Loss: 0.0519\n",
      "Validation Metrics:\n",
      "  Macro F1 Score: 0.8598\n",
      "  Macro Accuracy: 0.8443\n",
      "  Macro Precision: 0.8664\n",
      "  Macro Recall: 0.8534\n",
      "New best model saved!\n",
      "\n",
      "Epoch 19/100\n"
     ]
    },
    {
     "name": "stderr",
     "output_type": "stream",
     "text": [
      "Training: 100%|██████████| 133/133 [00:46<00:00,  2.85it/s]\n",
      "Evaluating: 100%|██████████| 912/912 [00:41<00:00, 21.71it/s]\n"
     ]
    },
    {
     "name": "stdout",
     "output_type": "stream",
     "text": [
      "Training Loss: 0.0487\n",
      "Validation Metrics:\n",
      "  Macro F1 Score: 0.8459\n",
      "  Macro Accuracy: 0.8268\n",
      "  Macro Precision: 0.8376\n",
      "  Macro Recall: 0.8544\n",
      "\n",
      "Epoch 20/100\n"
     ]
    },
    {
     "name": "stderr",
     "output_type": "stream",
     "text": [
      "Training: 100%|██████████| 133/133 [00:59<00:00,  2.22it/s]\n",
      "Evaluating: 100%|██████████| 912/912 [00:42<00:00, 21.43it/s]\n"
     ]
    },
    {
     "name": "stdout",
     "output_type": "stream",
     "text": [
      "Training Loss: 0.0460\n",
      "Validation Metrics:\n",
      "  Macro F1 Score: 0.8477\n",
      "  Macro Accuracy: 0.8300\n",
      "  Macro Precision: 0.8513\n",
      "  Macro Recall: 0.8442\n",
      "\n",
      "Epoch 21/100\n"
     ]
    },
    {
     "name": "stderr",
     "output_type": "stream",
     "text": [
      "Training: 100%|██████████| 133/133 [00:47<00:00,  2.77it/s]\n",
      "Evaluating: 100%|██████████| 912/912 [00:51<00:00, 17.70it/s]\n"
     ]
    },
    {
     "name": "stdout",
     "output_type": "stream",
     "text": [
      "Training Loss: 0.0399\n",
      "Validation Metrics:\n",
      "  Macro F1 Score: 0.8412\n",
      "  Macro Accuracy: 0.8257\n",
      "  Macro Precision: 0.8372\n",
      "  Macro Recall: 0.8455\n",
      "\n",
      "Epoch 22/100\n"
     ]
    },
    {
     "name": "stderr",
     "output_type": "stream",
     "text": [
      "Training: 100%|██████████| 133/133 [00:47<00:00,  2.80it/s]\n",
      "Evaluating: 100%|██████████| 912/912 [00:41<00:00, 22.04it/s]\n"
     ]
    },
    {
     "name": "stdout",
     "output_type": "stream",
     "text": [
      "Training Loss: 0.0377\n",
      "Validation Metrics:\n",
      "  Macro F1 Score: 0.8331\n",
      "  Macro Accuracy: 0.8202\n",
      "  Macro Precision: 0.8691\n",
      "  Macro Recall: 0.8013\n",
      "\n",
      "Epoch 23/100\n"
     ]
    },
    {
     "name": "stderr",
     "output_type": "stream",
     "text": [
      "Training: 100%|██████████| 133/133 [00:47<00:00,  2.81it/s]\n",
      "Evaluating: 100%|██████████| 912/912 [00:42<00:00, 21.25it/s]\n"
     ]
    },
    {
     "name": "stdout",
     "output_type": "stream",
     "text": [
      "Training Loss: 0.0387\n",
      "Validation Metrics:\n",
      "  Macro F1 Score: 0.8501\n",
      "  Macro Accuracy: 0.8279\n",
      "  Macro Precision: 0.8324\n",
      "  Macro Recall: 0.8685\n",
      "\n",
      "Epoch 24/100\n"
     ]
    },
    {
     "name": "stderr",
     "output_type": "stream",
     "text": [
      "Training: 100%|██████████| 133/133 [00:46<00:00,  2.87it/s]\n",
      "Evaluating: 100%|██████████| 912/912 [00:41<00:00, 21.75it/s]\n"
     ]
    },
    {
     "name": "stdout",
     "output_type": "stream",
     "text": [
      "Training Loss: 0.0334\n",
      "Validation Metrics:\n",
      "  Macro F1 Score: 0.8454\n",
      "  Macro Accuracy: 0.8311\n",
      "  Macro Precision: 0.8508\n",
      "  Macro Recall: 0.8403\n",
      "Epoch 00024: reducing learning rate of group 0 to 1.0000e-05.\n",
      "\n",
      "Epoch 25/100\n"
     ]
    },
    {
     "name": "stderr",
     "output_type": "stream",
     "text": [
      "Training: 100%|██████████| 133/133 [00:46<00:00,  2.86it/s]\n",
      "Evaluating: 100%|██████████| 912/912 [00:41<00:00, 21.91it/s]\n"
     ]
    },
    {
     "name": "stdout",
     "output_type": "stream",
     "text": [
      "Training Loss: 0.0265\n",
      "Validation Metrics:\n",
      "  Macro F1 Score: 0.8547\n",
      "  Macro Accuracy: 0.8388\n",
      "  Macro Precision: 0.8520\n",
      "  Macro Recall: 0.8576\n",
      "\n",
      "Epoch 26/100\n"
     ]
    },
    {
     "name": "stderr",
     "output_type": "stream",
     "text": [
      "Training: 100%|██████████| 133/133 [00:46<00:00,  2.87it/s]\n",
      "Evaluating: 100%|██████████| 912/912 [00:41<00:00, 22.00it/s]\n"
     ]
    },
    {
     "name": "stdout",
     "output_type": "stream",
     "text": [
      "Training Loss: 0.0191\n",
      "Validation Metrics:\n",
      "  Macro F1 Score: 0.8473\n",
      "  Macro Accuracy: 0.8289\n",
      "  Macro Precision: 0.8440\n",
      "  Macro Recall: 0.8507\n",
      "\n",
      "Epoch 27/100\n"
     ]
    },
    {
     "name": "stderr",
     "output_type": "stream",
     "text": [
      "Training: 100%|██████████| 133/133 [00:46<00:00,  2.88it/s]\n",
      "Evaluating: 100%|██████████| 912/912 [00:42<00:00, 21.67it/s]\n"
     ]
    },
    {
     "name": "stdout",
     "output_type": "stream",
     "text": [
      "Training Loss: 0.0171\n",
      "Validation Metrics:\n",
      "  Macro F1 Score: 0.8470\n",
      "  Macro Accuracy: 0.8344\n",
      "  Macro Precision: 0.8626\n",
      "  Macro Recall: 0.8322\n",
      "\n",
      "Epoch 28/100\n"
     ]
    },
    {
     "name": "stderr",
     "output_type": "stream",
     "text": [
      "Training: 100%|██████████| 133/133 [00:45<00:00,  2.94it/s]\n",
      "Evaluating: 100%|██████████| 912/912 [00:41<00:00, 22.13it/s]\n"
     ]
    },
    {
     "name": "stdout",
     "output_type": "stream",
     "text": [
      "Training Loss: 0.0147\n",
      "Validation Metrics:\n",
      "  Macro F1 Score: 0.8485\n",
      "  Macro Accuracy: 0.8300\n",
      "  Macro Precision: 0.8449\n",
      "  Macro Recall: 0.8523\n",
      "Early stopping triggered\n",
      "Training completed. Best F1 Score: 0.8598\n",
      "device :  cuda:0\n",
      "/data/nmc/processed_image/cropped_images_1424x1648\n",
      "(0,)               1935\n",
      "(3,)                542\n",
      "(1, 2, 3)           532\n",
      "(1, 2)              286\n",
      "(2,)                233\n",
      "(1, 2, 3, 4)        190\n",
      "(2, 3)              163\n",
      "(1,)                155\n",
      "(4,)                 47\n",
      "(1, 3)               31\n",
      "(1, 2, 4)            27\n",
      "(3, 4)               22\n",
      "(1, 2, 3, 4, 5)      11\n",
      "(5,)                  9\n",
      "(2, 3, 4)             9\n",
      "(1, 4)                9\n",
      "(1, 2, 3, 5)          8\n",
      "(1, 2, 5)             7\n",
      "(2, 4)                7\n",
      "(1, 2, 3, 5, 6)       5\n",
      "(1, 2, 3, 6)          4\n",
      "(1, 3, 4)             2\n",
      "(1, 3, 6)             1\n",
      "(6,)                  1\n",
      "(1, 2, 6)             1\n",
      "(1, 2, 3, 4, 6)       1\n",
      "Name: label, dtype: int64\n",
      "train size: 4238\n",
      "(0,)            415\n",
      "(3,)            111\n",
      "(1, 2, 3)       110\n",
      "(1, 2)           68\n",
      "(1, 2, 3, 4)     44\n",
      "(2,)             43\n",
      "(2, 3)           41\n",
      "(1,)             28\n",
      "(1, 3)           11\n",
      "(4,)              9\n",
      "(5,)              5\n",
      "(3, 4)            5\n",
      "(2, 4)            4\n",
      "(1, 2, 4)         4\n",
      "(6,)              2\n",
      "(1, 4)            2\n",
      "(1, 5)            2\n",
      "(1, 3, 4)         1\n",
      "(2, 3, 4)         1\n",
      "(1, 2, 3, 6)      1\n",
      "(1, 2, 5)         1\n",
      "(1, 2, 3, 5)      1\n",
      "Name: label, dtype: int64\n",
      "val size: 909\n",
      "(0,)               415\n",
      "(1, 2, 3)          117\n",
      "(3,)               115\n",
      "(1, 2)              64\n",
      "(2,)                47\n",
      "(1, 2, 3, 4)        42\n",
      "(2, 3)              35\n",
      "(1,)                28\n",
      "(1, 3)               7\n",
      "(3, 4)               6\n",
      "(4,)                 6\n",
      "(1, 4)               6\n",
      "(2, 4)               5\n",
      "(5,)                 4\n",
      "(1, 2, 4)            3\n",
      "(1, 2, 3, 5)         2\n",
      "(1, 2, 3, 4, 6)      1\n",
      "(2, 3, 4)            1\n",
      "(1, 2, 5)            1\n",
      "(6,)                 1\n",
      "(1, 5)               1\n",
      "Name: label, dtype: int64\n",
      "test size: 907\n"
     ]
    },
    {
     "name": "stderr",
     "output_type": "stream",
     "text": [
      "/root/anaconda3/envs/gm/lib/python3.7/site-packages/torchvision/models/_utils.py:209: UserWarning: The parameter 'pretrained' is deprecated since 0.13 and may be removed in the future, please use 'weights' instead.\n",
      "  f\"The parameter '{pretrained_param}' is deprecated since 0.13 and may be removed in the future, \"\n",
      "/root/anaconda3/envs/gm/lib/python3.7/site-packages/torchvision/models/_utils.py:223: UserWarning: Arguments other than a weight enum or `None` for 'weights' are deprecated since 0.13 and may be removed in the future. The current behavior is equivalent to passing `weights=EfficientNet_V2_M_Weights.IMAGENET1K_V1`. You can also use `weights=EfficientNet_V2_M_Weights.DEFAULT` to get the most up-to-date weights.\n",
      "  warnings.warn(msg)\n"
     ]
    },
    {
     "name": "stdout",
     "output_type": "stream",
     "text": [
      "Epoch 1/100\n"
     ]
    },
    {
     "name": "stderr",
     "output_type": "stream",
     "text": [
      "Training: 100%|██████████| 133/133 [00:47<00:00,  2.80it/s]\n",
      "Evaluating: 100%|██████████| 909/909 [00:42<00:00, 21.25it/s]\n"
     ]
    },
    {
     "name": "stdout",
     "output_type": "stream",
     "text": [
      "Training Loss: 0.0853\n",
      "Validation Metrics:\n",
      "  Macro F1 Score: 0.5000\n",
      "  Macro Accuracy: 0.9890\n",
      "  Macro Precision: 0.6667\n",
      "  Macro Recall: 0.4444\n",
      "New best model saved!\n",
      "\n",
      "Epoch 2/100\n"
     ]
    },
    {
     "name": "stderr",
     "output_type": "stream",
     "text": [
      "Training: 100%|██████████| 133/133 [00:45<00:00,  2.91it/s]\n",
      "Evaluating: 100%|██████████| 909/909 [00:42<00:00, 21.19it/s]\n"
     ]
    },
    {
     "name": "stdout",
     "output_type": "stream",
     "text": [
      "Training Loss: 0.0054\n",
      "Validation Metrics:\n",
      "  Macro F1 Score: 0.6952\n",
      "  Macro Accuracy: 0.9912\n",
      "  Macro Precision: 0.7083\n",
      "  Macro Recall: 0.7222\n",
      "New best model saved!\n",
      "\n",
      "Epoch 3/100\n"
     ]
    },
    {
     "name": "stderr",
     "output_type": "stream",
     "text": [
      "Training: 100%|██████████| 133/133 [00:46<00:00,  2.87it/s]\n",
      "Evaluating: 100%|██████████| 909/909 [00:42<00:00, 21.40it/s]\n"
     ]
    },
    {
     "name": "stdout",
     "output_type": "stream",
     "text": [
      "Training Loss: 0.0056\n",
      "Validation Metrics:\n",
      "  Macro F1 Score: 0.6863\n",
      "  Macro Accuracy: 0.9923\n",
      "  Macro Precision: 0.7083\n",
      "  Macro Recall: 0.6667\n",
      "\n",
      "Epoch 4/100\n"
     ]
    },
    {
     "name": "stderr",
     "output_type": "stream",
     "text": [
      "Training: 100%|██████████| 133/133 [00:47<00:00,  2.81it/s]\n",
      "Evaluating: 100%|██████████| 909/909 [00:41<00:00, 22.01it/s]\n"
     ]
    },
    {
     "name": "stdout",
     "output_type": "stream",
     "text": [
      "Training Loss: 0.0012\n",
      "Validation Metrics:\n",
      "  Macro F1 Score: 0.5333\n",
      "  Macro Accuracy: 0.9912\n",
      "  Macro Precision: 0.6667\n",
      "  Macro Recall: 0.4444\n",
      "\n",
      "Epoch 5/100\n"
     ]
    },
    {
     "name": "stderr",
     "output_type": "stream",
     "text": [
      "Training: 100%|██████████| 133/133 [00:47<00:00,  2.83it/s]\n",
      "Evaluating: 100%|██████████| 909/909 [00:41<00:00, 21.91it/s]\n"
     ]
    },
    {
     "name": "stdout",
     "output_type": "stream",
     "text": [
      "Training Loss: 0.0055\n",
      "Validation Metrics:\n",
      "  Macro F1 Score: 0.5333\n",
      "  Macro Accuracy: 0.9879\n",
      "  Macro Precision: 0.5833\n",
      "  Macro Recall: 0.5000\n",
      "\n",
      "Epoch 6/100\n"
     ]
    },
    {
     "name": "stderr",
     "output_type": "stream",
     "text": [
      "Training: 100%|██████████| 133/133 [00:46<00:00,  2.83it/s]\n",
      "Evaluating: 100%|██████████| 909/909 [00:40<00:00, 22.62it/s]\n"
     ]
    },
    {
     "name": "stdout",
     "output_type": "stream",
     "text": [
      "Training Loss: 0.0097\n",
      "Validation Metrics:\n",
      "  Macro F1 Score: 0.5577\n",
      "  Macro Accuracy: 0.9868\n",
      "  Macro Precision: 0.7353\n",
      "  Macro Recall: 0.6111\n",
      "\n",
      "Epoch 7/100\n"
     ]
    },
    {
     "name": "stderr",
     "output_type": "stream",
     "text": [
      "Training: 100%|██████████| 133/133 [00:46<00:00,  2.85it/s]\n",
      "Evaluating: 100%|██████████| 909/909 [00:42<00:00, 21.21it/s]\n",
      "/root/anaconda3/envs/gm/lib/python3.7/site-packages/sklearn/metrics/_classification.py:1318: UndefinedMetricWarning: Precision is ill-defined and being set to 0.0 in labels with no predicted samples. Use `zero_division` parameter to control this behavior.\n",
      "  _warn_prf(average, modifier, msg_start, len(result))\n"
     ]
    },
    {
     "name": "stdout",
     "output_type": "stream",
     "text": [
      "Training Loss: 0.0012\n",
      "Validation Metrics:\n",
      "  Macro F1 Score: 0.2667\n",
      "  Macro Accuracy: 0.9890\n",
      "  Macro Precision: 0.3333\n",
      "  Macro Recall: 0.2222\n",
      "\n",
      "Epoch 8/100\n"
     ]
    },
    {
     "name": "stderr",
     "output_type": "stream",
     "text": [
      "Training: 100%|██████████| 133/133 [00:47<00:00,  2.78it/s]\n",
      "Evaluating: 100%|██████████| 909/909 [00:40<00:00, 22.17it/s]\n"
     ]
    },
    {
     "name": "stdout",
     "output_type": "stream",
     "text": [
      "Training Loss: 0.0024\n",
      "Validation Metrics:\n",
      "  Macro F1 Score: 0.7125\n",
      "  Macro Accuracy: 0.9923\n",
      "  Macro Precision: 0.8571\n",
      "  Macro Recall: 0.6111\n",
      "New best model saved!\n",
      "\n",
      "Epoch 9/100\n"
     ]
    },
    {
     "name": "stderr",
     "output_type": "stream",
     "text": [
      "Training: 100%|██████████| 133/133 [00:47<00:00,  2.83it/s]\n",
      "Evaluating: 100%|██████████| 909/909 [00:42<00:00, 21.47it/s]\n"
     ]
    },
    {
     "name": "stdout",
     "output_type": "stream",
     "text": [
      "Training Loss: 0.0008\n",
      "Validation Metrics:\n",
      "  Macro F1 Score: 0.6029\n",
      "  Macro Accuracy: 0.9923\n",
      "  Macro Precision: 0.8750\n",
      "  Macro Recall: 0.5000\n",
      "\n",
      "Epoch 10/100\n"
     ]
    },
    {
     "name": "stderr",
     "output_type": "stream",
     "text": [
      "Training: 100%|██████████| 133/133 [00:46<00:00,  2.85it/s]\n",
      "Evaluating: 100%|██████████| 909/909 [00:41<00:00, 21.80it/s]\n"
     ]
    },
    {
     "name": "stdout",
     "output_type": "stream",
     "text": [
      "Training Loss: 0.0021\n",
      "Validation Metrics:\n",
      "  Macro F1 Score: 0.5833\n",
      "  Macro Accuracy: 0.9912\n",
      "  Macro Precision: 0.8333\n",
      "  Macro Recall: 0.5000\n",
      "\n",
      "Epoch 11/100\n"
     ]
    },
    {
     "name": "stderr",
     "output_type": "stream",
     "text": [
      "Training: 100%|██████████| 133/133 [00:47<00:00,  2.82it/s]\n",
      "Evaluating: 100%|██████████| 909/909 [00:41<00:00, 21.69it/s]\n"
     ]
    },
    {
     "name": "stdout",
     "output_type": "stream",
     "text": [
      "Training Loss: 0.0013\n",
      "Validation Metrics:\n",
      "  Macro F1 Score: 0.6500\n",
      "  Macro Accuracy: 0.9945\n",
      "  Macro Precision: 1.0000\n",
      "  Macro Recall: 0.5000\n",
      "\n",
      "Epoch 12/100\n"
     ]
    },
    {
     "name": "stderr",
     "output_type": "stream",
     "text": [
      "Training: 100%|██████████| 133/133 [00:46<00:00,  2.86it/s]\n",
      "Evaluating: 100%|██████████| 909/909 [00:40<00:00, 22.21it/s]\n"
     ]
    },
    {
     "name": "stdout",
     "output_type": "stream",
     "text": [
      "Training Loss: 0.0026\n",
      "Validation Metrics:\n",
      "  Macro F1 Score: 0.7571\n",
      "  Macro Accuracy: 0.9945\n",
      "  Macro Precision: 1.0000\n",
      "  Macro Recall: 0.6111\n",
      "New best model saved!\n",
      "\n",
      "Epoch 13/100\n"
     ]
    },
    {
     "name": "stderr",
     "output_type": "stream",
     "text": [
      "Training: 100%|██████████| 133/133 [00:47<00:00,  2.83it/s]\n",
      "Evaluating: 100%|██████████| 909/909 [00:42<00:00, 21.59it/s]\n"
     ]
    },
    {
     "name": "stdout",
     "output_type": "stream",
     "text": [
      "Training Loss: 0.0012\n",
      "Validation Metrics:\n",
      "  Macro F1 Score: 0.6875\n",
      "  Macro Accuracy: 0.9956\n",
      "  Macro Precision: 1.0000\n",
      "  Macro Recall: 0.5556\n",
      "\n",
      "Epoch 14/100\n"
     ]
    },
    {
     "name": "stderr",
     "output_type": "stream",
     "text": [
      "Training: 100%|██████████| 133/133 [00:46<00:00,  2.86it/s]\n",
      "Evaluating: 100%|██████████| 909/909 [00:42<00:00, 21.38it/s]\n"
     ]
    },
    {
     "name": "stdout",
     "output_type": "stream",
     "text": [
      "Training Loss: 0.0063\n",
      "Validation Metrics:\n",
      "  Macro F1 Score: 0.6857\n",
      "  Macro Accuracy: 0.9934\n",
      "  Macro Precision: 0.7500\n",
      "  Macro Recall: 0.6667\n",
      "\n",
      "Epoch 15/100\n"
     ]
    },
    {
     "name": "stderr",
     "output_type": "stream",
     "text": [
      "Training: 100%|██████████| 133/133 [00:47<00:00,  2.81it/s]\n",
      "Evaluating: 100%|██████████| 909/909 [00:41<00:00, 22.00it/s]\n"
     ]
    },
    {
     "name": "stdout",
     "output_type": "stream",
     "text": [
      "Training Loss: 0.0050\n",
      "Validation Metrics:\n",
      "  Macro F1 Score: 0.4641\n",
      "  Macro Accuracy: 0.9791\n",
      "  Macro Precision: 0.4417\n",
      "  Macro Recall: 0.6667\n",
      "\n",
      "Epoch 16/100\n"
     ]
    },
    {
     "name": "stderr",
     "output_type": "stream",
     "text": [
      "Training: 100%|██████████| 133/133 [00:46<00:00,  2.86it/s]\n",
      "Evaluating: 100%|██████████| 909/909 [00:42<00:00, 21.38it/s]\n"
     ]
    },
    {
     "name": "stdout",
     "output_type": "stream",
     "text": [
      "Training Loss: 0.0034\n",
      "Validation Metrics:\n",
      "  Macro F1 Score: 0.6500\n",
      "  Macro Accuracy: 0.9945\n",
      "  Macro Precision: 1.0000\n",
      "  Macro Recall: 0.5000\n",
      "\n",
      "Epoch 17/100\n"
     ]
    },
    {
     "name": "stderr",
     "output_type": "stream",
     "text": [
      "Training: 100%|██████████| 133/133 [00:45<00:00,  2.92it/s]\n",
      "Evaluating: 100%|██████████| 909/909 [00:40<00:00, 22.35it/s]\n"
     ]
    },
    {
     "name": "stdout",
     "output_type": "stream",
     "text": [
      "Training Loss: 0.0003\n",
      "Validation Metrics:\n",
      "  Macro F1 Score: 0.6250\n",
      "  Macro Accuracy: 0.9934\n",
      "  Macro Precision: 0.9286\n",
      "  Macro Recall: 0.5000\n",
      "\n",
      "Epoch 18/100\n"
     ]
    },
    {
     "name": "stderr",
     "output_type": "stream",
     "text": [
      "Training: 100%|██████████| 133/133 [00:48<00:00,  2.73it/s]\n",
      "Evaluating: 100%|██████████| 909/909 [00:40<00:00, 22.58it/s]\n",
      "/root/anaconda3/envs/gm/lib/python3.7/site-packages/sklearn/metrics/_classification.py:1318: UndefinedMetricWarning: Precision is ill-defined and being set to 0.0 in labels with no predicted samples. Use `zero_division` parameter to control this behavior.\n",
      "  _warn_prf(average, modifier, msg_start, len(result))\n"
     ]
    },
    {
     "name": "stdout",
     "output_type": "stream",
     "text": [
      "Training Loss: 0.0024\n",
      "Validation Metrics:\n",
      "  Macro F1 Score: 0.3889\n",
      "  Macro Accuracy: 0.9923\n",
      "  Macro Precision: 0.3889\n",
      "  Macro Recall: 0.3889\n",
      "Epoch 00018: reducing learning rate of group 0 to 1.0000e-05.\n",
      "\n",
      "Epoch 19/100\n"
     ]
    },
    {
     "name": "stderr",
     "output_type": "stream",
     "text": [
      "Training: 100%|██████████| 133/133 [00:46<00:00,  2.84it/s]\n",
      "Evaluating: 100%|██████████| 909/909 [00:41<00:00, 21.72it/s]\n",
      "/root/anaconda3/envs/gm/lib/python3.7/site-packages/sklearn/metrics/_classification.py:1318: UndefinedMetricWarning: Precision is ill-defined and being set to 0.0 in labels with no predicted samples. Use `zero_division` parameter to control this behavior.\n",
      "  _warn_prf(average, modifier, msg_start, len(result))\n"
     ]
    },
    {
     "name": "stdout",
     "output_type": "stream",
     "text": [
      "Training Loss: 0.0008\n",
      "Validation Metrics:\n",
      "  Macro F1 Score: 0.3750\n",
      "  Macro Accuracy: 0.9923\n",
      "  Macro Precision: 0.4286\n",
      "  Macro Recall: 0.3333\n",
      "\n",
      "Epoch 20/100\n"
     ]
    },
    {
     "name": "stderr",
     "output_type": "stream",
     "text": [
      "Training: 100%|██████████| 133/133 [00:45<00:00,  2.91it/s]\n",
      "Evaluating: 100%|██████████| 909/909 [00:41<00:00, 22.03it/s]\n",
      "/root/anaconda3/envs/gm/lib/python3.7/site-packages/sklearn/metrics/_classification.py:1318: UndefinedMetricWarning: Precision is ill-defined and being set to 0.0 in labels with no predicted samples. Use `zero_division` parameter to control this behavior.\n",
      "  _warn_prf(average, modifier, msg_start, len(result))\n"
     ]
    },
    {
     "name": "stdout",
     "output_type": "stream",
     "text": [
      "Training Loss: 0.0006\n",
      "Validation Metrics:\n",
      "  Macro F1 Score: 0.3571\n",
      "  Macro Accuracy: 0.9923\n",
      "  Macro Precision: 0.5000\n",
      "  Macro Recall: 0.2778\n",
      "\n",
      "Epoch 21/100\n"
     ]
    },
    {
     "name": "stderr",
     "output_type": "stream",
     "text": [
      "Training: 100%|██████████| 133/133 [00:46<00:00,  2.84it/s]\n",
      "Evaluating: 100%|██████████| 909/909 [00:41<00:00, 22.04it/s]\n",
      "/root/anaconda3/envs/gm/lib/python3.7/site-packages/sklearn/metrics/_classification.py:1318: UndefinedMetricWarning: Precision is ill-defined and being set to 0.0 in labels with no predicted samples. Use `zero_division` parameter to control this behavior.\n",
      "  _warn_prf(average, modifier, msg_start, len(result))\n"
     ]
    },
    {
     "name": "stdout",
     "output_type": "stream",
     "text": [
      "Training Loss: 0.0004\n",
      "Validation Metrics:\n",
      "  Macro F1 Score: 0.3750\n",
      "  Macro Accuracy: 0.9923\n",
      "  Macro Precision: 0.4286\n",
      "  Macro Recall: 0.3333\n",
      "\n",
      "Epoch 22/100\n"
     ]
    },
    {
     "name": "stderr",
     "output_type": "stream",
     "text": [
      "Training: 100%|██████████| 133/133 [00:45<00:00,  2.92it/s]\n",
      "Evaluating: 100%|██████████| 909/909 [00:40<00:00, 22.46it/s]\n"
     ]
    },
    {
     "name": "stdout",
     "output_type": "stream",
     "text": [
      "Training Loss: 0.0004\n",
      "Validation Metrics:\n",
      "  Macro F1 Score: 0.3529\n",
      "  Macro Accuracy: 0.9912\n",
      "  Macro Precision: 0.3750\n",
      "  Macro Recall: 0.3333\n",
      "Early stopping triggered\n",
      "Training completed. Best F1 Score: 0.7571\n"
     ]
    },
    {
     "name": "stderr",
     "output_type": "stream",
     "text": [
      "/root/anaconda3/envs/gm/lib/python3.7/site-packages/sklearn/metrics/_classification.py:1318: UndefinedMetricWarning: Precision is ill-defined and being set to 0.0 in labels with no predicted samples. Use `zero_division` parameter to control this behavior.\n",
      "  _warn_prf(average, modifier, msg_start, len(result))\n"
     ]
    }
   ],
   "source": [
    "ncm_aptos_labels = [[0],[2],[1],[1,2],[5,6]]\n",
    "for target_label_idx in ncm_aptos_labels:\n",
    "    if target_label_idx == [0] or target_label_idx == [2] or target_label_idx == [1]:\n",
    "        continue\n",
    "    start = time.time()\n",
    "    best_mf1 = 0.0\n",
    "    device = torch.device(cfg['DEVICE'])\n",
    "    print(\"device : \", device)\n",
    "    num_workers = mp.cpu_count()\n",
    "    train_cfg, eval_cfg = cfg['TRAIN'], cfg['EVAL']\n",
    "    dataset_cfg, model_cfg = cfg['DATASET'], cfg['MODEL']\n",
    "    loss_cfg, optim_cfg, sched_cfg = cfg['LOSS'], cfg['OPTIMIZER'], cfg['SCHEDULER']\n",
    "    epochs, lr = train_cfg['EPOCHS'], optim_cfg['LR']\n",
    "\n",
    "    image_size = [256,256]\n",
    "    image_dir = Path(dataset_cfg['ROOT']) / 'train_images'\n",
    "    train_transform = get_train_augmentation(image_size)\n",
    "    val_test_transform = get_val_test_transform(image_size)\n",
    "    batch_size = 32\n",
    "\n",
    "\n",
    "    dataset = eval(dataset_cfg['NAME'])(\n",
    "        dataset_cfg['ROOT'] + '/cropped_images_1424x1648',\n",
    "        dataset_cfg['TRAIN_RATIO'],\n",
    "        dataset_cfg['VALID_RATIO'],\n",
    "        dataset_cfg['TEST_RATIO'],\n",
    "        transform=None\n",
    "    )\n",
    "    trainset, valset, testset = dataset.get_splits()\n",
    "    trainset.transform = train_transform\n",
    "    valset.transform = val_test_transform\n",
    "    testset.transform = val_test_transform\n",
    "\n",
    "\n",
    "\n",
    "    # DataLoader 수정\n",
    "    trainloader = DataLoader(\n",
    "        trainset, \n",
    "        batch_sampler=MultiTargetBalancedBatchSampler(trainset, batch_size=batch_size, target_classes =target_label_idx),\n",
    "        num_workers=num_workers,\n",
    "        pin_memory=True\n",
    "    )\n",
    "    # trainloader = DataLoader(trainset, batch_size=batch_size, num_workers=num_workers, drop_last=True, pin_memory=True)\n",
    "    valloader = DataLoader(valset, batch_size=1, num_workers=1, pin_memory=True)\n",
    "    testloader = DataLoader(testset, batch_size=1, num_workers=1, pin_memory=True)\n",
    "    \n",
    "    # Model definition (changed to binary classification)\n",
    "    efficientnet = models.efficientnet_v2_m(pretrained=True)\n",
    "    num_ftrs = efficientnet.classifier[1].in_features\n",
    "    num_targets = len(target_label_idx)\n",
    "    \n",
    "    \n",
    "    if num_targets == 1:\n",
    "        # 단일 레이블 케이스 (기존 코드와 동일)\n",
    "        efficientnet.classifier = nn.Sequential(\n",
    "            nn.BatchNorm1d(num_ftrs),\n",
    "            nn.Linear(num_ftrs, 1)\n",
    "        )\n",
    "    else:\n",
    "        # 다중 레이블 케이스\n",
    "        efficientnet.classifier = nn.Sequential(\n",
    "            nn.BatchNorm1d(num_ftrs),\n",
    "            nn.Linear(num_ftrs, num_targets)\n",
    "        )\n",
    "    efficientnet = efficientnet.to(device)\n",
    "    \n",
    "    # L2 regularization\n",
    "    weight_decay = 1e-4\n",
    "    optimizer = torch.optim.AdamW(efficientnet.parameters(), lr=0.0001, weight_decay=weight_decay)\n",
    "    criterion = nn.BCEWithLogitsLoss()\n",
    "    scaler = GradScaler(enabled=train_cfg['AMP'])\n",
    "    # Learning rate scheduler\n",
    "    scheduler = optim.lr_scheduler.ReduceLROnPlateau(optimizer, mode='max', factor=0.1, patience=5, verbose=True)\n",
    "\n",
    "    # Main execution code\n",
    "    epochs = 100\n",
    "\n",
    "\n",
    "    best_f1 = train_and_evaluate(\n",
    "        efficientnet, \n",
    "        trainloader, \n",
    "        valloader, \n",
    "        criterion, \n",
    "        optimizer, \n",
    "        scaler, \n",
    "        device, \n",
    "        epochs,\n",
    "        target_label_idx\n",
    "    )\n",
    "\n",
    "    print(f\"Training completed. Best F1 Score: {best_f1:.4f}\")"
   ]
  },
  {
   "cell_type": "code",
   "execution_count": null,
   "metadata": {},
   "outputs": [],
   "source": []
  },
  {
   "cell_type": "code",
   "execution_count": null,
   "metadata": {},
   "outputs": [],
   "source": []
  },
  {
   "cell_type": "code",
   "execution_count": null,
   "metadata": {},
   "outputs": [],
   "source": []
  },
  {
   "cell_type": "code",
   "execution_count": null,
   "metadata": {},
   "outputs": [],
   "source": []
  },
  {
   "cell_type": "code",
   "execution_count": null,
   "metadata": {},
   "outputs": [],
   "source": []
  },
  {
   "cell_type": "code",
   "execution_count": 14,
   "metadata": {},
   "outputs": [],
   "source": [
    "def evaluate(model, dataloader, device, target_label_idx):\n",
    "   model.eval()\n",
    "   all_preds = []\n",
    "   all_labels = []\n",
    "   num_targets = len(target_label_idx)\n",
    "   \n",
    "   with torch.no_grad():\n",
    "       for images, labels in tqdm(dataloader, desc=\"Evaluating\"):\n",
    "           images = images.to(device)\n",
    "           \n",
    "           if num_targets == 1:\n",
    "               # 단일 레이블 케이스\n",
    "               target_labels = labels[:, target_label_idx].to(device)\n",
    "               outputs = model(images)\n",
    "               \n",
    "               # 차원 처리\n",
    "               if len(outputs.shape) == 2:\n",
    "                   outputs = outputs.squeeze(1)\n",
    "               \n",
    "               preds = (torch.sigmoid(outputs) > 0.5).float()\n",
    "               \n",
    "               all_preds.append(preds.cpu().numpy().reshape(-1))\n",
    "               all_labels.append(target_labels.cpu().numpy().reshape(-1))\n",
    "           \n",
    "           else:\n",
    "               # 다중 레이블 케이스\n",
    "               target_labels = labels[:, target_label_idx].to(device)\n",
    "               outputs = model(images)\n",
    "               \n",
    "               # 각 레이블에 대한 예측\n",
    "               preds = (torch.sigmoid(outputs) > 0.5).float()\n",
    "               \n",
    "               all_preds.append(preds.cpu().numpy())\n",
    "               all_labels.append(target_labels.cpu().numpy())\n",
    "   \n",
    "   # numpy array로 변환\n",
    "   all_preds = np.concatenate(all_preds)\n",
    "   all_labels = np.concatenate(all_labels)\n",
    "   \n",
    "   if num_targets == 1:\n",
    "       # 단일 레이블 메트릭\n",
    "       f1 = f1_score(all_labels, all_preds, average='binary')\n",
    "       accuracy = accuracy_score(all_labels, all_preds)\n",
    "       precision = precision_score(all_labels, all_preds)\n",
    "       recall = recall_score(all_labels, all_preds)\n",
    "       \n",
    "       return f1, accuracy, precision, recall\n",
    "   else:\n",
    "       # 다중 레이블 메트릭\n",
    "       # 클래스별 F1 점수 계산\n",
    "       class_f1s = []\n",
    "       for i in range(num_targets):\n",
    "           class_f1 = f1_score(all_labels[:, i], all_preds[:, i], average='binary')\n",
    "           class_f1s.append(class_f1)\n",
    "           print(f\"Class {target_label_idx[i]} F1: {class_f1:.4f}\")\n",
    "       \n",
    "       # 전체 평균 메트릭\n",
    "       macro_f1 = np.mean(class_f1s)\n",
    "       accuracy = accuracy_score(all_labels, all_preds)\n",
    "       precision = precision_score(all_labels, all_preds, average='macro')\n",
    "       recall = recall_score(all_labels, all_preds, average='macro')\n",
    "       \n",
    "       return macro_f1, accuracy, precision, recall"
   ]
  },
  {
   "cell_type": "code",
   "execution_count": 15,
   "metadata": {},
   "outputs": [
    {
     "name": "stderr",
     "output_type": "stream",
     "text": [
      "Evaluating: 100%|██████████| 907/907 [00:40<00:00, 22.21it/s]\n",
      "/root/anaconda3/envs/gm/lib/python3.7/site-packages/torchvision/models/_utils.py:209: UserWarning: The parameter 'pretrained' is deprecated since 0.13 and may be removed in the future, please use 'weights' instead.\n",
      "  f\"The parameter '{pretrained_param}' is deprecated since 0.13 and may be removed in the future, \"\n",
      "/root/anaconda3/envs/gm/lib/python3.7/site-packages/torchvision/models/_utils.py:223: UserWarning: Arguments other than a weight enum or `None` for 'weights' are deprecated since 0.13 and may be removed in the future. The current behavior is equivalent to passing `weights=EfficientNet_V2_M_Weights.IMAGENET1K_V1`. You can also use `weights=EfficientNet_V2_M_Weights.DEFAULT` to get the most up-to-date weights.\n",
      "  warnings.warn(msg)\n"
     ]
    },
    {
     "name": "stdout",
     "output_type": "stream",
     "text": [
      "Test Results:\n",
      "  F1 Score: 0.8921\n",
      "  Accuracy: 0.9008\n",
      "  Precision: 0.8878\n",
      "  Recall: 0.8964\n"
     ]
    },
    {
     "name": "stderr",
     "output_type": "stream",
     "text": [
      "Evaluating: 100%|██████████| 907/907 [00:42<00:00, 21.46it/s]\n",
      "/root/anaconda3/envs/gm/lib/python3.7/site-packages/torchvision/models/_utils.py:209: UserWarning: The parameter 'pretrained' is deprecated since 0.13 and may be removed in the future, please use 'weights' instead.\n",
      "  f\"The parameter '{pretrained_param}' is deprecated since 0.13 and may be removed in the future, \"\n",
      "/root/anaconda3/envs/gm/lib/python3.7/site-packages/torchvision/models/_utils.py:223: UserWarning: Arguments other than a weight enum or `None` for 'weights' are deprecated since 0.13 and may be removed in the future. The current behavior is equivalent to passing `weights=EfficientNet_V2_M_Weights.IMAGENET1K_V1`. You can also use `weights=EfficientNet_V2_M_Weights.DEFAULT` to get the most up-to-date weights.\n",
      "  warnings.warn(msg)\n"
     ]
    },
    {
     "name": "stdout",
     "output_type": "stream",
     "text": [
      "Test Results:\n",
      "  F1 Score: 0.8644\n",
      "  Accuracy: 0.9052\n",
      "  Precision: 0.8671\n",
      "  Recall: 0.8616\n"
     ]
    },
    {
     "name": "stderr",
     "output_type": "stream",
     "text": [
      "Evaluating: 100%|██████████| 907/907 [00:42<00:00, 21.48it/s]\n",
      "/root/anaconda3/envs/gm/lib/python3.7/site-packages/torchvision/models/_utils.py:209: UserWarning: The parameter 'pretrained' is deprecated since 0.13 and may be removed in the future, please use 'weights' instead.\n",
      "  f\"The parameter '{pretrained_param}' is deprecated since 0.13 and may be removed in the future, \"\n",
      "/root/anaconda3/envs/gm/lib/python3.7/site-packages/torchvision/models/_utils.py:223: UserWarning: Arguments other than a weight enum or `None` for 'weights' are deprecated since 0.13 and may be removed in the future. The current behavior is equivalent to passing `weights=EfficientNet_V2_M_Weights.IMAGENET1K_V1`. You can also use `weights=EfficientNet_V2_M_Weights.DEFAULT` to get the most up-to-date weights.\n",
      "  warnings.warn(msg)\n"
     ]
    },
    {
     "name": "stdout",
     "output_type": "stream",
     "text": [
      "Test Results:\n",
      "  F1 Score: 0.8535\n",
      "  Accuracy: 0.9107\n",
      "  Precision: 0.8399\n",
      "  Recall: 0.8676\n"
     ]
    },
    {
     "name": "stderr",
     "output_type": "stream",
     "text": [
      "Evaluating: 100%|██████████| 907/907 [00:41<00:00, 21.91it/s]\n",
      "/root/anaconda3/envs/gm/lib/python3.7/site-packages/torchvision/models/_utils.py:209: UserWarning: The parameter 'pretrained' is deprecated since 0.13 and may be removed in the future, please use 'weights' instead.\n",
      "  f\"The parameter '{pretrained_param}' is deprecated since 0.13 and may be removed in the future, \"\n",
      "/root/anaconda3/envs/gm/lib/python3.7/site-packages/torchvision/models/_utils.py:223: UserWarning: Arguments other than a weight enum or `None` for 'weights' are deprecated since 0.13 and may be removed in the future. The current behavior is equivalent to passing `weights=EfficientNet_V2_M_Weights.IMAGENET1K_V1`. You can also use `weights=EfficientNet_V2_M_Weights.DEFAULT` to get the most up-to-date weights.\n",
      "  warnings.warn(msg)\n"
     ]
    },
    {
     "name": "stdout",
     "output_type": "stream",
     "text": [
      "Class 1 F1: 0.8491\n",
      "Class 2 F1: 0.8545\n",
      "Test Results:\n",
      "  F1 Score: 0.8518\n",
      "  Accuracy: 0.8379\n",
      "  Precision: 0.8613\n",
      "  Recall: 0.8428\n"
     ]
    },
    {
     "name": "stderr",
     "output_type": "stream",
     "text": [
      "Evaluating: 100%|██████████| 907/907 [00:42<00:00, 21.58it/s]\n"
     ]
    },
    {
     "name": "stdout",
     "output_type": "stream",
     "text": [
      "Class 5 F1: 0.4000\n",
      "Class 6 F1: 0.0000\n",
      "Test Results:\n",
      "  F1 Score: 0.2000\n",
      "  Accuracy: 0.9901\n",
      "  Precision: 0.5000\n",
      "  Recall: 0.1250\n"
     ]
    }
   ],
   "source": [
    "ncm_aptos_labels = [[0],[2],[1],[1,2],[5,6]]\n",
    "for target_label_idx in ncm_aptos_labels:\n",
    "    # Model definition (changed to binary classification)\n",
    "    efficientnet = models.efficientnet_v2_m(pretrained=True)\n",
    "    num_ftrs = efficientnet.classifier[1].in_features\n",
    "    num_targets = len(target_label_idx)\n",
    "    \n",
    "    \n",
    "    if num_targets == 1:\n",
    "        # 단일 레이블 케이스 (기존 코드와 동일)\n",
    "        efficientnet.classifier = nn.Sequential(\n",
    "            nn.BatchNorm1d(num_ftrs),\n",
    "            nn.Linear(num_ftrs, 1)\n",
    "        )\n",
    "    else:\n",
    "        # 다중 레이블 케이스\n",
    "        efficientnet.classifier = nn.Sequential(\n",
    "            nn.BatchNorm1d(num_ftrs),\n",
    "            nn.Linear(num_ftrs, num_targets)\n",
    "        )\n",
    "    efficientnet = efficientnet.to(device)\n",
    "    \n",
    "    if len(target_label_idx)==1:\n",
    "        # Final evaluation on test set\n",
    "        efficientnet.load_state_dict(torch.load(f'model/singlelabel/best_model_label_{target_label_idx[0]}_nmc_cnn.pth'))\n",
    "    else:\n",
    "        efficientnet.load_state_dict(torch.load(f'model/singlelabel/best_model_labels_{\"-\".join(map(str,target_label_idx))}_nmc_cnn.pth'))\n",
    "    test_f1, test_acc, test_prec, test_rec = evaluate(efficientnet, testloader, device, target_label_idx)\n",
    "    print(f\"Test Results:\")\n",
    "    print(f\"  F1 Score: {test_f1:.4f}\")\n",
    "    print(f\"  Accuracy: {test_acc:.4f}\")\n",
    "    print(f\"  Precision: {test_prec:.4f}\")\n",
    "    print(f\"  Recall: {test_rec:.4f}\")"
   ]
  },
  {
   "cell_type": "code",
   "execution_count": null,
   "metadata": {},
   "outputs": [],
   "source": []
  }
 ],
 "metadata": {
  "kernelspec": {
   "display_name": "gm",
   "language": "python",
   "name": "python3"
  },
  "language_info": {
   "codemirror_mode": {
    "name": "ipython",
    "version": 3
   },
   "file_extension": ".py",
   "mimetype": "text/x-python",
   "name": "python",
   "nbconvert_exporter": "python",
   "pygments_lexer": "ipython3",
   "version": "3.7.16"
  }
 },
 "nbformat": 4,
 "nbformat_minor": 2
}
