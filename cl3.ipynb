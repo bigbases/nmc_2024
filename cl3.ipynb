{
 "cells": [
  {
   "cell_type": "code",
   "execution_count": 1,
   "metadata": {},
   "outputs": [],
   "source": [
    "import torch \n",
    "import argparse\n",
    "import yaml\n",
    "import time\n",
    "import multiprocessing as mp\n",
    "import torch.nn.functional as F\n",
    "from tabulate import tabulate\n",
    "from tqdm import tqdm\n",
    "from torch.utils.data import DataLoader\n",
    "from pathlib import Path\n",
    "#from torch.utils.tensorboard import SummaryWriter\n",
    "from torch.cuda.amp import GradScaler, autocast\n",
    "from torch.nn.parallel import DistributedDataParallel as DDP\n",
    "from torch.utils.data import DistributedSampler, RandomSampler\n",
    "from torch import distributed as dist\n",
    "from nmc.models import *\n",
    "from nmc.datasets import * \n",
    "from nmc.augmentations import get_train_augmentation, get_val_augmentation\n",
    "from nmc.losses import get_loss\n",
    "from nmc.schedulers import get_scheduler\n",
    "from nmc.optimizers import get_optimizer\n",
    "from nmc.utils.utils import fix_seeds, setup_cudnn, cleanup_ddp, setup_ddp\n",
    "from tools.val import evaluate_epi\n",
    "from nmc.utils.episodic_utils import * \n",
    "from scipy.cluster import hierarchy\n",
    "from sklearn.preprocessing import MinMaxScaler\n",
    "import matplotlib.pyplot as plt\n",
    "from torchvision import models\n",
    "import torch.nn as nn\n",
    "from torch.optim import lr_scheduler\n",
    "import numpy as np\n",
    "from sklearn.metrics import accuracy_score, f1_score\n",
    "import pandas as pd\n",
    "import matplotlib.pyplot as plt\n",
    "import seaborn as sns\n",
    "from sklearn.metrics import mutual_info_score\n",
    "from scipy.cluster import hierarchy\n",
    "from tqdm import tqdm\n",
    "from sklearn.metrics import accuracy_score, precision_score, recall_score, f1_score, hamming_loss\n",
    "from torch.utils.data import Dataset, DataLoader, Sampler\n"
   ]
  },
  {
   "cell_type": "code",
   "execution_count": null,
   "metadata": {},
   "outputs": [
    {
     "name": "stdout",
     "output_type": "stream",
     "text": [
      "{'DEVICE': 'cuda:1', 'SAVE_DIR': 'output', 'MODEL': {'NAME': 'FGMaxxVit', 'BACKBONE': 'FGMaxxVit', 'PRETRAINED': 'checkpoints/pretrained/maxvit_base_tf_512.in1k_pretrained_weights.pth', 'UNFREEZE': 'full', 'VERSION': 'ImageNet_APTOS_1024'}, 'DATASET': {'NAME': 'NMCDataset', 'ROOT': '/data/nmc/processed_image', 'TRAIN_RATIO': 0.7, 'VALID_RATIO': 0.15, 'TEST_RATIO': 0.15}, 'TRAIN': {'IMAGE_SIZE': [512, 512], 'BATCH_SIZE': 32, 'EPOCHS': 100, 'EVAL_INTERVAL': 25, 'AMP': False, 'DDP': False}, 'LOSS': {'NAME': 'BCEWithLogitsLoss', 'CLS_WEIGHTS': False}, 'OPTIMIZER': {'NAME': 'adamw', 'LR': 0.001, 'WEIGHT_DECAY': 0.01}, 'SCHEDULER': {'NAME': 'warmuppolylr', 'POWER': 0.9, 'WARMUP': 10, 'WARMUP_RATIO': 0.1}, 'EVAL': {'MODEL_PATH': 'checkpoints/pretrained/FGMaxxVit/FGMaxxVit.FGMaxxVit.NMC.pth', 'IMAGE_SIZE': [512, 512]}, 'TEST': {'MODEL_PATH': 'checkpoints/pretrained/FGMaxxVit/FGMaxxVit.FGMaxxVit.NMC.pth', 'FILE': 'assests/ade', 'IMAGE_SIZE': [512, 512], 'OVERLAY': True}}\n"
     ]
    }
   ],
   "source": [
    "with open('configs/NMC.yaml') as f:\n",
    "    cfg = yaml.load(f, Loader=yaml.SafeLoader)\n",
    "print(cfg)\n",
    "fix_seeds(3407)\n",
    "setup_cudnn()\n",
    "gpu = setup_ddp()\n",
    "save_dir = Path(cfg['SAVE_DIR'])\n",
    "save_dir.mkdir(exist_ok=True)\n",
    "cleanup_ddp()"
   ]
  },
  {
   "cell_type": "code",
   "execution_count": 3,
   "metadata": {},
   "outputs": [],
   "source": [
    "def extract_labels(dataloader):\n",
    "    all_labels = []\n",
    "    for _, labels in tqdm(dataloader, desc=\"Extracting labels\"):\n",
    "        all_labels.append(labels.numpy())\n",
    "    return np.vstack(all_labels)\n",
    "def calculate_mutual_info_matrix(label_matrix):\n",
    "    n_labels = label_matrix.shape[1]\n",
    "    mi_matrix = np.zeros((n_labels, n_labels))\n",
    "    for i in range(n_labels):\n",
    "        for j in range(i, n_labels):\n",
    "            mi = mutual_info_score(label_matrix[:, i], label_matrix[:, j])\n",
    "            mi_matrix[i, j] = mi\n",
    "            mi_matrix[j, i] = mi\n",
    "    return mi_matrix\n",
    "def plot_heatmap(matrix, title):\n",
    "    plt.figure(figsize=(10, 8))\n",
    "    sns.heatmap(matrix, annot=False, cmap='coolwarm')\n",
    "    plt.title(title)\n",
    "    plt.show()\n",
    "def analyze_trainloader_labels(trainloader):\n",
    "    # 라벨 추출\n",
    "    label_matrix = extract_labels(trainloader)\n",
    "\n",
    "    # 상호 정보량 매트릭스 계산 및 시각화\n",
    "    mi_matrix = calculate_mutual_info_matrix(label_matrix)\n",
    "    plot_heatmap(mi_matrix, 'Label Mutual Information Matrix')\n",
    "    return mi_matrix\n",
    "def select_most_independent_labels(mi_matrix):\n",
    "    linkage = hierarchy.linkage(mi_matrix, method='average')\n",
    "    \n",
    "    n_labels = mi_matrix.shape[0]\n",
    "    ordered_labels = []\n",
    "    remaining_clusters = list(range(2 * n_labels - 1))\n",
    "    \n",
    "    while len(ordered_labels) < n_labels:\n",
    "        heights = [linkage[i-n_labels, 2] if i >= n_labels else 0 for i in remaining_clusters]\n",
    "        max_height_idx = np.argmax(heights)\n",
    "        selected_cluster = remaining_clusters[max_height_idx]\n",
    "        \n",
    "        if selected_cluster < n_labels:\n",
    "            if selected_cluster not in ordered_labels:\n",
    "                ordered_labels.append(selected_cluster)\n",
    "            remaining_clusters.remove(selected_cluster)\n",
    "        else:\n",
    "            left, right = linkage[selected_cluster - n_labels, :2].astype(int)\n",
    "            for child in [left, right]:\n",
    "                if child < n_labels and child not in ordered_labels:\n",
    "                    ordered_labels.append(child)\n",
    "            remaining_clusters.remove(selected_cluster)\n",
    "        \n",
    "        # 모든 라벨이 선택되었다면 종료\n",
    "        if len(ordered_labels) == n_labels:\n",
    "            break\n",
    "    \n",
    "    return ordered_labels"
   ]
  },
  {
   "cell_type": "code",
   "execution_count": 4,
   "metadata": {},
   "outputs": [
    {
     "name": "stdout",
     "output_type": "stream",
     "text": [
      "device :  cuda:1\n",
      "/data/nmc/processed_image/combined_images\n",
      "(0,)             148\n",
      "(0, 10)          110\n",
      "(10,)             56\n",
      "(0, 9, 10)        41\n",
      "(0, 9)            41\n",
      "                ... \n",
      "(1, 8, 9, 10)      1\n",
      "(3, 4, 9, 10)      1\n",
      "(5,)               1\n",
      "(1, 2, 9, 10)      1\n",
      "(3, 4)             1\n",
      "Name: label, Length: 65, dtype: int64\n",
      "train size: 686\n",
      "(0,)                30\n",
      "(0, 10)             25\n",
      "(0, 9)              10\n",
      "(0, 9, 10)           8\n",
      "(9, 10)              5\n",
      "(2, 10)              5\n",
      "(1, 2)               4\n",
      "(3, 10)              3\n",
      "(1, 2, 3)            3\n",
      "(1, 2, 3, 8)         3\n",
      "(1, 10)              3\n",
      "(8, 10)              2\n",
      "(2, 8, 10)           2\n",
      "(1, 2, 8, 10)        2\n",
      "(0, 8)               2\n",
      "(1, 2, 8, 9)         2\n",
      "(1, 2, 3, 8, 10)     2\n",
      "(1, 9, 10)           2\n",
      "(0, 8, 10)           1\n",
      "(1, 2, 5, 8)         1\n",
      "(1, 2, 3, 9)         1\n",
      "(1, 2, 9, 10)        1\n",
      "(5, 8, 9, 10)        1\n",
      "(2, 9, 10)           1\n",
      "(2, 4)               1\n",
      "(1, 2, 3, 4)         1\n",
      "(3, 9)               1\n",
      "(1, 4, 9, 10)        1\n",
      "(2, 3, 9)            1\n",
      "(8, 9)               1\n",
      "(2, 4, 9, 10)        1\n",
      "(1, 8, 10)           1\n",
      "(1, 2, 3, 10)        1\n",
      "(3, 4)               1\n",
      "(1, 2, 10)           1\n",
      "(1, 2, 3, 5)         1\n",
      "(10,)                1\n",
      "(1, 2, 8)            1\n",
      "(1, 4)               1\n",
      "Name: label, dtype: int64\n",
      "val size: 134\n",
      "(0,)                34\n",
      "(0, 10)             23\n",
      "(2, 10)             11\n",
      "(0, 9, 10)          10\n",
      "(1, 2)               9\n",
      "(1, 10)              7\n",
      "(0, 9)               7\n",
      "(1, 2, 3)            5\n",
      "(2, 8)               4\n",
      "(8, 10)              4\n",
      "(9,)                 3\n",
      "(9, 10)              3\n",
      "(1, 2, 3, 8)         2\n",
      "(1, 2, 8, 9)         2\n",
      "(2, 3)               2\n",
      "(1, 2, 3, 4)         2\n",
      "(0, 8, 9, 10)        1\n",
      "(1, 2, 3, 8, 10)     1\n",
      "(3, 8, 9, 10)        1\n",
      "(1, 2, 8, 10)        1\n",
      "(1, 9, 10)           1\n",
      "(1, 8)               1\n",
      "(1, 2, 3, 10)        1\n",
      "(3, 8)               1\n",
      "(1, 2, 4, 10)        1\n",
      "(1, 5, 8, 9, 10)     1\n",
      "(4, 9, 10)           1\n",
      "(2, 3, 10)           1\n",
      "(0, 8)               1\n",
      "(1, 3, 10)           1\n",
      "(1, 9)               1\n",
      "(1, 2, 10)           1\n",
      "(4, 10)              1\n",
      "(1, 4)               1\n",
      "(3, 8, 10)           1\n",
      "(3, 9, 10)           1\n",
      "Name: label, dtype: int64\n",
      "test size: 148\n"
     ]
    }
   ],
   "source": [
    "start = time.time()\n",
    "best_mf1 = 0.0\n",
    "device = torch.device(cfg['DEVICE'])\n",
    "print(\"device : \",device)\n",
    "num_workers = mp.cpu_count()\n",
    "train_cfg, eval_cfg = cfg['TRAIN'], cfg['EVAL']\n",
    "dataset_cfg, model_cfg = cfg['DATASET'], cfg['MODEL']\n",
    "loss_cfg, optim_cfg, sched_cfg = cfg['LOSS'], cfg['OPTIMIZER'], cfg['SCHEDULER']\n",
    "epochs, lr = train_cfg['EPOCHS'], optim_cfg['LR']\n",
    "\n",
    "image_dir = Path(dataset_cfg['ROOT']) / 'train_images'\n",
    "transformations = get_train_augmentation(train_cfg['IMAGE_SIZE'])\n",
    "batch_size = 32\n",
    "\n",
    "dataset = eval(dataset_cfg['NAME'])(dataset_cfg['ROOT']+'/combined_images',dataset_cfg['TRAIN_RATIO'], dataset_cfg['VALID_RATIO'], dataset_cfg['TEST_RATIO'],  transformations)\n",
    "trainset, valset, testset = dataset.get_splits()\n",
    "# trainloader = DataLoader(trainset, batch_size=batch_size, num_workers=num_workers, drop_last=True, pin_memory=True)\n",
    "valloader = DataLoader(valset, batch_size=1, num_workers=1, pin_memory=True)\n",
    "testloader = DataLoader(testset, batch_size=1, num_workers=1, pin_memory=True)"
   ]
  },
  {
   "cell_type": "code",
   "execution_count": 5,
   "metadata": {},
   "outputs": [
    {
     "data": {
      "text/plain": [
       "686"
      ]
     },
     "execution_count": 5,
     "metadata": {},
     "output_type": "execute_result"
    }
   ],
   "source": [
    "len(trainset)"
   ]
  },
  {
   "cell_type": "code",
   "execution_count": 6,
   "metadata": {},
   "outputs": [
    {
     "name": "stderr",
     "output_type": "stream",
     "text": [
      "Extracting labels: 100%|██████████| 21/21 [00:08<00:00,  2.37it/s]\n"
     ]
    },
    {
     "data": {
      "image/png": "[encoded data removed]",
      "text/plain": [
       "<Figure size 1000x800 with 2 Axes>"
      ]
     },
     "metadata": {},
     "output_type": "display_data"
    }
   ],
   "source": [
    "mi_matrix = analyze_trainloader_labels(trainloader)"
   ]
  },
  {
   "cell_type": "code",
   "execution_count": 5,
   "metadata": {},
   "outputs": [],
   "source": [
    "def calculate_metrics(all_preds, all_labels):\n",
    "    # PyTorch 텐서를 CPU로 이동하고 NumPy 배열로 변환\n",
    "    all_preds = all_preds.cpu().numpy()\n",
    "    all_labels = all_labels.cpu().numpy()\n",
    "    \n",
    "    # 예측값을 0 또는 1로 변환 (임계값 0.5 사용)\n",
    "    pred_binary = (all_preds > 0.5).astype(int)\n",
    "    \n",
    "    # 실제 데이터에 존재하는 클래스 인덱스 찾기\n",
    "    active_classes = np.where(np.sum(all_labels, axis=0) > 0)[0]\n",
    "    \n",
    "    # 전체 정확도 계산\n",
    "    accuracy = accuracy_score(all_labels, pred_binary)\n",
    "    \n",
    "    # 각 클래스별 F1 점수, 정밀도, 재현율 계산 (활성 클래스만)\n",
    "    f1_scores = f1_score(all_labels[:, active_classes], pred_binary[:, active_classes], average=None, zero_division=0)\n",
    "    precision_scores = precision_score(all_labels[:, active_classes], pred_binary[:, active_classes], average=None, zero_division=0)\n",
    "    recall_scores = recall_score(all_labels[:, active_classes], pred_binary[:, active_classes], average=None, zero_division=0)\n",
    "    \n",
    "    # Hamming Loss 계산\n",
    "    hamming = hamming_loss(all_labels, pred_binary)\n",
    "    \n",
    "    # 샘플당 정확히 모든 라벨을 맞춘 비율 (Subset Accuracy)\n",
    "    subset_accuracy = (all_labels == pred_binary).all(axis=1).mean()\n",
    "    \n",
    "    return {\n",
    "        'accuracy': accuracy,\n",
    "        'hamming_loss': hamming,\n",
    "        'subset_accuracy': subset_accuracy,\n",
    "        'f1_scores': f1_scores,\n",
    "        'precision_scores': precision_scores,\n",
    "        'recall_scores': recall_scores,\n",
    "        'active_classes': active_classes\n",
    "    }\n",
    "\n",
    "def print_metrics(metrics):\n",
    "    print(\"=== Overall Metrics ===\")\n",
    "    print(f\"Accuracy: {metrics['accuracy']:.4f}\")\n",
    "    print(f\"Hamming Loss: {metrics['hamming_loss']:.4f}\")\n",
    "    print(f\"Subset Accuracy: {metrics['subset_accuracy']:.4f}\")\n",
    "    print(\"\\n=== Class-wise Metrics ===\")\n",
    "    print(\"Class\\t\\tF1 Score\\tPrecision\\tRecall\")\n",
    "    print(\"-\" * 50)\n",
    "    for i, class_idx in enumerate(metrics['active_classes']):\n",
    "        print(f\"Class {class_idx}:\\t{metrics['f1_scores'][i]:.4f}\\t\\t{metrics['precision_scores'][i]:.4f}\\t\\t{metrics['recall_scores'][i]:.4f}\")\n",
    "    \n",
    "    print(\"\\n=###############== Average Metrics (Active Classes) ==###############=\")\n",
    "    print(f\"Macro F1: {np.mean(metrics['f1_scores']):.4f}\")\n",
    "    print(f\"Macro Precision: {np.mean(metrics['precision_scores']):.4f}\")\n",
    "    print(f\"Macro Recall: {np.mean(metrics['recall_scores']):.4f}\")"
   ]
  },
  {
   "cell_type": "code",
   "execution_count": 6,
   "metadata": {},
   "outputs": [],
   "source": [
    "class BalancedMultiLabelSampler(Sampler):\n",
    "    def __init__(self, labels, batch_size, update_interval):\n",
    "        self.labels = labels\n",
    "        self.num_samples = len(labels)\n",
    "        self.num_classes = labels.shape[1]\n",
    "\n",
    "        class_counts = np.sum(labels, axis=0)\n",
    "        class_probs = np.zeros_like(class_counts, dtype=float)\n",
    "        non_zero_classes = class_counts > 0\n",
    "        class_probs[non_zero_classes] = 1 / class_counts[non_zero_classes]\n",
    "        class_probs /= np.sum(class_probs)\n",
    "        self.class_probs = class_probs\n",
    "        self.batch_size = batch_size\n",
    "        self.update_interval = update_interval\n",
    "\n",
    "    def update_probs(self, class_losses):\n",
    "        self.class_probs = class_losses / np.sum(class_losses)\n",
    "    \n",
    "    def calculate_target_ratios(self, prob_ratio=0.4, min_class_count=1):\n",
    "        # prob_ratio: 확률에 기반한 비율 (0.0 ~ 1.0)\n",
    "        # min_class_count: 각 클래스의 최소 등장 횟수\n",
    "\n",
    "        # 최소 클래스 카운트 적용 (원래 확률이 0인 클래스는 제외)\n",
    "        base_ratios = np.where(self.class_probs > 0, min_class_count, 0)\n",
    "        remaining = self.batch_size - np.sum(base_ratios)\n",
    "\n",
    "        if remaining <= 0:\n",
    "            return base_ratios  # 배치 크기가 충분하지 않으면 최소 카운트만 반환\n",
    "\n",
    "        # 확률에 기반한 할당\n",
    "        prob_based_samples = int(remaining * prob_ratio)\n",
    "        prob_based_ratios = (self.class_probs * prob_based_samples).astype(int)\n",
    "\n",
    "        # 랜덤 할당\n",
    "        random_samples = remaining - prob_based_samples\n",
    "        non_zero_probs = self.class_probs > 0\n",
    "        random_ratios = np.zeros_like(prob_based_ratios)\n",
    "        if random_samples > 0 and np.sum(non_zero_probs) > 0:\n",
    "            random_ratios[non_zero_probs] = np.random.multinomial(\n",
    "                random_samples, \n",
    "                self.class_probs[non_zero_probs] / np.sum(self.class_probs[non_zero_probs])\n",
    "            )\n",
    "\n",
    "        # 모든 비율 합치기\n",
    "        target_ratios = base_ratios + prob_based_ratios + random_ratios\n",
    "\n",
    "        # 남은 샘플 처리 (반올림 오차로 인해 발생할 수 있음)\n",
    "        remaining = self.batch_size - np.sum(target_ratios)\n",
    "        if remaining > 0:\n",
    "            # 남은 샘플을 확률이 0이 아닌 클래스에 랜덤하게 할당\n",
    "            additional = np.random.multinomial(\n",
    "                remaining, \n",
    "                self.class_probs[non_zero_probs] / np.sum(self.class_probs[non_zero_probs]),\n",
    "                size=1\n",
    "            )[0]\n",
    "            target_ratios[non_zero_probs] += additional\n",
    "\n",
    "        return target_ratios\n",
    "    \n",
    "    def select_class(self, target_class_ratios, current_class_counts):\n",
    "        # 목표 비율과 현재 카운트의 차이 계산\n",
    "        diff = target_class_ratios - current_class_counts\n",
    "        \n",
    "        # target_class_ratios가 0보다 큰 클래스 중에서만 선택\n",
    "        valid_classes = np.where((diff > 0) & (target_class_ratios > 0))[0]\n",
    "        \n",
    "        if len(valid_classes) > 0:\n",
    "            # 유효한 클래스 중 차이가 가장 큰 클래스 선택\n",
    "            return valid_classes[np.argmax(diff[valid_classes])]\n",
    "        else:\n",
    "            # 모든 목표가 충족되었거나 유효한 클래스가 없다면,\n",
    "            # target_class_ratios가 0보다 큰 클래스 중에서만 무작위 선택\n",
    "            non_zero_targets = np.where(target_class_ratios > 0)[0]\n",
    "            if len(non_zero_targets) > 0:\n",
    "                return np.random.choice(non_zero_targets)\n",
    "            else:\n",
    "                # 모든 target_class_ratios가 0이라면 None 반환\n",
    "                return None\n",
    "        \n",
    "    def select_sample_from_class(self, selected_class, available_indices):\n",
    "        # 선택된 클래스에 속하는 샘플들의 인덱스 찾기\n",
    "        class_samples = [idx for idx in available_indices if self.labels[idx, selected_class] == 1]\n",
    "        if class_samples:\n",
    "            # 해당 클래스의 샘플 중 무작위 선택\n",
    "            return np.random.choice(class_samples)\n",
    "        else:\n",
    "            # 해당 클래스의 샘플이 없다면 None 반환\n",
    "            return None\n",
    "        \n",
    "    def __iter__(self):\n",
    "        # 전체 데이터셋 크기에 맞는 인덱스 배열 생성\n",
    "        original_indices = np.arange(self.num_samples)\n",
    "        \n",
    "        for _ in range(self.update_interval):\n",
    "            # 목표 클래스 비율 계산 (class_losses 기반)\n",
    "            target_class_ratios = self.calculate_target_ratios()\n",
    "            \n",
    "            batch = []\n",
    "            current_class_counts = np.zeros(self.num_classes)\n",
    "            available_indices = original_indices.copy()\n",
    "            \n",
    "            while len(batch) < self.batch_size:\n",
    "                # 목표 비율과 현재 배치 구성을 고려하여 클래스 선택\n",
    "                selected_class = self.select_class(target_class_ratios, current_class_counts)\n",
    "                if selected_class is None:\n",
    "                    # 모든 클래스가 목표에 도달했다면, 남은 공간을 랜덤하게 채움\n",
    "                    remaining = self.batch_size - len(batch)\n",
    "                    batch.extend(np.random.choice(original_indices, size=remaining, replace=True))\n",
    "                    break\n",
    "                \n",
    "                # 선택된 클래스를 포함하는 샘플 중에서 선택\n",
    "                sample_idx = self.select_sample_from_class(selected_class, available_indices)\n",
    "                \n",
    "                if sample_idx is None:\n",
    "                    # 해당 클래스의 모든 샘플을 사용했다면, 원본 인덱스에서 다시 선택\n",
    "                    class_samples = [idx for idx in original_indices if self.labels[idx, selected_class] == 1]\n",
    "                    if class_samples:\n",
    "                        sample_idx = np.random.choice(class_samples)\n",
    "                    else:\n",
    "                        continue  # 해당 클래스의 샘플이 없다면 다른 클래스 선택\n",
    "                \n",
    "                batch.append(sample_idx)\n",
    "                current_class_counts += self.labels[sample_idx]\n",
    "                available_indices = np.setdiff1d(available_indices, [sample_idx])\n",
    "            \n",
    "            yield batch\n",
    "\n",
    "    def __len__(self):\n",
    "        return (self.num_samples + self.batch_size - 1) // self.batch_size"
   ]
  },
  {
   "cell_type": "code",
   "execution_count": 7,
   "metadata": {},
   "outputs": [
    {
     "name": "stderr",
     "output_type": "stream",
     "text": [
      "/root/anaconda3/envs/gm/lib/python3.7/site-packages/torchvision/models/_utils.py:209: UserWarning: The parameter 'pretrained' is deprecated since 0.13 and may be removed in the future, please use 'weights' instead.\n",
      "  f\"The parameter '{pretrained_param}' is deprecated since 0.13 and may be removed in the future, \"\n",
      "/root/anaconda3/envs/gm/lib/python3.7/site-packages/torchvision/models/_utils.py:223: UserWarning: Arguments other than a weight enum or `None` for 'weights' are deprecated since 0.13 and may be removed in the future. The current behavior is equivalent to passing `weights=ResNet50_Weights.IMAGENET1K_V1`. You can also use `weights=ResNet50_Weights.DEFAULT` to get the most up-to-date weights.\n",
      "  warnings.warn(msg)\n",
      "Training Progress:   0%|          | 0/100 [00:00<?, ?it/s]"
     ]
    },
    {
     "name": "stdout",
     "output_type": "stream",
     "text": [
      "Batch 1/100, Average Loss: 0.7258\n"
     ]
    },
    {
     "name": "stderr",
     "output_type": "stream",
     "text": [
      "/root/anaconda3/envs/gm/lib/python3.7/site-packages/ipykernel_launcher.py:49: RuntimeWarning: invalid value encountered in true_divide\n",
      "Training Progress:   1%|          | 1/100 [00:18<31:07, 18.86s/it]"
     ]
    },
    {
     "name": "stdout",
     "output_type": "stream",
     "text": [
      "=== Overall Metrics ===\n",
      "Accuracy: 0.0000\n",
      "Hamming Loss: 0.2958\n",
      "Subset Accuracy: 0.0000\n",
      "\n",
      "=== Class-wise Metrics ===\n",
      "Class\t\tF1 Score\tPrecision\tRecall\n",
      "--------------------------------------------------\n",
      "Class 0:\t0.0000\t\t0.0000\t\t0.0000\n",
      "Class 1:\t0.0000\t\t0.0000\t\t0.0000\n",
      "Class 2:\t0.0000\t\t0.0000\t\t0.0000\n",
      "Class 3:\t0.0000\t\t0.0000\t\t0.0000\n",
      "Class 4:\t0.0000\t\t0.0000\t\t0.0000\n",
      "Class 5:\t0.0438\t\t0.0224\t\t1.0000\n",
      "Class 8:\t0.0541\t\t0.0625\t\t0.0476\n",
      "Class 9:\t0.0000\t\t0.0000\t\t0.0000\n",
      "Class 10:\t0.0822\t\t0.7500\t\t0.0435\n",
      "\n",
      "=###############== Average Metrics (Active Classes) ==###############=\n",
      "Macro F1: 0.0200\n",
      "Macro Precision: 0.0928\n",
      "Macro Recall: 0.1212\n"
     ]
    },
    {
     "name": "stderr",
     "output_type": "stream",
     "text": [
      "/root/anaconda3/envs/gm/lib/python3.7/site-packages/ipykernel_launcher.py:48: RuntimeWarning: overflow encountered in long_scalars\n"
     ]
    },
    {
     "name": "stdout",
     "output_type": "stream",
     "text": [
      "Batch 2/100, Average Loss: 0.7128\n"
     ]
    },
    {
     "name": "stderr",
     "output_type": "stream",
     "text": [
      "/root/anaconda3/envs/gm/lib/python3.7/site-packages/ipykernel_launcher.py:49: RuntimeWarning: invalid value encountered in true_divide\n",
      "Training Progress:   2%|▏         | 2/100 [00:32<25:51, 15.83s/it]"
     ]
    },
    {
     "name": "stdout",
     "output_type": "stream",
     "text": [
      "=== Overall Metrics ===\n",
      "Accuracy: 0.0000\n",
      "Hamming Loss: 0.2843\n",
      "Subset Accuracy: 0.0000\n",
      "\n",
      "=== Class-wise Metrics ===\n",
      "Class\t\tF1 Score\tPrecision\tRecall\n",
      "--------------------------------------------------\n",
      "Class 0:\t0.0000\t\t0.0000\t\t0.0000\n",
      "Class 1:\t0.0000\t\t0.0000\t\t0.0000\n",
      "Class 2:\t0.0000\t\t0.0000\t\t0.0000\n",
      "Class 3:\t0.0000\t\t0.0000\t\t0.0000\n",
      "Class 4:\t0.0000\t\t0.0000\t\t0.0000\n",
      "Class 5:\t0.0438\t\t0.0224\t\t1.0000\n",
      "Class 8:\t0.0000\t\t0.0000\t\t0.0000\n",
      "Class 9:\t0.0541\t\t1.0000\t\t0.0278\n",
      "Class 10:\t0.6798\t\t0.5149\t\t1.0000\n",
      "\n",
      "=###############== Average Metrics (Active Classes) ==###############=\n",
      "Macro F1: 0.0864\n",
      "Macro Precision: 0.1708\n",
      "Macro Recall: 0.2253\n"
     ]
    },
    {
     "name": "stderr",
     "output_type": "stream",
     "text": [
      "/root/anaconda3/envs/gm/lib/python3.7/site-packages/ipykernel_launcher.py:48: RuntimeWarning: overflow encountered in long_scalars\n"
     ]
    },
    {
     "name": "stdout",
     "output_type": "stream",
     "text": [
      "Batch 3/100, Average Loss: 0.5464\n"
     ]
    },
    {
     "name": "stderr",
     "output_type": "stream",
     "text": [
      "/root/anaconda3/envs/gm/lib/python3.7/site-packages/ipykernel_launcher.py:49: RuntimeWarning: invalid value encountered in true_divide\n",
      "Training Progress:   3%|▎         | 3/100 [00:46<24:13, 14.98s/it]"
     ]
    },
    {
     "name": "stdout",
     "output_type": "stream",
     "text": [
      "=== Overall Metrics ===\n",
      "Accuracy: 0.0000\n",
      "Hamming Loss: 0.2334\n",
      "Subset Accuracy: 0.0000\n",
      "\n",
      "=== Class-wise Metrics ===\n",
      "Class\t\tF1 Score\tPrecision\tRecall\n",
      "--------------------------------------------------\n",
      "Class 0:\t0.0000\t\t0.0000\t\t0.0000\n",
      "Class 1:\t0.3556\t\t0.2759\t\t0.5000\n",
      "Class 2:\t0.0000\t\t0.0000\t\t0.0000\n",
      "Class 3:\t0.0000\t\t0.0000\t\t0.0000\n",
      "Class 4:\t0.0000\t\t0.0000\t\t0.0000\n",
      "Class 5:\t0.0667\t\t0.0370\t\t0.3333\n",
      "Class 8:\t0.0000\t\t0.0000\t\t0.0000\n",
      "Class 9:\t0.0000\t\t0.0000\t\t0.0000\n",
      "Class 10:\t0.6766\t\t0.5152\t\t0.9855\n",
      "\n",
      "=###############== Average Metrics (Active Classes) ==###############=\n",
      "Macro F1: 0.1221\n",
      "Macro Precision: 0.0920\n",
      "Macro Recall: 0.2021\n"
     ]
    },
    {
     "name": "stderr",
     "output_type": "stream",
     "text": [
      "/root/anaconda3/envs/gm/lib/python3.7/site-packages/ipykernel_launcher.py:48: RuntimeWarning: overflow encountered in long_scalars\n"
     ]
    },
    {
     "name": "stdout",
     "output_type": "stream",
     "text": [
      "Batch 4/100, Average Loss: 0.4084\n"
     ]
    },
    {
     "name": "stderr",
     "output_type": "stream",
     "text": [
      "/root/anaconda3/envs/gm/lib/python3.7/site-packages/ipykernel_launcher.py:49: RuntimeWarning: invalid value encountered in true_divide\n",
      "Training Progress:   4%|▍         | 4/100 [01:00<23:26, 14.65s/it]"
     ]
    },
    {
     "name": "stdout",
     "output_type": "stream",
     "text": [
      "=== Overall Metrics ===\n",
      "Accuracy: 0.0000\n",
      "Hamming Loss: 0.2008\n",
      "Subset Accuracy: 0.0000\n",
      "\n",
      "=== Class-wise Metrics ===\n",
      "Class\t\tF1 Score\tPrecision\tRecall\n",
      "--------------------------------------------------\n",
      "Class 0:\t0.0000\t\t0.0000\t\t0.0000\n",
      "Class 1:\t0.0606\t\t1.0000\t\t0.0312\n",
      "Class 2:\t0.0000\t\t0.0000\t\t0.0000\n",
      "Class 3:\t0.0000\t\t0.0000\t\t0.0000\n",
      "Class 4:\t0.0000\t\t0.0000\t\t0.0000\n",
      "Class 5:\t0.0000\t\t0.0000\t\t0.0000\n",
      "Class 8:\t0.0000\t\t0.0000\t\t0.0000\n",
      "Class 9:\t0.0000\t\t0.0000\t\t0.0000\n",
      "Class 10:\t0.0000\t\t0.0000\t\t0.0000\n",
      "\n",
      "=###############== Average Metrics (Active Classes) ==###############=\n",
      "Macro F1: 0.0067\n",
      "Macro Precision: 0.1111\n",
      "Macro Recall: 0.0035\n"
     ]
    },
    {
     "name": "stderr",
     "output_type": "stream",
     "text": [
      "/root/anaconda3/envs/gm/lib/python3.7/site-packages/ipykernel_launcher.py:48: RuntimeWarning: overflow encountered in long_scalars\n"
     ]
    },
    {
     "name": "stdout",
     "output_type": "stream",
     "text": [
      "Batch 5/100, Average Loss: 0.3636\n"
     ]
    },
    {
     "name": "stderr",
     "output_type": "stream",
     "text": [
      "/root/anaconda3/envs/gm/lib/python3.7/site-packages/ipykernel_launcher.py:49: RuntimeWarning: invalid value encountered in true_divide\n",
      "Training Progress:   5%|▌         | 5/100 [01:15<23:01, 14.54s/it]"
     ]
    },
    {
     "name": "stdout",
     "output_type": "stream",
     "text": [
      "=== Overall Metrics ===\n",
      "Accuracy: 0.0299\n",
      "Hamming Loss: 0.2001\n",
      "Subset Accuracy: 0.0299\n",
      "\n",
      "=== Class-wise Metrics ===\n",
      "Class\t\tF1 Score\tPrecision\tRecall\n",
      "--------------------------------------------------\n",
      "Class 0:\t0.2718\t\t0.5185\t\t0.1842\n",
      "Class 1:\t0.0000\t\t0.0000\t\t0.0000\n",
      "Class 2:\t0.0000\t\t0.0000\t\t0.0000\n",
      "Class 3:\t0.0000\t\t0.0000\t\t0.0000\n",
      "Class 4:\t0.0000\t\t0.0000\t\t0.0000\n",
      "Class 5:\t0.0000\t\t0.0000\t\t0.0000\n",
      "Class 8:\t0.0000\t\t0.0000\t\t0.0000\n",
      "Class 9:\t0.0000\t\t0.0000\t\t0.0000\n",
      "Class 10:\t0.0286\t\t1.0000\t\t0.0145\n",
      "\n",
      "=###############== Average Metrics (Active Classes) ==###############=\n",
      "Macro F1: 0.0334\n",
      "Macro Precision: 0.1687\n",
      "Macro Recall: 0.0221\n"
     ]
    },
    {
     "name": "stderr",
     "output_type": "stream",
     "text": [
      "/root/anaconda3/envs/gm/lib/python3.7/site-packages/ipykernel_launcher.py:48: RuntimeWarning: overflow encountered in long_scalars\n"
     ]
    },
    {
     "name": "stdout",
     "output_type": "stream",
     "text": [
      "Batch 6/100, Average Loss: 0.3382\n"
     ]
    },
    {
     "name": "stderr",
     "output_type": "stream",
     "text": [
      "/root/anaconda3/envs/gm/lib/python3.7/site-packages/ipykernel_launcher.py:49: RuntimeWarning: invalid value encountered in true_divide\n",
      "Training Progress:   6%|▌         | 6/100 [01:28<22:28, 14.34s/it]"
     ]
    },
    {
     "name": "stdout",
     "output_type": "stream",
     "text": [
      "=== Overall Metrics ===\n",
      "Accuracy: 0.2239\n",
      "Hamming Loss: 0.1886\n",
      "Subset Accuracy: 0.2239\n",
      "\n",
      "=== Class-wise Metrics ===\n",
      "Class\t\tF1 Score\tPrecision\tRecall\n",
      "--------------------------------------------------\n",
      "Class 0:\t0.6882\t\t0.5818\t\t0.8421\n",
      "Class 1:\t0.0000\t\t0.0000\t\t0.0000\n",
      "Class 2:\t0.0000\t\t0.0000\t\t0.0000\n",
      "Class 3:\t0.0000\t\t0.0000\t\t0.0000\n",
      "Class 4:\t0.0000\t\t0.0000\t\t0.0000\n",
      "Class 5:\t0.0000\t\t0.0000\t\t0.0000\n",
      "Class 8:\t0.0000\t\t0.0000\t\t0.0000\n",
      "Class 9:\t0.0000\t\t0.0000\t\t0.0000\n",
      "Class 10:\t0.0000\t\t0.0000\t\t0.0000\n",
      "\n",
      "=###############== Average Metrics (Active Classes) ==###############=\n",
      "Macro F1: 0.0765\n",
      "Macro Precision: 0.0646\n",
      "Macro Recall: 0.0936\n"
     ]
    },
    {
     "name": "stderr",
     "output_type": "stream",
     "text": [
      "/root/anaconda3/envs/gm/lib/python3.7/site-packages/ipykernel_launcher.py:48: RuntimeWarning: overflow encountered in long_scalars\n"
     ]
    },
    {
     "name": "stdout",
     "output_type": "stream",
     "text": [
      "Batch 7/100, Average Loss: 0.3749\n"
     ]
    },
    {
     "name": "stderr",
     "output_type": "stream",
     "text": [
      "/root/anaconda3/envs/gm/lib/python3.7/site-packages/ipykernel_launcher.py:49: RuntimeWarning: invalid value encountered in true_divide\n",
      "Training Progress:   7%|▋         | 7/100 [01:42<22:00, 14.20s/it]"
     ]
    },
    {
     "name": "stdout",
     "output_type": "stream",
     "text": [
      "=== Overall Metrics ===\n",
      "Accuracy: 0.0522\n",
      "Hamming Loss: 0.1927\n",
      "Subset Accuracy: 0.0522\n",
      "\n",
      "=== Class-wise Metrics ===\n",
      "Class\t\tF1 Score\tPrecision\tRecall\n",
      "--------------------------------------------------\n",
      "Class 0:\t0.2796\t\t0.7647\t\t0.1711\n",
      "Class 1:\t0.1111\t\t0.5000\t\t0.0625\n",
      "Class 2:\t0.0000\t\t0.0000\t\t0.0000\n",
      "Class 3:\t0.0000\t\t0.0000\t\t0.0000\n",
      "Class 4:\t0.0000\t\t0.0000\t\t0.0000\n",
      "Class 5:\t0.0000\t\t0.0000\t\t0.0000\n",
      "Class 8:\t0.3077\t\t0.8000\t\t0.1905\n",
      "Class 9:\t0.0000\t\t0.0000\t\t0.0000\n",
      "Class 10:\t0.0000\t\t0.0000\t\t0.0000\n",
      "\n",
      "=###############== Average Metrics (Active Classes) ==###############=\n",
      "Macro F1: 0.0776\n",
      "Macro Precision: 0.2294\n",
      "Macro Recall: 0.0471\n"
     ]
    },
    {
     "name": "stderr",
     "output_type": "stream",
     "text": [
      "/root/anaconda3/envs/gm/lib/python3.7/site-packages/ipykernel_launcher.py:48: RuntimeWarning: overflow encountered in long_scalars\n"
     ]
    },
    {
     "name": "stdout",
     "output_type": "stream",
     "text": [
      "Batch 8/100, Average Loss: 0.3361\n"
     ]
    },
    {
     "name": "stderr",
     "output_type": "stream",
     "text": [
      "/root/anaconda3/envs/gm/lib/python3.7/site-packages/ipykernel_launcher.py:49: RuntimeWarning: invalid value encountered in true_divide\n",
      "Training Progress:   8%|▊         | 8/100 [01:56<21:35, 14.09s/it]"
     ]
    },
    {
     "name": "stdout",
     "output_type": "stream",
     "text": [
      "=== Overall Metrics ===\n",
      "Accuracy: 0.0149\n",
      "Hamming Loss: 0.2639\n",
      "Subset Accuracy: 0.0149\n",
      "\n",
      "=== Class-wise Metrics ===\n",
      "Class\t\tF1 Score\tPrecision\tRecall\n",
      "--------------------------------------------------\n",
      "Class 0:\t0.1235\t\t1.0000\t\t0.0658\n",
      "Class 1:\t0.3529\t\t0.2571\t\t0.5625\n",
      "Class 2:\t0.0000\t\t0.0000\t\t0.0000\n",
      "Class 3:\t0.0000\t\t0.0000\t\t0.0000\n",
      "Class 4:\t0.0000\t\t0.0000\t\t0.0000\n",
      "Class 5:\t0.0000\t\t0.0000\t\t0.0000\n",
      "Class 8:\t0.2735\t\t0.1667\t\t0.7619\n",
      "Class 9:\t0.0000\t\t0.0000\t\t0.0000\n",
      "Class 10:\t0.0000\t\t0.0000\t\t0.0000\n",
      "\n",
      "=###############== Average Metrics (Active Classes) ==###############=\n",
      "Macro F1: 0.0833\n",
      "Macro Precision: 0.1582\n",
      "Macro Recall: 0.1545\n"
     ]
    },
    {
     "name": "stderr",
     "output_type": "stream",
     "text": [
      "/root/anaconda3/envs/gm/lib/python3.7/site-packages/ipykernel_launcher.py:48: RuntimeWarning: overflow encountered in long_scalars\n"
     ]
    },
    {
     "name": "stdout",
     "output_type": "stream",
     "text": [
      "Batch 9/100, Average Loss: 0.2830\n"
     ]
    },
    {
     "name": "stderr",
     "output_type": "stream",
     "text": [
      "/root/anaconda3/envs/gm/lib/python3.7/site-packages/ipykernel_launcher.py:49: RuntimeWarning: invalid value encountered in true_divide\n",
      "Training Progress:   9%|▉         | 9/100 [02:11<21:33, 14.22s/it]"
     ]
    },
    {
     "name": "stdout",
     "output_type": "stream",
     "text": [
      "=== Overall Metrics ===\n",
      "Accuracy: 0.0000\n",
      "Hamming Loss: 0.3385\n",
      "Subset Accuracy: 0.0000\n",
      "\n",
      "=== Class-wise Metrics ===\n",
      "Class\t\tF1 Score\tPrecision\tRecall\n",
      "--------------------------------------------------\n",
      "Class 0:\t0.0000\t\t0.0000\t\t0.0000\n",
      "Class 1:\t0.3485\t\t0.2300\t\t0.7188\n",
      "Class 2:\t0.0000\t\t0.0000\t\t0.0000\n",
      "Class 3:\t0.0000\t\t0.0000\t\t0.0000\n",
      "Class 4:\t0.0000\t\t0.0000\t\t0.0000\n",
      "Class 5:\t0.0000\t\t0.0000\t\t0.0000\n",
      "Class 8:\t0.2797\t\t0.1639\t\t0.9524\n",
      "Class 9:\t0.3268\t\t0.2137\t\t0.6944\n",
      "Class 10:\t0.0000\t\t0.0000\t\t0.0000\n",
      "\n",
      "=###############== Average Metrics (Active Classes) ==###############=\n",
      "Macro F1: 0.1061\n",
      "Macro Precision: 0.0675\n",
      "Macro Recall: 0.2628\n"
     ]
    },
    {
     "name": "stderr",
     "output_type": "stream",
     "text": [
      "/root/anaconda3/envs/gm/lib/python3.7/site-packages/ipykernel_launcher.py:48: RuntimeWarning: overflow encountered in long_scalars\n"
     ]
    },
    {
     "name": "stdout",
     "output_type": "stream",
     "text": [
      "Batch 10/100, Average Loss: 0.3144\n"
     ]
    },
    {
     "name": "stderr",
     "output_type": "stream",
     "text": [
      "/root/anaconda3/envs/gm/lib/python3.7/site-packages/ipykernel_launcher.py:49: RuntimeWarning: invalid value encountered in true_divide\n",
      "Training Progress:  10%|█         | 10/100 [02:24<21:04, 14.05s/it]"
     ]
    },
    {
     "name": "stdout",
     "output_type": "stream",
     "text": [
      "=== Overall Metrics ===\n",
      "Accuracy: 0.0000\n",
      "Hamming Loss: 0.3182\n",
      "Subset Accuracy: 0.0000\n",
      "\n",
      "=== Class-wise Metrics ===\n",
      "Class\t\tF1 Score\tPrecision\tRecall\n",
      "--------------------------------------------------\n",
      "Class 0:\t0.0000\t\t0.0000\t\t0.0000\n",
      "Class 1:\t0.3810\t\t0.2740\t\t0.6250\n",
      "Class 2:\t0.0000\t\t0.0000\t\t0.0000\n",
      "Class 3:\t0.0000\t\t0.0000\t\t0.0000\n",
      "Class 4:\t0.0000\t\t0.0000\t\t0.0000\n",
      "Class 5:\t0.0000\t\t0.0000\t\t0.0000\n",
      "Class 8:\t0.2878\t\t0.1695\t\t0.9524\n",
      "Class 9:\t0.4235\t\t0.2687\t\t1.0000\n",
      "Class 10:\t0.0000\t\t0.0000\t\t0.0000\n",
      "\n",
      "=###############== Average Metrics (Active Classes) ==###############=\n",
      "Macro F1: 0.1214\n",
      "Macro Precision: 0.0791\n",
      "Macro Recall: 0.2864\n"
     ]
    },
    {
     "name": "stderr",
     "output_type": "stream",
     "text": [
      "/root/anaconda3/envs/gm/lib/python3.7/site-packages/ipykernel_launcher.py:48: RuntimeWarning: overflow encountered in long_scalars\n"
     ]
    },
    {
     "name": "stdout",
     "output_type": "stream",
     "text": [
      "Batch 11/100, Average Loss: 0.3032\n"
     ]
    },
    {
     "name": "stderr",
     "output_type": "stream",
     "text": [
      "/root/anaconda3/envs/gm/lib/python3.7/site-packages/ipykernel_launcher.py:49: RuntimeWarning: invalid value encountered in true_divide\n",
      "Training Progress:  11%|█         | 11/100 [02:38<20:32, 13.85s/it]"
     ]
    },
    {
     "name": "stdout",
     "output_type": "stream",
     "text": [
      "=== Overall Metrics ===\n",
      "Accuracy: 0.0000\n",
      "Hamming Loss: 0.3033\n",
      "Subset Accuracy: 0.0000\n",
      "\n",
      "=== Class-wise Metrics ===\n",
      "Class\t\tF1 Score\tPrecision\tRecall\n",
      "--------------------------------------------------\n",
      "Class 0:\t0.0000\t\t0.0000\t\t0.0000\n",
      "Class 1:\t0.4364\t\t0.5217\t\t0.3750\n",
      "Class 2:\t0.0000\t\t0.0000\t\t0.0000\n",
      "Class 3:\t0.0000\t\t0.0000\t\t0.0000\n",
      "Class 4:\t0.0000\t\t0.0000\t\t0.0000\n",
      "Class 5:\t0.0000\t\t0.0000\t\t0.0000\n",
      "Class 8:\t0.2649\t\t0.1538\t\t0.9524\n",
      "Class 9:\t0.4235\t\t0.2687\t\t1.0000\n",
      "Class 10:\t0.5965\t\t0.5000\t\t0.7391\n",
      "\n",
      "=###############== Average Metrics (Active Classes) ==###############=\n",
      "Macro F1: 0.1913\n",
      "Macro Precision: 0.1605\n",
      "Macro Recall: 0.3407\n"
     ]
    },
    {
     "name": "stderr",
     "output_type": "stream",
     "text": [
      "/root/anaconda3/envs/gm/lib/python3.7/site-packages/ipykernel_launcher.py:48: RuntimeWarning: overflow encountered in long_scalars\n"
     ]
    },
    {
     "name": "stdout",
     "output_type": "stream",
     "text": [
      "Batch 12/100, Average Loss: 0.3146\n"
     ]
    },
    {
     "name": "stderr",
     "output_type": "stream",
     "text": [
      "/root/anaconda3/envs/gm/lib/python3.7/site-packages/ipykernel_launcher.py:49: RuntimeWarning: invalid value encountered in true_divide\n",
      "Training Progress:  12%|█▏        | 12/100 [02:52<20:39, 14.08s/it]"
     ]
    },
    {
     "name": "stdout",
     "output_type": "stream",
     "text": [
      "=== Overall Metrics ===\n",
      "Accuracy: 0.0000\n",
      "Hamming Loss: 0.3046\n",
      "Subset Accuracy: 0.0000\n",
      "\n",
      "=== Class-wise Metrics ===\n",
      "Class\t\tF1 Score\tPrecision\tRecall\n",
      "--------------------------------------------------\n",
      "Class 0:\t0.0260\t\t1.0000\t\t0.0132\n",
      "Class 1:\t0.3902\t\t0.3200\t\t0.5000\n",
      "Class 2:\t0.0000\t\t0.0000\t\t0.0000\n",
      "Class 3:\t0.0000\t\t0.0000\t\t0.0000\n",
      "Class 4:\t0.0000\t\t0.0000\t\t0.0000\n",
      "Class 5:\t0.0000\t\t0.0000\t\t0.0000\n",
      "Class 8:\t0.2778\t\t0.1626\t\t0.9524\n",
      "Class 9:\t0.4235\t\t0.2687\t\t1.0000\n",
      "Class 10:\t0.6629\t\t0.5413\t\t0.8551\n",
      "\n",
      "=###############== Average Metrics (Active Classes) ==###############=\n",
      "Macro F1: 0.1978\n",
      "Macro Precision: 0.2547\n",
      "Macro Recall: 0.3690\n"
     ]
    },
    {
     "name": "stderr",
     "output_type": "stream",
     "text": [
      "/root/anaconda3/envs/gm/lib/python3.7/site-packages/ipykernel_launcher.py:48: RuntimeWarning: overflow encountered in long_scalars\n"
     ]
    },
    {
     "name": "stdout",
     "output_type": "stream",
     "text": [
      "Batch 13/100, Average Loss: 0.2642\n"
     ]
    },
    {
     "name": "stderr",
     "output_type": "stream",
     "text": [
      "/root/anaconda3/envs/gm/lib/python3.7/site-packages/ipykernel_launcher.py:49: RuntimeWarning: invalid value encountered in true_divide\n",
      "Training Progress:  13%|█▎        | 13/100 [03:07<20:39, 14.24s/it]"
     ]
    },
    {
     "name": "stdout",
     "output_type": "stream",
     "text": [
      "=== Overall Metrics ===\n",
      "Accuracy: 0.0000\n",
      "Hamming Loss: 0.3128\n",
      "Subset Accuracy: 0.0000\n",
      "\n",
      "=== Class-wise Metrics ===\n",
      "Class\t\tF1 Score\tPrecision\tRecall\n",
      "--------------------------------------------------\n",
      "Class 0:\t0.0513\t\t1.0000\t\t0.0263\n",
      "Class 1:\t0.4144\t\t0.2911\t\t0.7188\n",
      "Class 2:\t0.0000\t\t0.0000\t\t0.0000\n",
      "Class 3:\t0.0000\t\t0.0000\t\t0.0000\n",
      "Class 4:\t0.0000\t\t0.0000\t\t0.0000\n",
      "Class 5:\t0.0000\t\t0.0000\t\t0.0000\n",
      "Class 8:\t0.2837\t\t0.1667\t\t0.9524\n",
      "Class 9:\t0.4235\t\t0.2687\t\t1.0000\n",
      "Class 10:\t0.6211\t\t0.5435\t\t0.7246\n",
      "\n",
      "=###############== Average Metrics (Active Classes) ==###############=\n",
      "Macro F1: 0.1993\n",
      "Macro Precision: 0.2522\n",
      "Macro Recall: 0.3802\n"
     ]
    },
    {
     "name": "stderr",
     "output_type": "stream",
     "text": [
      "/root/anaconda3/envs/gm/lib/python3.7/site-packages/ipykernel_launcher.py:48: RuntimeWarning: overflow encountered in long_scalars\n"
     ]
    },
    {
     "name": "stdout",
     "output_type": "stream",
     "text": [
      "Batch 14/100, Average Loss: 0.2953\n"
     ]
    },
    {
     "name": "stderr",
     "output_type": "stream",
     "text": [
      "/root/anaconda3/envs/gm/lib/python3.7/site-packages/ipykernel_launcher.py:49: RuntimeWarning: invalid value encountered in true_divide\n",
      "Training Progress:  13%|█▎        | 13/100 [03:16<21:52, 15.08s/it]\n"
     ]
    },
    {
     "ename": "KeyboardInterrupt",
     "evalue": "",
     "output_type": "error",
     "traceback": [
      "\u001b[0;31m---------------------------------------------------------------------------\u001b[0m",
      "\u001b[0;31mKeyboardInterrupt\u001b[0m                         Traceback (most recent call last)",
      "\u001b[0;32m/tmp/ipykernel_2457658/1210057661.py\u001b[0m in \u001b[0;36m<module>\u001b[0;34m\u001b[0m\n\u001b[1;32m     55\u001b[0m         \u001b[0mall_labels\u001b[0m \u001b[0;34m=\u001b[0m \u001b[0;34m[\u001b[0m\u001b[0;34m]\u001b[0m\u001b[0;34m\u001b[0m\u001b[0;34m\u001b[0m\u001b[0m\n\u001b[1;32m     56\u001b[0m         \u001b[0;32mwith\u001b[0m \u001b[0mtorch\u001b[0m\u001b[0;34m.\u001b[0m\u001b[0mno_grad\u001b[0m\u001b[0;34m(\u001b[0m\u001b[0;34m)\u001b[0m\u001b[0;34m:\u001b[0m\u001b[0;34m\u001b[0m\u001b[0;34m\u001b[0m\u001b[0m\n\u001b[0;32m---> 57\u001b[0;31m             \u001b[0;32mfor\u001b[0m \u001b[0mimg\u001b[0m\u001b[0;34m,\u001b[0m \u001b[0mlbl\u001b[0m \u001b[0;32min\u001b[0m \u001b[0mvalloader\u001b[0m\u001b[0;34m:\u001b[0m\u001b[0;34m\u001b[0m\u001b[0;34m\u001b[0m\u001b[0m\n\u001b[0m\u001b[1;32m     58\u001b[0m                 \u001b[0mimg\u001b[0m \u001b[0;34m=\u001b[0m \u001b[0mimg\u001b[0m\u001b[0;34m.\u001b[0m\u001b[0mto\u001b[0m\u001b[0;34m(\u001b[0m\u001b[0mdevice\u001b[0m\u001b[0;34m)\u001b[0m\u001b[0;34m\u001b[0m\u001b[0;34m\u001b[0m\u001b[0m\n\u001b[1;32m     59\u001b[0m                 \u001b[0mlbl\u001b[0m \u001b[0;34m=\u001b[0m \u001b[0mlbl\u001b[0m\u001b[0;34m.\u001b[0m\u001b[0mto\u001b[0m\u001b[0;34m(\u001b[0m\u001b[0mdevice\u001b[0m\u001b[0;34m)\u001b[0m\u001b[0;34m\u001b[0m\u001b[0;34m\u001b[0m\u001b[0m\n",
      "\u001b[0;32m~/anaconda3/envs/gm/lib/python3.7/site-packages/torch/utils/data/dataloader.py\u001b[0m in \u001b[0;36m__next__\u001b[0;34m(self)\u001b[0m\n\u001b[1;32m    626\u001b[0m                 \u001b[0;31m# TODO(https://github.com/pytorch/pytorch/issues/76750)\u001b[0m\u001b[0;34m\u001b[0m\u001b[0;34m\u001b[0m\u001b[0;34m\u001b[0m\u001b[0m\n\u001b[1;32m    627\u001b[0m                 \u001b[0mself\u001b[0m\u001b[0;34m.\u001b[0m\u001b[0m_reset\u001b[0m\u001b[0;34m(\u001b[0m\u001b[0;34m)\u001b[0m  \u001b[0;31m# type: ignore[call-arg]\u001b[0m\u001b[0;34m\u001b[0m\u001b[0;34m\u001b[0m\u001b[0m\n\u001b[0;32m--> 628\u001b[0;31m             \u001b[0mdata\u001b[0m \u001b[0;34m=\u001b[0m \u001b[0mself\u001b[0m\u001b[0;34m.\u001b[0m\u001b[0m_next_data\u001b[0m\u001b[0;34m(\u001b[0m\u001b[0;34m)\u001b[0m\u001b[0;34m\u001b[0m\u001b[0;34m\u001b[0m\u001b[0m\n\u001b[0m\u001b[1;32m    629\u001b[0m             \u001b[0mself\u001b[0m\u001b[0;34m.\u001b[0m\u001b[0m_num_yielded\u001b[0m \u001b[0;34m+=\u001b[0m \u001b[0;36m1\u001b[0m\u001b[0;34m\u001b[0m\u001b[0;34m\u001b[0m\u001b[0m\n\u001b[1;32m    630\u001b[0m             \u001b[0;32mif\u001b[0m \u001b[0mself\u001b[0m\u001b[0;34m.\u001b[0m\u001b[0m_dataset_kind\u001b[0m \u001b[0;34m==\u001b[0m \u001b[0m_DatasetKind\u001b[0m\u001b[0;34m.\u001b[0m\u001b[0mIterable\u001b[0m \u001b[0;32mand\u001b[0m\u001b[0;31m \u001b[0m\u001b[0;31m\\\u001b[0m\u001b[0;34m\u001b[0m\u001b[0;34m\u001b[0m\u001b[0m\n",
      "\u001b[0;32m~/anaconda3/envs/gm/lib/python3.7/site-packages/torch/utils/data/dataloader.py\u001b[0m in \u001b[0;36m_next_data\u001b[0;34m(self)\u001b[0m\n\u001b[1;32m   1314\u001b[0m \u001b[0;34m\u001b[0m\u001b[0m\n\u001b[1;32m   1315\u001b[0m             \u001b[0;32massert\u001b[0m \u001b[0;32mnot\u001b[0m \u001b[0mself\u001b[0m\u001b[0;34m.\u001b[0m\u001b[0m_shutdown\u001b[0m \u001b[0;32mand\u001b[0m \u001b[0mself\u001b[0m\u001b[0;34m.\u001b[0m\u001b[0m_tasks_outstanding\u001b[0m \u001b[0;34m>\u001b[0m \u001b[0;36m0\u001b[0m\u001b[0;34m\u001b[0m\u001b[0;34m\u001b[0m\u001b[0m\n\u001b[0;32m-> 1316\u001b[0;31m             \u001b[0midx\u001b[0m\u001b[0;34m,\u001b[0m \u001b[0mdata\u001b[0m \u001b[0;34m=\u001b[0m \u001b[0mself\u001b[0m\u001b[0;34m.\u001b[0m\u001b[0m_get_data\u001b[0m\u001b[0;34m(\u001b[0m\u001b[0;34m)\u001b[0m\u001b[0;34m\u001b[0m\u001b[0;34m\u001b[0m\u001b[0m\n\u001b[0m\u001b[1;32m   1317\u001b[0m             \u001b[0mself\u001b[0m\u001b[0;34m.\u001b[0m\u001b[0m_tasks_outstanding\u001b[0m \u001b[0;34m-=\u001b[0m \u001b[0;36m1\u001b[0m\u001b[0;34m\u001b[0m\u001b[0;34m\u001b[0m\u001b[0m\n\u001b[1;32m   1318\u001b[0m             \u001b[0;32mif\u001b[0m \u001b[0mself\u001b[0m\u001b[0;34m.\u001b[0m\u001b[0m_dataset_kind\u001b[0m \u001b[0;34m==\u001b[0m \u001b[0m_DatasetKind\u001b[0m\u001b[0;34m.\u001b[0m\u001b[0mIterable\u001b[0m\u001b[0;34m:\u001b[0m\u001b[0;34m\u001b[0m\u001b[0;34m\u001b[0m\u001b[0m\n",
      "\u001b[0;32m~/anaconda3/envs/gm/lib/python3.7/site-packages/torch/utils/data/dataloader.py\u001b[0m in \u001b[0;36m_get_data\u001b[0;34m(self)\u001b[0m\n\u001b[1;32m   1270\u001b[0m         \u001b[0;32melif\u001b[0m \u001b[0mself\u001b[0m\u001b[0;34m.\u001b[0m\u001b[0m_pin_memory\u001b[0m\u001b[0;34m:\u001b[0m\u001b[0;34m\u001b[0m\u001b[0;34m\u001b[0m\u001b[0m\n\u001b[1;32m   1271\u001b[0m             \u001b[0;32mwhile\u001b[0m \u001b[0mself\u001b[0m\u001b[0;34m.\u001b[0m\u001b[0m_pin_memory_thread\u001b[0m\u001b[0;34m.\u001b[0m\u001b[0mis_alive\u001b[0m\u001b[0;34m(\u001b[0m\u001b[0;34m)\u001b[0m\u001b[0;34m:\u001b[0m\u001b[0;34m\u001b[0m\u001b[0;34m\u001b[0m\u001b[0m\n\u001b[0;32m-> 1272\u001b[0;31m                 \u001b[0msuccess\u001b[0m\u001b[0;34m,\u001b[0m \u001b[0mdata\u001b[0m \u001b[0;34m=\u001b[0m \u001b[0mself\u001b[0m\u001b[0;34m.\u001b[0m\u001b[0m_try_get_data\u001b[0m\u001b[0;34m(\u001b[0m\u001b[0;34m)\u001b[0m\u001b[0;34m\u001b[0m\u001b[0;34m\u001b[0m\u001b[0m\n\u001b[0m\u001b[1;32m   1273\u001b[0m                 \u001b[0;32mif\u001b[0m \u001b[0msuccess\u001b[0m\u001b[0;34m:\u001b[0m\u001b[0;34m\u001b[0m\u001b[0;34m\u001b[0m\u001b[0m\n\u001b[1;32m   1274\u001b[0m                     \u001b[0;32mreturn\u001b[0m \u001b[0mdata\u001b[0m\u001b[0;34m\u001b[0m\u001b[0;34m\u001b[0m\u001b[0m\n",
      "\u001b[0;32m~/anaconda3/envs/gm/lib/python3.7/site-packages/torch/utils/data/dataloader.py\u001b[0m in \u001b[0;36m_try_get_data\u001b[0;34m(self, timeout)\u001b[0m\n\u001b[1;32m   1118\u001b[0m         \u001b[0;31m#   (bool: whether successfully get data, any: data if successful else None)\u001b[0m\u001b[0;34m\u001b[0m\u001b[0;34m\u001b[0m\u001b[0;34m\u001b[0m\u001b[0m\n\u001b[1;32m   1119\u001b[0m         \u001b[0;32mtry\u001b[0m\u001b[0;34m:\u001b[0m\u001b[0;34m\u001b[0m\u001b[0;34m\u001b[0m\u001b[0m\n\u001b[0;32m-> 1120\u001b[0;31m             \u001b[0mdata\u001b[0m \u001b[0;34m=\u001b[0m \u001b[0mself\u001b[0m\u001b[0;34m.\u001b[0m\u001b[0m_data_queue\u001b[0m\u001b[0;34m.\u001b[0m\u001b[0mget\u001b[0m\u001b[0;34m(\u001b[0m\u001b[0mtimeout\u001b[0m\u001b[0;34m=\u001b[0m\u001b[0mtimeout\u001b[0m\u001b[0;34m)\u001b[0m\u001b[0;34m\u001b[0m\u001b[0;34m\u001b[0m\u001b[0m\n\u001b[0m\u001b[1;32m   1121\u001b[0m             \u001b[0;32mreturn\u001b[0m \u001b[0;34m(\u001b[0m\u001b[0;32mTrue\u001b[0m\u001b[0;34m,\u001b[0m \u001b[0mdata\u001b[0m\u001b[0;34m)\u001b[0m\u001b[0;34m\u001b[0m\u001b[0;34m\u001b[0m\u001b[0m\n\u001b[1;32m   1122\u001b[0m         \u001b[0;32mexcept\u001b[0m \u001b[0mException\u001b[0m \u001b[0;32mas\u001b[0m \u001b[0me\u001b[0m\u001b[0;34m:\u001b[0m\u001b[0;34m\u001b[0m\u001b[0;34m\u001b[0m\u001b[0m\n",
      "\u001b[0;32m~/anaconda3/envs/gm/lib/python3.7/queue.py\u001b[0m in \u001b[0;36mget\u001b[0;34m(self, block, timeout)\u001b[0m\n\u001b[1;32m    177\u001b[0m                     \u001b[0;32mif\u001b[0m \u001b[0mremaining\u001b[0m \u001b[0;34m<=\u001b[0m \u001b[0;36m0.0\u001b[0m\u001b[0;34m:\u001b[0m\u001b[0;34m\u001b[0m\u001b[0;34m\u001b[0m\u001b[0m\n\u001b[1;32m    178\u001b[0m                         \u001b[0;32mraise\u001b[0m \u001b[0mEmpty\u001b[0m\u001b[0;34m\u001b[0m\u001b[0;34m\u001b[0m\u001b[0m\n\u001b[0;32m--> 179\u001b[0;31m                     \u001b[0mself\u001b[0m\u001b[0;34m.\u001b[0m\u001b[0mnot_empty\u001b[0m\u001b[0;34m.\u001b[0m\u001b[0mwait\u001b[0m\u001b[0;34m(\u001b[0m\u001b[0mremaining\u001b[0m\u001b[0;34m)\u001b[0m\u001b[0;34m\u001b[0m\u001b[0;34m\u001b[0m\u001b[0m\n\u001b[0m\u001b[1;32m    180\u001b[0m             \u001b[0mitem\u001b[0m \u001b[0;34m=\u001b[0m \u001b[0mself\u001b[0m\u001b[0;34m.\u001b[0m\u001b[0m_get\u001b[0m\u001b[0;34m(\u001b[0m\u001b[0;34m)\u001b[0m\u001b[0;34m\u001b[0m\u001b[0;34m\u001b[0m\u001b[0m\n\u001b[1;32m    181\u001b[0m             \u001b[0mself\u001b[0m\u001b[0;34m.\u001b[0m\u001b[0mnot_full\u001b[0m\u001b[0;34m.\u001b[0m\u001b[0mnotify\u001b[0m\u001b[0;34m(\u001b[0m\u001b[0;34m)\u001b[0m\u001b[0;34m\u001b[0m\u001b[0;34m\u001b[0m\u001b[0m\n",
      "\u001b[0;32m~/anaconda3/envs/gm/lib/python3.7/threading.py\u001b[0m in \u001b[0;36mwait\u001b[0;34m(self, timeout)\u001b[0m\n\u001b[1;32m    298\u001b[0m             \u001b[0;32melse\u001b[0m\u001b[0;34m:\u001b[0m\u001b[0;34m\u001b[0m\u001b[0;34m\u001b[0m\u001b[0m\n\u001b[1;32m    299\u001b[0m                 \u001b[0;32mif\u001b[0m \u001b[0mtimeout\u001b[0m \u001b[0;34m>\u001b[0m \u001b[0;36m0\u001b[0m\u001b[0;34m:\u001b[0m\u001b[0;34m\u001b[0m\u001b[0;34m\u001b[0m\u001b[0m\n\u001b[0;32m--> 300\u001b[0;31m                     \u001b[0mgotit\u001b[0m \u001b[0;34m=\u001b[0m \u001b[0mwaiter\u001b[0m\u001b[0;34m.\u001b[0m\u001b[0macquire\u001b[0m\u001b[0;34m(\u001b[0m\u001b[0;32mTrue\u001b[0m\u001b[0;34m,\u001b[0m \u001b[0mtimeout\u001b[0m\u001b[0;34m)\u001b[0m\u001b[0;34m\u001b[0m\u001b[0;34m\u001b[0m\u001b[0m\n\u001b[0m\u001b[1;32m    301\u001b[0m                 \u001b[0;32melse\u001b[0m\u001b[0;34m:\u001b[0m\u001b[0;34m\u001b[0m\u001b[0;34m\u001b[0m\u001b[0m\n\u001b[1;32m    302\u001b[0m                     \u001b[0mgotit\u001b[0m \u001b[0;34m=\u001b[0m \u001b[0mwaiter\u001b[0m\u001b[0;34m.\u001b[0m\u001b[0macquire\u001b[0m\u001b[0;34m(\u001b[0m\u001b[0;32mFalse\u001b[0m\u001b[0;34m)\u001b[0m\u001b[0;34m\u001b[0m\u001b[0;34m\u001b[0m\u001b[0m\n",
      "\u001b[0;31mKeyboardInterrupt\u001b[0m: "
     ]
    }
   ],
   "source": [
    "# 모델 및 데이터 설정 (이전과 동일)\n",
    "device = torch.device(\"cuda\" if torch.cuda.is_available() else \"cpu\")\n",
    "resnet = models.resnet50(pretrained=True)\n",
    "num_ftrs = resnet.fc.in_features\n",
    "resnet.fc = nn.Linear(num_ftrs, dataset.n_classes)\n",
    "resnet = resnet.to(device)\n",
    "\n",
    "optimizer = torch.optim.Adam(resnet.parameters(), lr=0.001)\n",
    "criterion = nn.BCEWithLogitsLoss(reduction='none')\n",
    "\n",
    "train_labels = dataset.train_data[1]  # 원-핫 인코딩된 레이블\n",
    "\n",
    "batch_size = 64\n",
    "total_batches = 100  # 원하는 총 배치 수\n",
    "eval_interval = 1  # 평가 간격 (배치 단위)\n",
    "sampler = BalancedMultiLabelSampler(train_labels,batch_size,eval_interval)\n",
    "\n",
    "total_loss = 0\n",
    "all_losses = []\n",
    "\n",
    "for batch in tqdm(range(total_batches), desc=\"Training Progress\"):\n",
    "    resnet.train()\n",
    "    \n",
    "    # 매 배치마다 새로운 DataLoader 생성\n",
    "    trainloader = DataLoader(trainset,  batch_sampler=sampler)\n",
    "    img, lbl = next(iter(trainloader))\n",
    "    \n",
    "    img = img.to(device)\n",
    "    lbl = lbl.to(device)\n",
    "    \n",
    "    optimizer.zero_grad()\n",
    "    \n",
    "    outputs = resnet(img)\n",
    "    losses = criterion(outputs, lbl)\n",
    "    loss = losses.mean()\n",
    "    \n",
    "    loss.backward()\n",
    "    optimizer.step()\n",
    "    \n",
    "    total_loss += loss.item()\n",
    "    all_losses.append(losses.detach().cpu().numpy())\n",
    "    \n",
    "    if (batch + 1) % eval_interval == 0:\n",
    "        avg_loss = total_loss / eval_interval\n",
    "        print(f\"Batch {batch + 1}/{total_batches}, Average Loss: {avg_loss:.4f}\")\n",
    "        \n",
    "        # 클래스별 평균 손실 계산 및 샘플러 업데이트\n",
    "        batch_losses = np.concatenate(all_losses)\n",
    "        class_losses = np.mean(batch_losses * train_labels[:len(batch_losses)], axis=0) / np.mean(train_labels[:len(batch_losses)], axis=0)\n",
    "        sampler.update_probs(class_losses)\n",
    "        \n",
    "        # 평가 부분\n",
    "        resnet.eval()\n",
    "        all_preds = []\n",
    "        all_labels = []\n",
    "        with torch.no_grad():\n",
    "            for img, lbl in valloader:\n",
    "                img = img.to(device)\n",
    "                lbl = lbl.to(device)\n",
    "                logits = resnet(img)    \n",
    "                all_preds.append(logits)\n",
    "                all_labels.append(lbl)\n",
    "        all_preds = torch.cat(all_preds, dim=0)\n",
    "        all_labels = torch.cat(all_labels, dim=0)\n",
    "        metrics = calculate_metrics(all_preds, all_labels)\n",
    "        print_metrics(metrics)\n",
    "        \n",
    "        # 리셋\n",
    "        total_loss = 0\n",
    "        all_losses = []\n",
    "\n",
    "print(\"Training completed.\")"
   ]
  },
  {
   "cell_type": "code",
   "execution_count": null,
   "metadata": {},
   "outputs": [],
   "source": [
    "# 지금 클래스별로 로스에따라 데이터셋구성이 너무 불균형해서 균형있게 모니터링 후 조정할 필요 있음"
   ]
  },
  {
   "cell_type": "code",
   "execution_count": 100,
   "metadata": {},
   "outputs": [
    {
     "name": "stdout",
     "output_type": "stream",
     "text": [
      "=== Overall Metrics ===\n",
      "Accuracy: 0.2297\n",
      "Hamming Loss: 0.1456\n",
      "Subset Accuracy: 0.2297\n",
      "\n",
      "=== Class-wise Metrics ===\n",
      "Class\t\tF1 Score\tPrecision\tRecall\n",
      "--------------------------------------------------\n",
      "Class 0:\t0.6565\t\t0.7818\t\t0.5658\n",
      "Class 1:\t0.4000\t\t0.5455\t\t0.3158\n",
      "Class 2:\t0.3385\t\t0.5000\t\t0.2558\n",
      "Class 3:\t0.3396\t\t0.2647\t\t0.4737\n",
      "Class 4:\t0.0000\t\t0.0000\t\t0.0000\n",
      "Class 5:\t0.2500\t\t0.1429\t\t1.0000\n",
      "Class 8:\t0.8095\t\t0.8095\t\t0.8095\n",
      "Class 9:\t0.5574\t\t0.5862\t\t0.5312\n",
      "Class 10:\t0.8219\t\t0.8219\t\t0.8219\n",
      "\n",
      "=###############== Average Metrics (Active Classes) ==###############=\n",
      "Macro F1: 0.4637\n",
      "Macro Precision: 0.4947\n",
      "Macro Recall: 0.5304\n"
     ]
    }
   ],
   "source": [
    "# 평가 부분은 그대로 유지\n",
    "resnet.eval()\n",
    "all_preds = []\n",
    "all_labels = []\n",
    "with torch.no_grad():\n",
    "    for img, lbl in testloader:\n",
    "        img = img.to(device)\n",
    "        lbl = lbl.to(device)\n",
    "        logits = resnet(img)    \n",
    "        score = calculate_metrics(logits, lbl)\n",
    "        all_preds.append(logits)\n",
    "        all_labels.append(lbl)\n",
    "all_preds = torch.cat(all_preds, dim=0)\n",
    "all_labels = torch.cat(all_labels, dim=0)\n",
    "metrics = calculate_metrics(all_preds, all_labels)\n",
    "print_metrics(metrics)"
   ]
  },
  {
   "cell_type": "markdown",
   "metadata": {},
   "source": [
    "# 러닝레이트확인\n",
    "\n",
    "# 순서변경, 난이도에 따른 샘플 선택 도입\n",
    "\n",
    "# 난이도 확인 후 augmentation으로 공헌?"
   ]
  },
  {
   "cell_type": "markdown",
   "metadata": {},
   "source": []
  }
 ],
 "metadata": {
  "kernelspec": {
   "display_name": "gm",
   "language": "python",
   "name": "python3"
  },
  "language_info": {
   "codemirror_mode": {
    "name": "ipython",
    "version": 3
   },
   "file_extension": ".py",
   "mimetype": "text/x-python",
   "name": "python",
   "nbconvert_exporter": "python",
   "pygments_lexer": "ipython3",
   "version": "3.7.16"
  }
 },
 "nbformat": 4,
 "nbformat_minor": 2
}
