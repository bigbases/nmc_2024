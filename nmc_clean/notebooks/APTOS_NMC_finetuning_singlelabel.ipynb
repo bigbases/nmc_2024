{
 "cells": [
  {
   "cell_type": "markdown",
   "metadata": {},
   "source": [
    "### 싱글모델로 분류"
   ]
  },
  {
   "cell_type": "code",
   "execution_count": 6,
   "metadata": {},
   "outputs": [],
   "source": [
    "\n",
    "import torch \n",
    "import argparse\n",
    "import yaml\n",
    "import time\n",
    "import multiprocessing as mp\n",
    "import torch.nn.functional as F\n",
    "from tabulate import tabulate\n",
    "from tqdm import tqdm\n",
    "from torch.utils.data import DataLoader\n",
    "from pathlib import Path\n",
    "#from torch.utils.tensorboard import SummaryWriter\n",
    "from torch.cuda.amp import GradScaler, autocast\n",
    "from torch.nn.parallel import DistributedDataParallel as DDP\n",
    "from torch.utils.data import DistributedSampler, RandomSampler\n",
    "from torch import distributed as dist\n",
    "from nmc.models import *\n",
    "from nmc.datasets import * \n",
    "from nmc.augmentations import get_train_augmentation, get_val_augmentation\n",
    "from nmc.losses import get_loss\n",
    "from nmc.schedulers import get_scheduler\n",
    "from nmc.optimizers import get_optimizer\n",
    "from nmc.utils.utils import fix_seeds, setup_cudnn, cleanup_ddp, setup_ddp\n",
    "from tools.val import evaluate_epi\n",
    "from nmc.utils.episodic_utils import * \n",
    "from scipy.cluster import hierarchy\n",
    "from sklearn.preprocessing import MinMaxScaler\n",
    "import matplotlib.pyplot as plt\n",
    "from torchvision import models\n",
    "import torch.nn as nn\n",
    "from torch.optim import lr_scheduler\n",
    "import numpy as np\n",
    "from sklearn.metrics import accuracy_score, f1_score\n",
    "import pandas as pd\n",
    "import matplotlib.pyplot as plt\n",
    "import seaborn as sns\n",
    "from sklearn.metrics import mutual_info_score\n",
    "from scipy.cluster import hierarchy\n",
    "from tqdm import tqdm\n",
    "from sklearn.metrics import accuracy_score, precision_score, recall_score, f1_score, hamming_loss\n",
    "from torch.utils.data import Dataset, DataLoader, Sampler\n",
    "from torch.utils.data import Subset\n",
    "import torch.optim as optim\n",
    "from torchvision import transforms\n",
    "from PIL import Image\n",
    "import cv2\n",
    "import random"
   ]
  },
  {
   "cell_type": "code",
   "execution_count": 7,
   "metadata": {},
   "outputs": [
    {
     "name": "stdout",
     "output_type": "stream",
     "text": [
      "{'DEVICE': 'cuda:0', 'SAVE_DIR': 'output', 'MODEL': {'NAME': 'EfficientNetV2MModelMulti', 'BACKBONE': 'EfficientNetV2', 'PRETRAINED': '/workspace/jhmoon/nmc_2024/checkpoints/pretrained/tf_efficientnetv2_m_weights.pth', 'UNFREEZE': 'full', 'VERSION': \"384_32_loss'\"}, 'DATASET': {'NAME': 'NMCDataset', 'ROOT': '/data/nmc/processed_image', 'TRAIN_RATIO': 0.7, 'VALID_RATIO': 0.15, 'TEST_RATIO': 0.15}, 'TRAIN': {'IMAGE_SIZE': [384, 384], 'BATCH_SIZE': 32, 'EPOCHS': 100, 'EVAL_INTERVAL': 1, 'AMP': False, 'DDP': False}, 'LOSS': {'NAME': 'BCEWithLogitsLoss', 'CLS_WEIGHTS': False}, 'OPTIMIZER': {'NAME': 'adamw', 'LR': 0.1, 'WEIGHT_DECAY': 0.01}, 'SCHEDULER': {'NAME': 'warmuppolylr', 'POWER': 0.9, 'WARMUP': 10, 'WARMUP_RATIO': 0.1}, 'EVAL': {'MODEL_PATH': 'checkpoints/pretrained/FGMaxxVit/FGMaxxVit.FGMaxxVit.NMC.pth', 'IMAGE_SIZE': [384, 384]}, 'TEST': {'MODEL_PATH': 'checkpoints/pretrained/FGMaxxVit/FGMaxxVit.FGMaxxVit.NMC.pth', 'FILE': 'assests/ade', 'IMAGE_SIZE': [384, 384], 'OVERLAY': True}}\n"
     ]
    }
   ],
   "source": [
    "with open('../configs/NMC.yaml') as f:\n",
    "    cfg = yaml.load(f, Loader=yaml.SafeLoader)\n",
    "print(cfg)\n",
    "fix_seeds(3407)\n",
    "setup_cudnn()\n",
    "gpu = setup_ddp()\n",
    "save_dir = Path(cfg['SAVE_DIR'])\n",
    "save_dir.mkdir(exist_ok=True)\n",
    "cleanup_ddp()"
   ]
  },
  {
   "cell_type": "code",
   "execution_count": 8,
   "metadata": {},
   "outputs": [],
   "source": [
    "# Early Stopping\n",
    "class EarlyStopping:\n",
    "    def __init__(self, patience=7, min_delta=0):\n",
    "        self.patience = patience\n",
    "        self.min_delta = min_delta\n",
    "        self.counter = 0\n",
    "        self.best_score = None\n",
    "        self.early_stop = False\n",
    "\n",
    "    def __call__(self, val_score):\n",
    "        if self.best_score is None:\n",
    "            self.best_score = val_score\n",
    "        elif val_score < self.best_score + self.min_delta:\n",
    "            self.counter += 1\n",
    "            if self.counter >= self.patience:\n",
    "                self.early_stop = True\n",
    "        else:\n",
    "            self.best_score = val_score\n",
    "            self.counter = 0"
   ]
  },
  {
   "cell_type": "code",
   "execution_count": 9,
   "metadata": {},
   "outputs": [],
   "source": [
    "def get_train_augmentation(size):\n",
    "    return transforms.Compose([\n",
    "        transforms.Resize(size),\n",
    "        transforms.RandomHorizontalFlip(),\n",
    "        transforms.RandomRotation(10),\n",
    "        transforms.ColorJitter(brightness=0.2, contrast=0.2, saturation=0.2),\n",
    "        transforms.Lambda(lambda x: x.float() if x.dtype == torch.uint8 else x),\n",
    "        transforms.Lambda(lambda x: x / 255.0 if x.max() > 1.0 else x),\n",
    "        transforms.Normalize([0.485, 0.456, 0.406], [0.229, 0.224, 0.225])\n",
    "    ])\n",
    "\n",
    "def get_val_test_transform(size):\n",
    "    return transforms.Compose([\n",
    "        transforms.Resize(size),\n",
    "        transforms.Lambda(lambda x: x.float() if x.dtype == torch.uint8 else x),\n",
    "        transforms.Lambda(lambda x: x / 255.0 if x.max() > 1.0 else x),\n",
    "        transforms.Normalize([0.485, 0.456, 0.406], [0.229, 0.224, 0.225])\n",
    "    ])\n"
   ]
  },
  {
   "cell_type": "code",
   "execution_count": 10,
   "metadata": {},
   "outputs": [],
   "source": [
    "class MultiTargetBalancedBatchSampler(Sampler):\n",
    "    def __init__(self, dataset, batch_size, target_classes):\n",
    "        self.dataset = dataset\n",
    "        self.batch_size = batch_size\n",
    "        self.target_classes = target_classes\n",
    "        \n",
    "        # 데이터셋에서 레이블 추출\n",
    "        if hasattr(dataset, 'labels'):\n",
    "            self.labels = dataset.labels\n",
    "            if isinstance(self.labels, np.ndarray):\n",
    "                self.labels = torch.from_numpy(self.labels)\n",
    "        elif hasattr(dataset, 'targets'):\n",
    "            self.labels = dataset.targets\n",
    "            if isinstance(self.labels, np.ndarray):\n",
    "                self.labels = torch.from_numpy(self.labels)\n",
    "        else:\n",
    "            try:\n",
    "                self.labels = [sample[1] for sample in dataset]\n",
    "                if isinstance(self.labels[0], np.ndarray):\n",
    "                    self.labels = torch.from_numpy(np.array(self.labels))\n",
    "                else:\n",
    "                    self.labels = torch.tensor(self.labels)\n",
    "            except:\n",
    "                raise ValueError(\"Cannot access labels from dataset\")\n",
    "        \n",
    "        # 각 타겟 클래스와 나머지 클래스의 인덱스 저장\n",
    "        self.target_indices = {}\n",
    "        for target in target_classes:\n",
    "            if len(self.labels.shape) > 1:\n",
    "                self.target_indices[target] = torch.where(self.labels[:, target] == 1)[0]\n",
    "            else:\n",
    "                self.target_indices[target] = torch.where(self.labels == target)[0]\n",
    "        \n",
    "        # 나머지 클래스의 인덱스 저장\n",
    "        if len(self.labels.shape) > 1:\n",
    "            self.other_indices = torch.where(\n",
    "                torch.sum(self.labels[:, target_classes], dim=1) == 0)[0]\n",
    "        else:\n",
    "            mask = torch.ones_like(self.labels, dtype=torch.bool)\n",
    "            for target in target_classes:\n",
    "                mask &= (self.labels != target)\n",
    "            self.other_indices = torch.where(mask)[0]\n",
    "        \n",
    "        # 각 그룹당 샘플 수 계산\n",
    "        n_groups = len(target_classes) + 1  # 타겟 클래스들 + 나머지\n",
    "        self.samples_per_group = batch_size // n_groups\n",
    "        \n",
    "        self.n_batches = len(self.dataset) // batch_size\n",
    "        if len(self.dataset) % batch_size != 0:\n",
    "            self.n_batches += 1\n",
    "    \n",
    "    def __iter__(self):\n",
    "        for _ in range(self.n_batches):\n",
    "            batch_indices = []\n",
    "            \n",
    "            # 각 타겟 클래스에서 샘플링\n",
    "            for target in self.target_classes:\n",
    "                target_selected = self.target_indices[target][\n",
    "                    torch.randint(len(self.target_indices[target]), \n",
    "                                (self.samples_per_group,))\n",
    "                ]\n",
    "                batch_indices.extend(target_selected.tolist())\n",
    "            \n",
    "            # 나머지 클래스들에서 샘플링\n",
    "            other_selected = self.other_indices[\n",
    "                torch.randint(len(self.other_indices), \n",
    "                            (self.samples_per_group,))\n",
    "            ]\n",
    "            batch_indices.extend(other_selected.tolist())\n",
    "            \n",
    "            # 배치 셔플\n",
    "            random.shuffle(batch_indices)\n",
    "            \n",
    "            # 배치 크기에 맞게 자르기 (나누어 떨어지지 않는 경우 처리)\n",
    "            if len(batch_indices) > self.batch_size:\n",
    "                batch_indices = batch_indices[:self.batch_size]\n",
    "            \n",
    "            yield batch_indices\n",
    "    \n",
    "    def __len__(self):\n",
    "        return self.n_batches"
   ]
  },
  {
   "cell_type": "code",
   "execution_count": 11,
   "metadata": {},
   "outputs": [],
   "source": [
    "def train_epoch(model, dataloader, criterion, optimizer, scaler, device, target_label_idx):\n",
    "    model.train()\n",
    "    running_loss = 0.0\n",
    "    num_targets = len(target_label_idx)\n",
    "\n",
    "    for images, labels in tqdm(dataloader, desc=\"Training\"):\n",
    "        images = images.to(device)\n",
    "        \n",
    "        if num_targets == 1:\n",
    "            # 단일 레이블 케이스\n",
    "            target_labels = labels[:, target_label_idx].to(device)\n",
    "            \n",
    "            optimizer.zero_grad()\n",
    "            \n",
    "            with autocast(enabled=True):\n",
    "                outputs = model(images)\n",
    "                # 차원을 맞춰줌\n",
    "                outputs = outputs.view(-1)  # or outputs.squeeze()\n",
    "                target_labels = target_labels.view(-1)  # or target_labels.squeeze()\n",
    "                loss = criterion(outputs, target_labels)\n",
    "        else:\n",
    "            # 다중 레이블 케이스\n",
    "            target_labels = labels[:, target_label_idx].to(device)\n",
    "            \n",
    "            optimizer.zero_grad()\n",
    "            \n",
    "            with autocast(enabled=True):\n",
    "                outputs = model(images)\n",
    "                loss = criterion(outputs, target_labels)\n",
    "\n",
    "        if scaler is not None:\n",
    "            scaler.scale(loss).backward()\n",
    "            scaler.step(optimizer)\n",
    "            scaler.update()\n",
    "        else:\n",
    "            loss.backward()\n",
    "            optimizer.step()\n",
    "\n",
    "        running_loss += loss.item()\n",
    "\n",
    "    return running_loss / len(dataloader)"
   ]
  },
  {
   "cell_type": "code",
   "execution_count": 12,
   "metadata": {},
   "outputs": [],
   "source": [
    "def evaluate(model, dataloader, device, target_label_idx):\n",
    "   model.eval()\n",
    "   all_preds = []\n",
    "   all_labels = []\n",
    "   num_targets = len(target_label_idx)\n",
    "   \n",
    "   with torch.no_grad():\n",
    "       for images, labels in tqdm(dataloader, desc=\"Evaluating\"):\n",
    "           images = images.to(device)\n",
    "           \n",
    "           if num_targets == 1:\n",
    "               # 단일 레이블 케이스\n",
    "               target_labels = labels[:, target_label_idx].to(device)\n",
    "               outputs = model(images)\n",
    "               \n",
    "               # 차원 처리\n",
    "               if len(outputs.shape) == 2:\n",
    "                   outputs = outputs.squeeze(1)\n",
    "               \n",
    "               preds = (torch.sigmoid(outputs) > 0.5).float()\n",
    "               \n",
    "               all_preds.append(preds.cpu().numpy().reshape(-1))\n",
    "               all_labels.append(target_labels.cpu().numpy().reshape(-1))\n",
    "           \n",
    "           else:\n",
    "               # 다중 레이블 케이스\n",
    "               target_labels = labels[:, target_label_idx].to(device)\n",
    "               outputs = model(images)\n",
    "               \n",
    "               # 각 레이블에 대한 예측\n",
    "               preds = (torch.sigmoid(outputs) > 0.5).float()\n",
    "               \n",
    "               all_preds.append(preds.cpu().numpy())\n",
    "               all_labels.append(target_labels.cpu().numpy())\n",
    "   \n",
    "   # numpy array로 변환\n",
    "   all_preds = np.concatenate(all_preds)\n",
    "   all_labels = np.concatenate(all_labels)\n",
    "   \n",
    "   if num_targets == 1:\n",
    "       # 단일 레이블 메트릭\n",
    "       f1 = f1_score(all_labels, all_preds, average='binary')\n",
    "       accuracy = accuracy_score(all_labels, all_preds)\n",
    "       precision = precision_score(all_labels, all_preds)\n",
    "       recall = recall_score(all_labels, all_preds)\n",
    "       \n",
    "       return f1, accuracy, precision, recall\n",
    "   else:\n",
    "       # 다중 레이블 메트릭\n",
    "       f1 = f1_score(all_labels, all_preds, average='macro')\n",
    "       accuracy = accuracy_score(all_labels, all_preds)\n",
    "       precision = precision_score(all_labels, all_preds, average='macro')\n",
    "       recall = recall_score(all_labels, all_preds, average='macro')\n",
    "       \n",
    "       return f1, accuracy, precision, recall"
   ]
  },
  {
   "cell_type": "code",
   "execution_count": 13,
   "metadata": {},
   "outputs": [],
   "source": [
    "def train_and_evaluate(model, train_loader, val_loader, criterion, optimizer, scaler, device, epochs, target_label_idx):\n",
    "    best_f1 = 0.0\n",
    "    early_stopping = EarlyStopping(patience=10, min_delta=0.001)\n",
    "    num_targets = len(target_label_idx)\n",
    "    \n",
    "    for epoch in range(epochs):\n",
    "        print(f\"Epoch {epoch+1}/{epochs}\")\n",
    "        \n",
    "        train_loss = train_epoch(model, train_loader, criterion, optimizer, scaler, device, target_label_idx)\n",
    "        \n",
    "        if num_targets == 1:\n",
    "            val_f1, val_acc, val_prec, val_rec = evaluate(model, val_loader, device, target_label_idx)\n",
    "            \n",
    "            print(f\"Training Loss: {train_loss:.4f}\")\n",
    "            print(f\"Validation Metrics:\")\n",
    "            print(f\"  F1 Score: {val_f1:.4f}\")\n",
    "            print(f\"  Accuracy: {val_acc:.4f}\") \n",
    "            print(f\"  Precision: {val_prec:.4f}\")\n",
    "            print(f\"  Recall: {val_rec:.4f}\")\n",
    "            \n",
    "            scheduler.step(val_f1)\n",
    "            \n",
    "            if val_f1 > best_f1:\n",
    "                best_f1 = val_f1\n",
    "                torch.save(model.state_dict(), f'model/singlelabel_finetuning/best_model_label_{target_label_idx[0]}_nmc_cnn.pth')\n",
    "                print(\"New best model saved!\")\n",
    "        else:\n",
    "            # 모든 메트릭을 받아서 f1만 사용\n",
    "            val_f1, val_acc, val_prec, val_rec = evaluate(model, val_loader, device, target_label_idx)\n",
    "            \n",
    "            print(f\"Training Loss: {train_loss:.4f}\")\n",
    "            print(f\"Validation Metrics:\")\n",
    "            print(f\"  Macro F1 Score: {val_f1:.4f}\")\n",
    "            print(f\"  Macro Accuracy: {val_acc:.4f}\")\n",
    "            print(f\"  Macro Precision: {val_prec:.4f}\")\n",
    "            print(f\"  Macro Recall: {val_rec:.4f}\")\n",
    "            \n",
    "            scheduler.step(val_f1)\n",
    "            \n",
    "            if val_f1 > best_f1:\n",
    "                best_f1 = val_f1\n",
    "                torch.save(model.state_dict(), f'model/singlelabel_finetuning/best_model_labels_{\"-\".join(map(str,target_label_idx))}_nmc_cnn.pth')\n",
    "                print(\"New best model saved!\")\n",
    "        \n",
    "        early_stopping(val_f1)\n",
    "        if early_stopping.early_stop:\n",
    "            print(\"Early stopping triggered\")\n",
    "            break\n",
    "            \n",
    "        print()\n",
    "    \n",
    "    return best_f1"
   ]
  },
  {
   "cell_type": "code",
   "execution_count": 19,
   "metadata": {},
   "outputs": [
    {
     "name": "stdout",
     "output_type": "stream",
     "text": [
      "device :  cuda:0\n",
      "/data/nmc/processed_image/cropped_images_1424x1648\n",
      "(0,)               1935\n",
      "(3,)                542\n",
      "(1, 2, 3)           532\n",
      "(1, 2)              286\n",
      "(2,)                233\n",
      "(1, 2, 3, 4)        190\n",
      "(2, 3)              163\n",
      "(1,)                155\n",
      "(4,)                 47\n",
      "(1, 3)               31\n",
      "(1, 2, 4)            27\n",
      "(3, 4)               22\n",
      "(1, 2, 3, 4, 5)      11\n",
      "(5,)                  9\n",
      "(2, 3, 4)             9\n",
      "(1, 4)                9\n",
      "(1, 2, 3, 5)          8\n",
      "(1, 2, 5)             7\n",
      "(2, 4)                7\n",
      "(1, 2, 3, 5, 6)       5\n",
      "(1, 2, 3, 6)          4\n",
      "(1, 3, 4)             2\n",
      "(1, 3, 6)             1\n",
      "(6,)                  1\n",
      "(1, 2, 6)             1\n",
      "(1, 2, 3, 4, 6)       1\n",
      "Name: label, dtype: int64\n",
      "train size: 4238\n",
      "(0,)               415\n",
      "(3,)               118\n",
      "(1, 2, 3)          113\n",
      "(1, 2)              65\n",
      "(2,)                50\n",
      "(1, 2, 3, 4)        46\n",
      "(2, 3)              35\n",
      "(1,)                32\n",
      "(4,)                13\n",
      "(1, 3)               7\n",
      "(5,)                 4\n",
      "(3, 4)               3\n",
      "(1, 2, 4)            2\n",
      "(1, 4)               2\n",
      "(2, 4)               2\n",
      "(1, 5)               2\n",
      "(1, 2, 3, 4, 6)      1\n",
      "(2, 3, 4)            1\n",
      "(1, 2, 3, 6)         1\n",
      "(1, 2, 3, 5)         1\n",
      "(1, 2, 5)            1\n",
      "Name: label, dtype: int64\n",
      "val size: 914\n",
      "(0,)            415\n",
      "(1, 2, 3)       114\n",
      "(3,)            108\n",
      "(1, 2)           67\n",
      "(2, 3)           41\n",
      "(1, 2, 3, 4)     40\n",
      "(2,)             40\n",
      "(1,)             24\n",
      "(1, 3)           11\n",
      "(3, 4)            8\n",
      "(2, 4)            7\n",
      "(1, 4)            6\n",
      "(5,)              5\n",
      "(1, 2, 4)         5\n",
      "(6,)              3\n",
      "(4,)              2\n",
      "(1, 2, 3, 5)      2\n",
      "(1, 3, 4)         1\n",
      "(2, 3, 4)         1\n",
      "(1, 2, 5)         1\n",
      "(1, 5)            1\n",
      "Name: label, dtype: int64\n",
      "test size: 902\n"
     ]
    },
    {
     "name": "stderr",
     "output_type": "stream",
     "text": [
      "/root/anaconda3/envs/gm/lib/python3.7/site-packages/torchvision/models/_utils.py:209: UserWarning: The parameter 'pretrained' is deprecated since 0.13 and may be removed in the future, please use 'weights' instead.\n",
      "  f\"The parameter '{pretrained_param}' is deprecated since 0.13 and may be removed in the future, \"\n",
      "/root/anaconda3/envs/gm/lib/python3.7/site-packages/torchvision/models/_utils.py:223: UserWarning: Arguments other than a weight enum or `None` for 'weights' are deprecated since 0.13 and may be removed in the future. The current behavior is equivalent to passing `weights=None`.\n",
      "  warnings.warn(msg)\n"
     ]
    },
    {
     "name": "stdout",
     "output_type": "stream",
     "text": [
      "Epoch 1/100\n"
     ]
    },
    {
     "name": "stderr",
     "output_type": "stream",
     "text": [
      "Training: 100%|██████████| 133/133 [00:56<00:00,  2.36it/s]\n",
      "Evaluating: 100%|██████████| 914/914 [00:45<00:00, 20.08it/s]\n"
     ]
    },
    {
     "name": "stdout",
     "output_type": "stream",
     "text": [
      "Training Loss: 0.3828\n",
      "Validation Metrics:\n",
      "  F1 Score: 0.8470\n",
      "  Accuracy: 0.8545\n",
      "  Precision: 0.8106\n",
      "  Recall: 0.8867\n",
      "New best model saved!\n",
      "\n",
      "Epoch 2/100\n"
     ]
    },
    {
     "name": "stderr",
     "output_type": "stream",
     "text": [
      "Training: 100%|██████████| 133/133 [00:55<00:00,  2.38it/s]\n",
      "Evaluating: 100%|██████████| 914/914 [00:41<00:00, 22.14it/s]\n"
     ]
    },
    {
     "name": "stdout",
     "output_type": "stream",
     "text": [
      "Training Loss: 0.2858\n",
      "Validation Metrics:\n",
      "  F1 Score: 0.8485\n",
      "  Accuracy: 0.8578\n",
      "  Precision: 0.8217\n",
      "  Recall: 0.8771\n",
      "New best model saved!\n",
      "\n",
      "Epoch 3/100\n"
     ]
    },
    {
     "name": "stderr",
     "output_type": "stream",
     "text": [
      "Training: 100%|██████████| 133/133 [00:59<00:00,  2.22it/s]\n",
      "Evaluating: 100%|██████████| 914/914 [00:45<00:00, 20.20it/s]\n"
     ]
    },
    {
     "name": "stdout",
     "output_type": "stream",
     "text": [
      "Training Loss: 0.2221\n",
      "Validation Metrics:\n",
      "  F1 Score: 0.8658\n",
      "  Accuracy: 0.8742\n",
      "  Precision: 0.8394\n",
      "  Recall: 0.8940\n",
      "New best model saved!\n",
      "\n",
      "Epoch 4/100\n"
     ]
    },
    {
     "name": "stderr",
     "output_type": "stream",
     "text": [
      "Training: 100%|██████████| 133/133 [00:51<00:00,  2.60it/s]\n",
      "Evaluating: 100%|██████████| 914/914 [00:49<00:00, 18.62it/s]\n"
     ]
    },
    {
     "name": "stdout",
     "output_type": "stream",
     "text": [
      "Training Loss: 0.1874\n",
      "Validation Metrics:\n",
      "  F1 Score: 0.8700\n",
      "  Accuracy: 0.8796\n",
      "  Precision: 0.8538\n",
      "  Recall: 0.8867\n",
      "New best model saved!\n",
      "\n",
      "Epoch 5/100\n"
     ]
    },
    {
     "name": "stderr",
     "output_type": "stream",
     "text": [
      "Training: 100%|██████████| 133/133 [00:52<00:00,  2.54it/s]\n",
      "Evaluating: 100%|██████████| 914/914 [00:41<00:00, 22.20it/s]\n"
     ]
    },
    {
     "name": "stdout",
     "output_type": "stream",
     "text": [
      "Training Loss: 0.1615\n",
      "Validation Metrics:\n",
      "  F1 Score: 0.8234\n",
      "  Accuracy: 0.8479\n",
      "  Precision: 0.8710\n",
      "  Recall: 0.7807\n",
      "\n",
      "Epoch 6/100\n"
     ]
    },
    {
     "name": "stderr",
     "output_type": "stream",
     "text": [
      "Training: 100%|██████████| 133/133 [00:57<00:00,  2.30it/s]\n",
      "Evaluating: 100%|██████████| 914/914 [00:43<00:00, 20.89it/s]\n"
     ]
    },
    {
     "name": "stdout",
     "output_type": "stream",
     "text": [
      "Training Loss: 0.1336\n",
      "Validation Metrics:\n",
      "  F1 Score: 0.8370\n",
      "  Accuracy: 0.8534\n",
      "  Precision: 0.8452\n",
      "  Recall: 0.8289\n",
      "\n",
      "Epoch 7/100\n"
     ]
    },
    {
     "name": "stderr",
     "output_type": "stream",
     "text": [
      "Training: 100%|██████████| 133/133 [00:50<00:00,  2.62it/s]\n",
      "Evaluating: 100%|██████████| 914/914 [00:49<00:00, 18.33it/s]\n"
     ]
    },
    {
     "name": "stdout",
     "output_type": "stream",
     "text": [
      "Training Loss: 0.1201\n",
      "Validation Metrics:\n",
      "  F1 Score: 0.8744\n",
      "  Accuracy: 0.8884\n",
      "  Precision: 0.8942\n",
      "  Recall: 0.8554\n",
      "New best model saved!\n",
      "\n",
      "Epoch 8/100\n"
     ]
    },
    {
     "name": "stderr",
     "output_type": "stream",
     "text": [
      "Training: 100%|██████████| 133/133 [00:53<00:00,  2.50it/s]\n",
      "Evaluating: 100%|██████████| 914/914 [00:40<00:00, 22.57it/s]\n"
     ]
    },
    {
     "name": "stdout",
     "output_type": "stream",
     "text": [
      "Training Loss: 0.1053\n",
      "Validation Metrics:\n",
      "  F1 Score: 0.8707\n",
      "  Accuracy: 0.8807\n",
      "  Precision: 0.8575\n",
      "  Recall: 0.8843\n",
      "\n",
      "Epoch 9/100\n"
     ]
    },
    {
     "name": "stderr",
     "output_type": "stream",
     "text": [
      "Training: 100%|██████████| 133/133 [01:00<00:00,  2.20it/s]\n",
      "Evaluating: 100%|██████████| 914/914 [00:42<00:00, 21.36it/s]\n"
     ]
    },
    {
     "name": "stdout",
     "output_type": "stream",
     "text": [
      "Training Loss: 0.0868\n",
      "Validation Metrics:\n",
      "  F1 Score: 0.8833\n",
      "  Accuracy: 0.8884\n",
      "  Precision: 0.8410\n",
      "  Recall: 0.9301\n",
      "New best model saved!\n",
      "\n",
      "Epoch 10/100\n"
     ]
    },
    {
     "name": "stderr",
     "output_type": "stream",
     "text": [
      "Training: 100%|██████████| 133/133 [00:51<00:00,  2.59it/s]\n",
      "Evaluating: 100%|██████████| 914/914 [00:54<00:00, 16.66it/s]\n"
     ]
    },
    {
     "name": "stdout",
     "output_type": "stream",
     "text": [
      "Training Loss: 0.0913\n",
      "Validation Metrics:\n",
      "  F1 Score: 0.8607\n",
      "  Accuracy: 0.8764\n",
      "  Precision: 0.8813\n",
      "  Recall: 0.8410\n",
      "\n",
      "Epoch 11/100\n"
     ]
    },
    {
     "name": "stderr",
     "output_type": "stream",
     "text": [
      "Training: 100%|██████████| 133/133 [00:51<00:00,  2.59it/s]\n",
      "Evaluating: 100%|██████████| 914/914 [00:42<00:00, 21.59it/s]\n"
     ]
    },
    {
     "name": "stdout",
     "output_type": "stream",
     "text": [
      "Training Loss: 0.0821\n",
      "Validation Metrics:\n",
      "  F1 Score: 0.8477\n",
      "  Accuracy: 0.8687\n",
      "  Precision: 0.8954\n",
      "  Recall: 0.8048\n",
      "\n",
      "Epoch 12/100\n"
     ]
    },
    {
     "name": "stderr",
     "output_type": "stream",
     "text": [
      "Training: 100%|██████████| 133/133 [01:01<00:00,  2.16it/s]\n",
      "Evaluating: 100%|██████████| 914/914 [00:41<00:00, 22.22it/s]\n"
     ]
    },
    {
     "name": "stdout",
     "output_type": "stream",
     "text": [
      "Training Loss: 0.0617\n",
      "Validation Metrics:\n",
      "  F1 Score: 0.8448\n",
      "  Accuracy: 0.8665\n",
      "  Precision: 0.8949\n",
      "  Recall: 0.8000\n",
      "\n",
      "Epoch 13/100\n"
     ]
    },
    {
     "name": "stderr",
     "output_type": "stream",
     "text": [
      "Training: 100%|██████████| 133/133 [00:51<00:00,  2.57it/s]\n",
      "Evaluating: 100%|██████████| 914/914 [00:52<00:00, 17.54it/s]\n"
     ]
    },
    {
     "name": "stdout",
     "output_type": "stream",
     "text": [
      "Training Loss: 0.0694\n",
      "Validation Metrics:\n",
      "  F1 Score: 0.8772\n",
      "  Accuracy: 0.8873\n",
      "  Precision: 0.8679\n",
      "  Recall: 0.8867\n",
      "\n",
      "Epoch 14/100\n"
     ]
    },
    {
     "name": "stderr",
     "output_type": "stream",
     "text": [
      "Training: 100%|██████████| 133/133 [00:51<00:00,  2.59it/s]\n",
      "Evaluating: 100%|██████████| 914/914 [00:42<00:00, 21.64it/s]\n"
     ]
    },
    {
     "name": "stdout",
     "output_type": "stream",
     "text": [
      "Training Loss: 0.0606\n",
      "Validation Metrics:\n",
      "  F1 Score: 0.8444\n",
      "  Accuracy: 0.8665\n",
      "  Precision: 0.8970\n",
      "  Recall: 0.7976\n",
      "\n",
      "Epoch 15/100\n"
     ]
    },
    {
     "name": "stderr",
     "output_type": "stream",
     "text": [
      "Training: 100%|██████████| 133/133 [01:01<00:00,  2.15it/s]\n",
      "Evaluating: 100%|██████████| 914/914 [00:41<00:00, 21.99it/s]\n"
     ]
    },
    {
     "name": "stdout",
     "output_type": "stream",
     "text": [
      "Training Loss: 0.0463\n",
      "Validation Metrics:\n",
      "  F1 Score: 0.8791\n",
      "  Accuracy: 0.8862\n",
      "  Precision: 0.8494\n",
      "  Recall: 0.9108\n",
      "Epoch 00015: reducing learning rate of group 0 to 1.0000e-05.\n",
      "\n",
      "Epoch 16/100\n"
     ]
    },
    {
     "name": "stderr",
     "output_type": "stream",
     "text": [
      "Training: 100%|██████████| 133/133 [00:51<00:00,  2.57it/s]\n",
      "Evaluating: 100%|██████████| 914/914 [00:53<00:00, 17.02it/s]\n"
     ]
    },
    {
     "name": "stdout",
     "output_type": "stream",
     "text": [
      "Training Loss: 0.0397\n",
      "Validation Metrics:\n",
      "  F1 Score: 0.8553\n",
      "  Accuracy: 0.8742\n",
      "  Precision: 0.8947\n",
      "  Recall: 0.8193\n",
      "\n",
      "Epoch 17/100\n"
     ]
    },
    {
     "name": "stderr",
     "output_type": "stream",
     "text": [
      "Training: 100%|██████████| 133/133 [00:50<00:00,  2.62it/s]\n",
      "Evaluating: 100%|██████████| 914/914 [00:40<00:00, 22.48it/s]\n"
     ]
    },
    {
     "name": "stdout",
     "output_type": "stream",
     "text": [
      "Training Loss: 0.0317\n",
      "Validation Metrics:\n",
      "  F1 Score: 0.8571\n",
      "  Accuracy: 0.8742\n",
      "  Precision: 0.8846\n",
      "  Recall: 0.8313\n",
      "\n",
      "Epoch 18/100\n"
     ]
    },
    {
     "name": "stderr",
     "output_type": "stream",
     "text": [
      "Training: 100%|██████████| 133/133 [01:00<00:00,  2.19it/s]\n",
      "Evaluating: 100%|██████████| 914/914 [00:42<00:00, 21.75it/s]\n"
     ]
    },
    {
     "name": "stdout",
     "output_type": "stream",
     "text": [
      "Training Loss: 0.0207\n",
      "Validation Metrics:\n",
      "  F1 Score: 0.8564\n",
      "  Accuracy: 0.8753\n",
      "  Precision: 0.8971\n",
      "  Recall: 0.8193\n",
      "\n",
      "Epoch 19/100\n"
     ]
    },
    {
     "name": "stderr",
     "output_type": "stream",
     "text": [
      "Training: 100%|██████████| 133/133 [00:51<00:00,  2.57it/s]\n",
      "Evaluating: 100%|██████████| 914/914 [00:53<00:00, 17.20it/s]\n"
     ]
    },
    {
     "name": "stdout",
     "output_type": "stream",
     "text": [
      "Training Loss: 0.0211\n",
      "Validation Metrics:\n",
      "  F1 Score: 0.8659\n",
      "  Accuracy: 0.8807\n",
      "  Precision: 0.8844\n",
      "  Recall: 0.8482\n",
      "Early stopping triggered\n",
      "Training completed. Best F1 Score: 0.8833\n",
      "device :  cuda:0\n",
      "/data/nmc/processed_image/cropped_images_1424x1648\n",
      "(0,)               1935\n",
      "(3,)                542\n",
      "(1, 2, 3)           532\n",
      "(1, 2)              286\n",
      "(2,)                233\n",
      "(1, 2, 3, 4)        190\n",
      "(2, 3)              163\n",
      "(1,)                155\n",
      "(4,)                 47\n",
      "(1, 3)               31\n",
      "(1, 2, 4)            27\n",
      "(3, 4)               22\n",
      "(1, 2, 3, 4, 5)      11\n",
      "(5,)                  9\n",
      "(2, 3, 4)             9\n",
      "(1, 4)                9\n",
      "(1, 2, 3, 5)          8\n",
      "(1, 2, 5)             7\n",
      "(2, 4)                7\n",
      "(1, 2, 3, 5, 6)       5\n",
      "(1, 2, 3, 6)          4\n",
      "(1, 3, 4)             2\n",
      "(1, 3, 6)             1\n",
      "(6,)                  1\n",
      "(1, 2, 6)             1\n",
      "(1, 2, 3, 4, 6)       1\n",
      "Name: label, dtype: int64\n",
      "train size: 4238\n",
      "(0,)            415\n",
      "(3,)            113\n",
      "(1, 2, 3)       109\n",
      "(1, 2)           70\n",
      "(1, 2, 3, 4)     45\n",
      "(2,)             43\n",
      "(2, 3)           40\n",
      "(1,)             27\n",
      "(1, 3)           11\n",
      "(4,)             10\n",
      "(5,)              5\n",
      "(1, 4)            3\n",
      "(1, 2, 4)         3\n",
      "(3, 4)            3\n",
      "(2, 4)            3\n",
      "(6,)              2\n",
      "(2, 3, 4)         2\n",
      "(1, 2, 3, 5)      2\n",
      "(1, 3, 4)         1\n",
      "(1, 2, 5)         1\n",
      "(1, 5)            1\n",
      "Name: label, dtype: int64\n",
      "val size: 909\n",
      "(0,)               415\n",
      "(1, 2, 3)          118\n",
      "(3,)               113\n",
      "(1, 2)              62\n",
      "(2,)                47\n",
      "(1, 2, 3, 4)        41\n",
      "(2, 3)              36\n",
      "(1,)                29\n",
      "(3, 4)               8\n",
      "(1, 3)               7\n",
      "(2, 4)               6\n",
      "(4,)                 5\n",
      "(1, 4)               5\n",
      "(5,)                 4\n",
      "(1, 2, 4)            4\n",
      "(1, 5)               2\n",
      "(1, 2, 3, 4, 6)      1\n",
      "(6,)                 1\n",
      "(1, 2, 3, 5)         1\n",
      "(1, 2, 3, 6)         1\n",
      "(1, 2, 5)            1\n",
      "Name: label, dtype: int64\n",
      "test size: 907\n"
     ]
    },
    {
     "name": "stderr",
     "output_type": "stream",
     "text": [
      "/root/anaconda3/envs/gm/lib/python3.7/site-packages/torchvision/models/_utils.py:209: UserWarning: The parameter 'pretrained' is deprecated since 0.13 and may be removed in the future, please use 'weights' instead.\n",
      "  f\"The parameter '{pretrained_param}' is deprecated since 0.13 and may be removed in the future, \"\n",
      "/root/anaconda3/envs/gm/lib/python3.7/site-packages/torchvision/models/_utils.py:223: UserWarning: Arguments other than a weight enum or `None` for 'weights' are deprecated since 0.13 and may be removed in the future. The current behavior is equivalent to passing `weights=None`.\n",
      "  warnings.warn(msg)\n"
     ]
    },
    {
     "name": "stdout",
     "output_type": "stream",
     "text": [
      "Epoch 1/100\n"
     ]
    },
    {
     "name": "stderr",
     "output_type": "stream",
     "text": [
      "Training: 100%|██████████| 133/133 [00:52<00:00,  2.53it/s]\n",
      "Evaluating: 100%|██████████| 909/909 [00:41<00:00, 22.06it/s]\n"
     ]
    },
    {
     "name": "stdout",
     "output_type": "stream",
     "text": [
      "Training Loss: 0.3664\n",
      "Validation Metrics:\n",
      "  F1 Score: 0.8106\n",
      "  Accuracy: 0.8669\n",
      "  Precision: 0.8069\n",
      "  Recall: 0.8145\n",
      "New best model saved!\n",
      "\n",
      "Epoch 2/100\n"
     ]
    },
    {
     "name": "stderr",
     "output_type": "stream",
     "text": [
      "Training: 100%|██████████| 133/133 [01:05<00:00,  2.04it/s]\n",
      "Evaluating: 100%|██████████| 909/909 [00:40<00:00, 22.23it/s]\n"
     ]
    },
    {
     "name": "stdout",
     "output_type": "stream",
     "text": [
      "Training Loss: 0.2242\n",
      "Validation Metrics:\n",
      "  F1 Score: 0.8225\n",
      "  Accuracy: 0.8647\n",
      "  Precision: 0.7600\n",
      "  Recall: 0.8962\n",
      "New best model saved!\n",
      "\n",
      "Epoch 3/100\n"
     ]
    },
    {
     "name": "stderr",
     "output_type": "stream",
     "text": [
      "Training: 100%|██████████| 133/133 [00:54<00:00,  2.44it/s]\n",
      "Evaluating: 100%|██████████| 909/909 [00:54<00:00, 16.66it/s]\n"
     ]
    },
    {
     "name": "stdout",
     "output_type": "stream",
     "text": [
      "Training Loss: 0.1758\n",
      "Validation Metrics:\n",
      "  F1 Score: 0.8325\n",
      "  Accuracy: 0.8867\n",
      "  Precision: 0.8620\n",
      "  Recall: 0.8050\n",
      "New best model saved!\n",
      "\n",
      "Epoch 4/100\n"
     ]
    },
    {
     "name": "stderr",
     "output_type": "stream",
     "text": [
      "Training: 100%|██████████| 133/133 [00:53<00:00,  2.51it/s]\n",
      "Evaluating: 100%|██████████| 909/909 [00:49<00:00, 18.51it/s]\n"
     ]
    },
    {
     "name": "stdout",
     "output_type": "stream",
     "text": [
      "Training Loss: 0.1545\n",
      "Validation Metrics:\n",
      "  F1 Score: 0.8369\n",
      "  Accuracy: 0.8757\n",
      "  Precision: 0.7733\n",
      "  Recall: 0.9119\n",
      "New best model saved!\n",
      "\n",
      "Epoch 5/100\n"
     ]
    },
    {
     "name": "stderr",
     "output_type": "stream",
     "text": [
      "Training: 100%|██████████| 133/133 [00:53<00:00,  2.49it/s]\n",
      "Evaluating: 100%|██████████| 909/909 [00:40<00:00, 22.27it/s]\n"
     ]
    },
    {
     "name": "stdout",
     "output_type": "stream",
     "text": [
      "Training Loss: 0.1247\n",
      "Validation Metrics:\n",
      "  F1 Score: 0.8620\n",
      "  Accuracy: 0.9010\n",
      "  Precision: 0.8413\n",
      "  Recall: 0.8836\n",
      "New best model saved!\n",
      "\n",
      "Epoch 6/100\n"
     ]
    },
    {
     "name": "stderr",
     "output_type": "stream",
     "text": [
      "Training: 100%|██████████| 133/133 [01:05<00:00,  2.04it/s]\n",
      "Evaluating: 100%|██████████| 909/909 [00:40<00:00, 22.67it/s]\n"
     ]
    },
    {
     "name": "stdout",
     "output_type": "stream",
     "text": [
      "Training Loss: 0.1028\n",
      "Validation Metrics:\n",
      "  F1 Score: 0.8448\n",
      "  Accuracy: 0.8812\n",
      "  Precision: 0.7778\n",
      "  Recall: 0.9245\n",
      "\n",
      "Epoch 7/100\n"
     ]
    },
    {
     "name": "stderr",
     "output_type": "stream",
     "text": [
      "Training: 100%|██████████| 133/133 [00:54<00:00,  2.46it/s]\n",
      "Evaluating: 100%|██████████| 909/909 [00:45<00:00, 20.14it/s]\n"
     ]
    },
    {
     "name": "stdout",
     "output_type": "stream",
     "text": [
      "Training Loss: 0.0980\n",
      "Validation Metrics:\n",
      "  F1 Score: 0.8634\n",
      "  Accuracy: 0.9043\n",
      "  Precision: 0.8621\n",
      "  Recall: 0.8648\n",
      "New best model saved!\n",
      "\n",
      "Epoch 8/100\n"
     ]
    },
    {
     "name": "stderr",
     "output_type": "stream",
     "text": [
      "Training: 100%|██████████| 133/133 [00:51<00:00,  2.58it/s]\n",
      "Evaluating: 100%|██████████| 909/909 [00:55<00:00, 16.52it/s]\n"
     ]
    },
    {
     "name": "stdout",
     "output_type": "stream",
     "text": [
      "Training Loss: 0.0858\n",
      "Validation Metrics:\n",
      "  F1 Score: 0.8519\n",
      "  Accuracy: 0.8933\n",
      "  Precision: 0.8279\n",
      "  Recall: 0.8774\n",
      "\n",
      "Epoch 9/100\n"
     ]
    },
    {
     "name": "stderr",
     "output_type": "stream",
     "text": [
      "Training: 100%|██████████| 133/133 [00:54<00:00,  2.45it/s]\n",
      "Evaluating: 100%|██████████| 909/909 [00:40<00:00, 22.45it/s]\n"
     ]
    },
    {
     "name": "stdout",
     "output_type": "stream",
     "text": [
      "Training Loss: 0.0689\n",
      "Validation Metrics:\n",
      "  F1 Score: 0.8680\n",
      "  Accuracy: 0.9043\n",
      "  Precision: 0.8387\n",
      "  Recall: 0.8994\n",
      "New best model saved!\n",
      "\n",
      "Epoch 10/100\n"
     ]
    },
    {
     "name": "stderr",
     "output_type": "stream",
     "text": [
      "Training: 100%|██████████| 133/133 [01:04<00:00,  2.05it/s]\n",
      "Evaluating: 100%|██████████| 909/909 [00:41<00:00, 21.85it/s]\n"
     ]
    },
    {
     "name": "stdout",
     "output_type": "stream",
     "text": [
      "Training Loss: 0.0698\n",
      "Validation Metrics:\n",
      "  F1 Score: 0.8397\n",
      "  Accuracy: 0.8900\n",
      "  Precision: 0.8562\n",
      "  Recall: 0.8239\n",
      "\n",
      "Epoch 11/100\n"
     ]
    },
    {
     "name": "stderr",
     "output_type": "stream",
     "text": [
      "Training: 100%|██████████| 133/133 [00:51<00:00,  2.59it/s]\n",
      "Evaluating: 100%|██████████| 909/909 [00:55<00:00, 16.29it/s]\n"
     ]
    },
    {
     "name": "stdout",
     "output_type": "stream",
     "text": [
      "Training Loss: 0.0549\n",
      "Validation Metrics:\n",
      "  F1 Score: 0.8423\n",
      "  Accuracy: 0.8867\n",
      "  Precision: 0.8209\n",
      "  Recall: 0.8648\n",
      "\n",
      "Epoch 12/100\n"
     ]
    },
    {
     "name": "stderr",
     "output_type": "stream",
     "text": [
      "Training: 100%|██████████| 133/133 [00:52<00:00,  2.52it/s]\n",
      "Evaluating: 100%|██████████| 909/909 [00:43<00:00, 20.91it/s]\n"
     ]
    },
    {
     "name": "stdout",
     "output_type": "stream",
     "text": [
      "Training Loss: 0.0543\n",
      "Validation Metrics:\n",
      "  F1 Score: 0.8348\n",
      "  Accuracy: 0.8790\n",
      "  Precision: 0.7989\n",
      "  Recall: 0.8742\n",
      "\n",
      "Epoch 13/100\n"
     ]
    },
    {
     "name": "stderr",
     "output_type": "stream",
     "text": [
      "Training: 100%|██████████| 133/133 [01:01<00:00,  2.16it/s]\n",
      "Evaluating: 100%|██████████| 909/909 [00:41<00:00, 22.02it/s]\n"
     ]
    },
    {
     "name": "stdout",
     "output_type": "stream",
     "text": [
      "Training Loss: 0.0567\n",
      "Validation Metrics:\n",
      "  F1 Score: 0.8440\n",
      "  Accuracy: 0.8878\n",
      "  Precision: 0.8214\n",
      "  Recall: 0.8679\n",
      "\n",
      "Epoch 14/100\n"
     ]
    },
    {
     "name": "stderr",
     "output_type": "stream",
     "text": [
      "Training: 100%|██████████| 133/133 [01:05<00:00,  2.03it/s]\n",
      "Evaluating: 100%|██████████| 909/909 [00:41<00:00, 21.94it/s]\n"
     ]
    },
    {
     "name": "stdout",
     "output_type": "stream",
     "text": [
      "Training Loss: 0.0460\n",
      "Validation Metrics:\n",
      "  F1 Score: 0.8436\n",
      "  Accuracy: 0.8878\n",
      "  Precision: 0.8234\n",
      "  Recall: 0.8648\n",
      "\n",
      "Epoch 15/100\n"
     ]
    },
    {
     "name": "stderr",
     "output_type": "stream",
     "text": [
      "Training: 100%|██████████| 133/133 [00:52<00:00,  2.53it/s]\n",
      "Evaluating: 100%|██████████| 909/909 [00:51<00:00, 17.72it/s]\n"
     ]
    },
    {
     "name": "stdout",
     "output_type": "stream",
     "text": [
      "Training Loss: 0.0423\n",
      "Validation Metrics:\n",
      "  F1 Score: 0.8637\n",
      "  Accuracy: 0.9021\n",
      "  Precision: 0.8418\n",
      "  Recall: 0.8868\n",
      "Epoch 00015: reducing learning rate of group 0 to 1.0000e-05.\n",
      "\n",
      "Epoch 16/100\n"
     ]
    },
    {
     "name": "stderr",
     "output_type": "stream",
     "text": [
      "Training: 100%|██████████| 133/133 [00:52<00:00,  2.51it/s]\n",
      "Evaluating: 100%|██████████| 909/909 [00:40<00:00, 22.62it/s]\n"
     ]
    },
    {
     "name": "stdout",
     "output_type": "stream",
     "text": [
      "Training Loss: 0.0286\n",
      "Validation Metrics:\n",
      "  F1 Score: 0.8628\n",
      "  Accuracy: 0.9010\n",
      "  Precision: 0.8373\n",
      "  Recall: 0.8899\n",
      "\n",
      "Epoch 17/100\n"
     ]
    },
    {
     "name": "stderr",
     "output_type": "stream",
     "text": [
      "Training: 100%|██████████| 133/133 [01:00<00:00,  2.20it/s]\n",
      "Evaluating: 100%|██████████| 909/909 [00:42<00:00, 21.61it/s]\n"
     ]
    },
    {
     "name": "stdout",
     "output_type": "stream",
     "text": [
      "Training Loss: 0.0186\n",
      "Validation Metrics:\n",
      "  F1 Score: 0.8651\n",
      "  Accuracy: 0.9043\n",
      "  Precision: 0.8532\n",
      "  Recall: 0.8774\n",
      "\n",
      "Epoch 18/100\n"
     ]
    },
    {
     "name": "stderr",
     "output_type": "stream",
     "text": [
      "Training: 100%|██████████| 133/133 [00:52<00:00,  2.51it/s]\n",
      "Evaluating: 100%|██████████| 909/909 [00:53<00:00, 17.13it/s]\n"
     ]
    },
    {
     "name": "stdout",
     "output_type": "stream",
     "text": [
      "Training Loss: 0.0172\n",
      "Validation Metrics:\n",
      "  F1 Score: 0.8562\n",
      "  Accuracy: 0.8988\n",
      "  Precision: 0.8509\n",
      "  Recall: 0.8616\n",
      "\n",
      "Epoch 19/100\n"
     ]
    },
    {
     "name": "stderr",
     "output_type": "stream",
     "text": [
      "Training: 100%|██████████| 133/133 [00:52<00:00,  2.53it/s]\n",
      "Evaluating: 100%|██████████| 909/909 [00:40<00:00, 22.67it/s]\n"
     ]
    },
    {
     "name": "stdout",
     "output_type": "stream",
     "text": [
      "Training Loss: 0.0121\n",
      "Validation Metrics:\n",
      "  F1 Score: 0.8580\n",
      "  Accuracy: 0.8988\n",
      "  Precision: 0.8424\n",
      "  Recall: 0.8742\n",
      "Early stopping triggered\n",
      "Training completed. Best F1 Score: 0.8680\n",
      "device :  cuda:0\n",
      "/data/nmc/processed_image/cropped_images_1424x1648\n",
      "(0,)               1935\n",
      "(3,)                542\n",
      "(1, 2, 3)           532\n",
      "(1, 2)              286\n",
      "(2,)                233\n",
      "(1, 2, 3, 4)        190\n",
      "(2, 3)              163\n",
      "(1,)                155\n",
      "(4,)                 47\n",
      "(1, 3)               31\n",
      "(1, 2, 4)            27\n",
      "(3, 4)               22\n",
      "(1, 2, 3, 4, 5)      11\n",
      "(5,)                  9\n",
      "(2, 3, 4)             9\n",
      "(1, 4)                9\n",
      "(1, 2, 3, 5)          8\n",
      "(1, 2, 5)             7\n",
      "(2, 4)                7\n",
      "(1, 2, 3, 5, 6)       5\n",
      "(1, 2, 3, 6)          4\n",
      "(1, 3, 4)             2\n",
      "(1, 3, 6)             1\n",
      "(6,)                  1\n",
      "(1, 2, 6)             1\n",
      "(1, 2, 3, 4, 6)       1\n",
      "Name: label, dtype: int64\n",
      "train size: 4238\n",
      "(0,)               415\n",
      "(3,)               116\n",
      "(1, 2, 3)          112\n",
      "(1, 2)              66\n",
      "(2,)                46\n",
      "(1, 2, 3, 4)        45\n",
      "(2, 3)              38\n",
      "(1,)                30\n",
      "(4,)                11\n",
      "(1, 3)               9\n",
      "(2, 4)               4\n",
      "(5,)                 4\n",
      "(1, 4)               3\n",
      "(1, 2, 5)            2\n",
      "(3, 4)               2\n",
      "(6,)                 2\n",
      "(1, 2, 4)            2\n",
      "(1, 2, 3, 4, 6)      1\n",
      "(2, 3, 4)            1\n",
      "(1, 2, 3, 5)         1\n",
      "(1, 3, 4)            1\n",
      "(1, 5)               1\n",
      "Name: label, dtype: int64\n",
      "val size: 912\n",
      "(0,)            415\n",
      "(1, 2, 3)       115\n",
      "(3,)            110\n",
      "(1, 2)           66\n",
      "(2,)             44\n",
      "(1, 2, 3, 4)     41\n",
      "(2, 3)           38\n",
      "(1,)             26\n",
      "(1, 3)            9\n",
      "(3, 4)            9\n",
      "(1, 2, 4)         5\n",
      "(1, 4)            5\n",
      "(5,)              5\n",
      "(2, 4)            5\n",
      "(4,)              4\n",
      "(1, 2, 3, 5)      2\n",
      "(1, 5)            2\n",
      "(2, 3, 4)         1\n",
      "(1, 2, 3, 6)      1\n",
      "(6,)              1\n",
      "Name: label, dtype: int64\n",
      "test size: 904\n"
     ]
    },
    {
     "name": "stderr",
     "output_type": "stream",
     "text": [
      "/root/anaconda3/envs/gm/lib/python3.7/site-packages/torchvision/models/_utils.py:209: UserWarning: The parameter 'pretrained' is deprecated since 0.13 and may be removed in the future, please use 'weights' instead.\n",
      "  f\"The parameter '{pretrained_param}' is deprecated since 0.13 and may be removed in the future, \"\n",
      "/root/anaconda3/envs/gm/lib/python3.7/site-packages/torchvision/models/_utils.py:223: UserWarning: Arguments other than a weight enum or `None` for 'weights' are deprecated since 0.13 and may be removed in the future. The current behavior is equivalent to passing `weights=None`.\n",
      "  warnings.warn(msg)\n"
     ]
    },
    {
     "name": "stdout",
     "output_type": "stream",
     "text": [
      "Epoch 1/100\n"
     ]
    },
    {
     "name": "stderr",
     "output_type": "stream",
     "text": [
      "Training: 100%|██████████| 133/133 [01:05<00:00,  2.05it/s]\n",
      "Evaluating: 100%|██████████| 912/912 [00:41<00:00, 22.03it/s]\n"
     ]
    },
    {
     "name": "stdout",
     "output_type": "stream",
     "text": [
      "Training Loss: 0.3900\n",
      "Validation Metrics:\n",
      "  F1 Score: 0.7917\n",
      "  Accuracy: 0.8794\n",
      "  Precision: 0.8196\n",
      "  Recall: 0.7656\n",
      "New best model saved!\n",
      "\n",
      "Epoch 2/100\n"
     ]
    },
    {
     "name": "stderr",
     "output_type": "stream",
     "text": [
      "Training: 100%|██████████| 133/133 [00:53<00:00,  2.50it/s]\n",
      "Evaluating: 100%|██████████| 912/912 [00:54<00:00, 16.64it/s]\n"
     ]
    },
    {
     "name": "stdout",
     "output_type": "stream",
     "text": [
      "Training Loss: 0.2420\n",
      "Validation Metrics:\n",
      "  F1 Score: 0.8336\n",
      "  Accuracy: 0.8980\n",
      "  Precision: 0.8147\n",
      "  Recall: 0.8535\n",
      "New best model saved!\n",
      "\n",
      "Epoch 3/100\n"
     ]
    },
    {
     "name": "stderr",
     "output_type": "stream",
     "text": [
      "Training: 100%|██████████| 133/133 [00:52<00:00,  2.52it/s]\n",
      "Evaluating: 100%|██████████| 912/912 [00:40<00:00, 22.44it/s]\n"
     ]
    },
    {
     "name": "stdout",
     "output_type": "stream",
     "text": [
      "Training Loss: 0.1853\n",
      "Validation Metrics:\n",
      "  F1 Score: 0.8433\n",
      "  Accuracy: 0.9079\n",
      "  Precision: 0.8593\n",
      "  Recall: 0.8278\n",
      "New best model saved!\n",
      "\n",
      "Epoch 4/100\n"
     ]
    },
    {
     "name": "stderr",
     "output_type": "stream",
     "text": [
      "Training: 100%|██████████| 133/133 [01:04<00:00,  2.06it/s]\n",
      "Evaluating: 100%|██████████| 912/912 [00:41<00:00, 21.90it/s]\n"
     ]
    },
    {
     "name": "stdout",
     "output_type": "stream",
     "text": [
      "Training Loss: 0.1410\n",
      "Validation Metrics:\n",
      "  F1 Score: 0.8478\n",
      "  Accuracy: 0.9079\n",
      "  Precision: 0.8387\n",
      "  Recall: 0.8571\n",
      "New best model saved!\n",
      "\n",
      "Epoch 5/100\n"
     ]
    },
    {
     "name": "stderr",
     "output_type": "stream",
     "text": [
      "Training: 100%|██████████| 133/133 [00:51<00:00,  2.57it/s]\n",
      "Evaluating: 100%|██████████| 912/912 [00:50<00:00, 18.18it/s]\n"
     ]
    },
    {
     "name": "stdout",
     "output_type": "stream",
     "text": [
      "Training Loss: 0.1169\n",
      "Validation Metrics:\n",
      "  F1 Score: 0.8138\n",
      "  Accuracy: 0.8761\n",
      "  Precision: 0.7395\n",
      "  Recall: 0.9048\n",
      "\n",
      "Epoch 6/100\n"
     ]
    },
    {
     "name": "stderr",
     "output_type": "stream",
     "text": [
      "Training: 100%|██████████| 133/133 [00:50<00:00,  2.62it/s]\n",
      "Evaluating: 100%|██████████| 912/912 [00:42<00:00, 21.40it/s]\n"
     ]
    },
    {
     "name": "stdout",
     "output_type": "stream",
     "text": [
      "Training Loss: 0.0998\n",
      "Validation Metrics:\n",
      "  F1 Score: 0.8712\n",
      "  Accuracy: 0.9254\n",
      "  Precision: 0.9020\n",
      "  Recall: 0.8425\n",
      "New best model saved!\n",
      "\n",
      "Epoch 7/100\n"
     ]
    },
    {
     "name": "stderr",
     "output_type": "stream",
     "text": [
      "Training: 100%|██████████| 133/133 [01:06<00:00,  2.00it/s]\n",
      "Evaluating: 100%|██████████| 912/912 [00:41<00:00, 22.11it/s]\n"
     ]
    },
    {
     "name": "stdout",
     "output_type": "stream",
     "text": [
      "Training Loss: 0.0947\n",
      "Validation Metrics:\n",
      "  F1 Score: 0.8614\n",
      "  Accuracy: 0.9189\n",
      "  Precision: 0.8812\n",
      "  Recall: 0.8425\n",
      "\n",
      "Epoch 8/100\n"
     ]
    },
    {
     "name": "stderr",
     "output_type": "stream",
     "text": [
      "Training: 100%|██████████| 133/133 [00:52<00:00,  2.52it/s]\n",
      "Evaluating: 100%|██████████| 912/912 [00:52<00:00, 17.32it/s]\n"
     ]
    },
    {
     "name": "stdout",
     "output_type": "stream",
     "text": [
      "Training Loss: 0.0683\n",
      "Validation Metrics:\n",
      "  F1 Score: 0.8412\n",
      "  Accuracy: 0.9002\n",
      "  Precision: 0.8033\n",
      "  Recall: 0.8828\n",
      "\n",
      "Epoch 9/100\n"
     ]
    },
    {
     "name": "stderr",
     "output_type": "stream",
     "text": [
      "Training: 100%|██████████| 133/133 [00:52<00:00,  2.53it/s]\n",
      "Evaluating: 100%|██████████| 912/912 [00:41<00:00, 22.03it/s]\n"
     ]
    },
    {
     "name": "stdout",
     "output_type": "stream",
     "text": [
      "Training Loss: 0.0727\n",
      "Validation Metrics:\n",
      "  F1 Score: 0.8597\n",
      "  Accuracy: 0.9156\n",
      "  Precision: 0.8551\n",
      "  Recall: 0.8645\n",
      "\n",
      "Epoch 10/100\n"
     ]
    },
    {
     "name": "stderr",
     "output_type": "stream",
     "text": [
      "Training: 100%|██████████| 133/133 [01:07<00:00,  1.97it/s]\n",
      "Evaluating: 100%|██████████| 912/912 [00:40<00:00, 22.52it/s]\n"
     ]
    },
    {
     "name": "stdout",
     "output_type": "stream",
     "text": [
      "Training Loss: 0.0521\n",
      "Validation Metrics:\n",
      "  F1 Score: 0.8787\n",
      "  Accuracy: 0.9243\n",
      "  Precision: 0.8446\n",
      "  Recall: 0.9158\n",
      "New best model saved!\n",
      "\n",
      "Epoch 11/100\n"
     ]
    },
    {
     "name": "stderr",
     "output_type": "stream",
     "text": [
      "Training: 100%|██████████| 133/133 [00:52<00:00,  2.55it/s]\n",
      "Evaluating: 100%|██████████| 912/912 [00:55<00:00, 16.31it/s]\n"
     ]
    },
    {
     "name": "stdout",
     "output_type": "stream",
     "text": [
      "Training Loss: 0.0540\n",
      "Validation Metrics:\n",
      "  F1 Score: 0.8571\n",
      "  Accuracy: 0.9167\n",
      "  Precision: 0.8803\n",
      "  Recall: 0.8352\n",
      "\n",
      "Epoch 12/100\n"
     ]
    },
    {
     "name": "stderr",
     "output_type": "stream",
     "text": [
      "Training: 100%|██████████| 133/133 [00:52<00:00,  2.53it/s]\n",
      "Evaluating: 100%|██████████| 912/912 [00:41<00:00, 21.96it/s]\n"
     ]
    },
    {
     "name": "stdout",
     "output_type": "stream",
     "text": [
      "Training Loss: 0.0589\n",
      "Validation Metrics:\n",
      "  F1 Score: 0.8472\n",
      "  Accuracy: 0.9035\n",
      "  Precision: 0.8053\n",
      "  Recall: 0.8938\n",
      "\n",
      "Epoch 13/100\n"
     ]
    },
    {
     "name": "stderr",
     "output_type": "stream",
     "text": [
      "Training: 100%|██████████| 133/133 [01:10<00:00,  1.88it/s]\n",
      "Evaluating: 100%|██████████| 912/912 [00:39<00:00, 23.18it/s]\n"
     ]
    },
    {
     "name": "stdout",
     "output_type": "stream",
     "text": [
      "Training Loss: 0.0320\n",
      "Validation Metrics:\n",
      "  F1 Score: 0.8222\n",
      "  Accuracy: 0.8980\n",
      "  Precision: 0.8600\n",
      "  Recall: 0.7875\n",
      "\n",
      "Epoch 14/100\n"
     ]
    },
    {
     "name": "stderr",
     "output_type": "stream",
     "text": [
      "Training: 100%|██████████| 133/133 [00:53<00:00,  2.50it/s]\n",
      "Evaluating: 100%|██████████| 912/912 [00:50<00:00, 18.12it/s]\n"
     ]
    },
    {
     "name": "stdout",
     "output_type": "stream",
     "text": [
      "Training Loss: 0.0517\n",
      "Validation Metrics:\n",
      "  F1 Score: 0.8556\n",
      "  Accuracy: 0.9134\n",
      "  Precision: 0.8540\n",
      "  Recall: 0.8571\n",
      "\n",
      "Epoch 15/100\n"
     ]
    },
    {
     "name": "stderr",
     "output_type": "stream",
     "text": [
      "Training: 100%|██████████| 133/133 [00:53<00:00,  2.50it/s]\n",
      "Evaluating: 100%|██████████| 912/912 [00:41<00:00, 22.19it/s]\n"
     ]
    },
    {
     "name": "stdout",
     "output_type": "stream",
     "text": [
      "Training Loss: 0.0374\n",
      "Validation Metrics:\n",
      "  F1 Score: 0.8665\n",
      "  Accuracy: 0.9200\n",
      "  Precision: 0.8650\n",
      "  Recall: 0.8681\n",
      "\n",
      "Epoch 16/100\n"
     ]
    },
    {
     "name": "stderr",
     "output_type": "stream",
     "text": [
      "Training: 100%|██████████| 133/133 [01:09<00:00,  1.92it/s]\n",
      "Evaluating: 100%|██████████| 912/912 [00:42<00:00, 21.63it/s]\n"
     ]
    },
    {
     "name": "stdout",
     "output_type": "stream",
     "text": [
      "Training Loss: 0.0363\n",
      "Validation Metrics:\n",
      "  F1 Score: 0.8748\n",
      "  Accuracy: 0.9243\n",
      "  Precision: 0.8669\n",
      "  Recall: 0.8828\n",
      "Epoch 00016: reducing learning rate of group 0 to 1.0000e-05.\n",
      "\n",
      "Epoch 17/100\n"
     ]
    },
    {
     "name": "stderr",
     "output_type": "stream",
     "text": [
      "Training: 100%|██████████| 133/133 [00:53<00:00,  2.49it/s]\n",
      "Evaluating: 100%|██████████| 912/912 [00:51<00:00, 17.65it/s]\n"
     ]
    },
    {
     "name": "stdout",
     "output_type": "stream",
     "text": [
      "Training Loss: 0.0291\n",
      "Validation Metrics:\n",
      "  F1 Score: 0.8777\n",
      "  Accuracy: 0.9254\n",
      "  Precision: 0.8622\n",
      "  Recall: 0.8938\n",
      "\n",
      "Epoch 18/100\n"
     ]
    },
    {
     "name": "stderr",
     "output_type": "stream",
     "text": [
      "Training: 100%|██████████| 133/133 [00:51<00:00,  2.58it/s]\n",
      "Evaluating: 100%|██████████| 912/912 [00:41<00:00, 21.97it/s]\n"
     ]
    },
    {
     "name": "stdout",
     "output_type": "stream",
     "text": [
      "Training Loss: 0.0162\n",
      "Validation Metrics:\n",
      "  F1 Score: 0.8788\n",
      "  Accuracy: 0.9265\n",
      "  Precision: 0.8679\n",
      "  Recall: 0.8901\n",
      "New best model saved!\n",
      "\n",
      "Epoch 19/100\n"
     ]
    },
    {
     "name": "stderr",
     "output_type": "stream",
     "text": [
      "Training: 100%|██████████| 133/133 [01:09<00:00,  1.91it/s]\n",
      "Evaluating: 100%|██████████| 912/912 [00:41<00:00, 22.09it/s]\n"
     ]
    },
    {
     "name": "stdout",
     "output_type": "stream",
     "text": [
      "Training Loss: 0.0174\n",
      "Validation Metrics:\n",
      "  F1 Score: 0.8800\n",
      "  Accuracy: 0.9276\n",
      "  Precision: 0.8736\n",
      "  Recall: 0.8864\n",
      "New best model saved!\n",
      "\n",
      "Epoch 20/100\n"
     ]
    },
    {
     "name": "stderr",
     "output_type": "stream",
     "text": [
      "Training: 100%|██████████| 133/133 [00:53<00:00,  2.51it/s]\n",
      "Evaluating: 100%|██████████| 912/912 [00:55<00:00, 16.47it/s]\n"
     ]
    },
    {
     "name": "stdout",
     "output_type": "stream",
     "text": [
      "Training Loss: 0.0097\n",
      "Validation Metrics:\n",
      "  F1 Score: 0.8775\n",
      "  Accuracy: 0.9265\n",
      "  Precision: 0.8759\n",
      "  Recall: 0.8791\n",
      "\n",
      "Epoch 21/100\n"
     ]
    },
    {
     "name": "stderr",
     "output_type": "stream",
     "text": [
      "Training: 100%|██████████| 133/133 [00:51<00:00,  2.56it/s]\n",
      "Evaluating: 100%|██████████| 912/912 [00:46<00:00, 19.44it/s]\n"
     ]
    },
    {
     "name": "stdout",
     "output_type": "stream",
     "text": [
      "Training Loss: 0.0129\n",
      "Validation Metrics:\n",
      "  F1 Score: 0.8764\n",
      "  Accuracy: 0.9254\n",
      "  Precision: 0.8700\n",
      "  Recall: 0.8828\n",
      "\n",
      "Epoch 22/100\n"
     ]
    },
    {
     "name": "stderr",
     "output_type": "stream",
     "text": [
      "Training: 100%|██████████| 133/133 [01:01<00:00,  2.17it/s]\n",
      "Evaluating: 100%|██████████| 912/912 [00:41<00:00, 21.89it/s]\n"
     ]
    },
    {
     "name": "stdout",
     "output_type": "stream",
     "text": [
      "Training Loss: 0.0075\n",
      "Validation Metrics:\n",
      "  F1 Score: 0.8697\n",
      "  Accuracy: 0.9221\n",
      "  Precision: 0.8713\n",
      "  Recall: 0.8681\n",
      "\n",
      "Epoch 23/100\n"
     ]
    },
    {
     "name": "stderr",
     "output_type": "stream",
     "text": [
      "Training: 100%|██████████| 133/133 [01:02<00:00,  2.12it/s]\n",
      "Evaluating: 100%|██████████| 912/912 [00:45<00:00, 20.13it/s]\n"
     ]
    },
    {
     "name": "stdout",
     "output_type": "stream",
     "text": [
      "Training Loss: 0.0101\n",
      "Validation Metrics:\n",
      "  F1 Score: 0.8702\n",
      "  Accuracy: 0.9221\n",
      "  Precision: 0.8686\n",
      "  Recall: 0.8718\n",
      "\n",
      "Epoch 24/100\n"
     ]
    },
    {
     "name": "stderr",
     "output_type": "stream",
     "text": [
      "Training: 100%|██████████| 133/133 [00:50<00:00,  2.61it/s]\n",
      "Evaluating: 100%|██████████| 912/912 [00:53<00:00, 16.91it/s]\n"
     ]
    },
    {
     "name": "stdout",
     "output_type": "stream",
     "text": [
      "Training Loss: 0.0063\n",
      "Validation Metrics:\n",
      "  F1 Score: 0.8745\n",
      "  Accuracy: 0.9254\n",
      "  Precision: 0.8810\n",
      "  Recall: 0.8681\n",
      "\n",
      "Epoch 25/100\n"
     ]
    },
    {
     "name": "stderr",
     "output_type": "stream",
     "text": [
      "Training: 100%|██████████| 133/133 [00:52<00:00,  2.55it/s]\n",
      "Evaluating: 100%|██████████| 912/912 [00:41<00:00, 21.76it/s]\n"
     ]
    },
    {
     "name": "stdout",
     "output_type": "stream",
     "text": [
      "Training Loss: 0.0052\n",
      "Validation Metrics:\n",
      "  F1 Score: 0.8757\n",
      "  Accuracy: 0.9265\n",
      "  Precision: 0.8872\n",
      "  Recall: 0.8645\n",
      "Epoch 00025: reducing learning rate of group 0 to 1.0000e-06.\n",
      "\n",
      "Epoch 26/100\n"
     ]
    },
    {
     "name": "stderr",
     "output_type": "stream",
     "text": [
      "Training: 100%|██████████| 133/133 [01:07<00:00,  1.96it/s]\n",
      "Evaluating: 100%|██████████| 912/912 [00:40<00:00, 22.42it/s]\n"
     ]
    },
    {
     "name": "stdout",
     "output_type": "stream",
     "text": [
      "Training Loss: 0.0083\n",
      "Validation Metrics:\n",
      "  F1 Score: 0.8697\n",
      "  Accuracy: 0.9221\n",
      "  Precision: 0.8713\n",
      "  Recall: 0.8681\n",
      "\n",
      "Epoch 27/100\n"
     ]
    },
    {
     "name": "stderr",
     "output_type": "stream",
     "text": [
      "Training: 100%|██████████| 133/133 [00:51<00:00,  2.57it/s]\n",
      "Evaluating: 100%|██████████| 912/912 [00:51<00:00, 17.67it/s]\n"
     ]
    },
    {
     "name": "stdout",
     "output_type": "stream",
     "text": [
      "Training Loss: 0.0048\n",
      "Validation Metrics:\n",
      "  F1 Score: 0.8713\n",
      "  Accuracy: 0.9232\n",
      "  Precision: 0.8745\n",
      "  Recall: 0.8681\n",
      "\n",
      "Epoch 28/100\n"
     ]
    },
    {
     "name": "stderr",
     "output_type": "stream",
     "text": [
      "Training: 100%|██████████| 133/133 [00:52<00:00,  2.54it/s]\n",
      "Evaluating: 100%|██████████| 912/912 [00:41<00:00, 22.07it/s]\n"
     ]
    },
    {
     "name": "stdout",
     "output_type": "stream",
     "text": [
      "Training Loss: 0.0051\n",
      "Validation Metrics:\n",
      "  F1 Score: 0.8825\n",
      "  Accuracy: 0.9287\n",
      "  Precision: 0.8714\n",
      "  Recall: 0.8938\n",
      "New best model saved!\n",
      "\n",
      "Epoch 29/100\n"
     ]
    },
    {
     "name": "stderr",
     "output_type": "stream",
     "text": [
      "Training: 100%|██████████| 133/133 [01:07<00:00,  1.96it/s]\n",
      "Evaluating: 100%|██████████| 912/912 [00:39<00:00, 22.83it/s]\n"
     ]
    },
    {
     "name": "stdout",
     "output_type": "stream",
     "text": [
      "Training Loss: 0.0047\n",
      "Validation Metrics:\n",
      "  F1 Score: 0.8713\n",
      "  Accuracy: 0.9232\n",
      "  Precision: 0.8745\n",
      "  Recall: 0.8681\n",
      "\n",
      "Epoch 30/100\n"
     ]
    },
    {
     "name": "stderr",
     "output_type": "stream",
     "text": [
      "Training: 100%|██████████| 133/133 [00:53<00:00,  2.49it/s]\n",
      "Evaluating: 100%|██████████| 912/912 [00:55<00:00, 16.55it/s]\n"
     ]
    },
    {
     "name": "stdout",
     "output_type": "stream",
     "text": [
      "Training Loss: 0.0035\n",
      "Validation Metrics:\n",
      "  F1 Score: 0.8780\n",
      "  Accuracy: 0.9265\n",
      "  Precision: 0.8732\n",
      "  Recall: 0.8828\n",
      "\n",
      "Epoch 31/100\n"
     ]
    },
    {
     "name": "stderr",
     "output_type": "stream",
     "text": [
      "Training: 100%|██████████| 133/133 [00:53<00:00,  2.49it/s]\n",
      "Evaluating: 100%|██████████| 912/912 [00:40<00:00, 22.36it/s]\n"
     ]
    },
    {
     "name": "stdout",
     "output_type": "stream",
     "text": [
      "Training Loss: 0.0044\n",
      "Validation Metrics:\n",
      "  F1 Score: 0.8743\n",
      "  Accuracy: 0.9243\n",
      "  Precision: 0.8696\n",
      "  Recall: 0.8791\n",
      "\n",
      "Epoch 32/100\n"
     ]
    },
    {
     "name": "stderr",
     "output_type": "stream",
     "text": [
      "Training: 100%|██████████| 133/133 [01:05<00:00,  2.02it/s]\n",
      "Evaluating: 100%|██████████| 912/912 [00:40<00:00, 22.59it/s]\n"
     ]
    },
    {
     "name": "stdout",
     "output_type": "stream",
     "text": [
      "Training Loss: 0.0038\n",
      "Validation Metrics:\n",
      "  F1 Score: 0.8729\n",
      "  Accuracy: 0.9243\n",
      "  Precision: 0.8778\n",
      "  Recall: 0.8681\n",
      "\n",
      "Epoch 33/100\n"
     ]
    },
    {
     "name": "stderr",
     "output_type": "stream",
     "text": [
      "Training: 100%|██████████| 133/133 [00:50<00:00,  2.62it/s]\n",
      "Evaluating: 100%|██████████| 912/912 [00:50<00:00, 18.11it/s]\n"
     ]
    },
    {
     "name": "stdout",
     "output_type": "stream",
     "text": [
      "Training Loss: 0.0032\n",
      "Validation Metrics:\n",
      "  F1 Score: 0.8796\n",
      "  Accuracy: 0.9276\n",
      "  Precision: 0.8764\n",
      "  Recall: 0.8828\n",
      "\n",
      "Epoch 34/100\n"
     ]
    },
    {
     "name": "stderr",
     "output_type": "stream",
     "text": [
      "Training: 100%|██████████| 133/133 [00:52<00:00,  2.53it/s]\n",
      "Evaluating: 100%|██████████| 912/912 [00:41<00:00, 22.15it/s]\n"
     ]
    },
    {
     "name": "stdout",
     "output_type": "stream",
     "text": [
      "Training Loss: 0.0032\n",
      "Validation Metrics:\n",
      "  F1 Score: 0.8775\n",
      "  Accuracy: 0.9265\n",
      "  Precision: 0.8759\n",
      "  Recall: 0.8791\n",
      "Epoch 00034: reducing learning rate of group 0 to 1.0000e-07.\n",
      "\n",
      "Epoch 35/100\n"
     ]
    },
    {
     "name": "stderr",
     "output_type": "stream",
     "text": [
      "Training: 100%|██████████| 133/133 [01:08<00:00,  1.94it/s]\n",
      "Evaluating: 100%|██████████| 912/912 [00:40<00:00, 22.72it/s]\n"
     ]
    },
    {
     "name": "stdout",
     "output_type": "stream",
     "text": [
      "Training Loss: 0.0052\n",
      "Validation Metrics:\n",
      "  F1 Score: 0.8796\n",
      "  Accuracy: 0.9276\n",
      "  Precision: 0.8764\n",
      "  Recall: 0.8828\n",
      "\n",
      "Epoch 36/100\n"
     ]
    },
    {
     "name": "stderr",
     "output_type": "stream",
     "text": [
      "Training: 100%|██████████| 133/133 [00:51<00:00,  2.59it/s]\n",
      "Evaluating: 100%|██████████| 912/912 [00:56<00:00, 16.15it/s]\n"
     ]
    },
    {
     "name": "stdout",
     "output_type": "stream",
     "text": [
      "Training Loss: 0.0047\n",
      "Validation Metrics:\n",
      "  F1 Score: 0.8743\n",
      "  Accuracy: 0.9243\n",
      "  Precision: 0.8696\n",
      "  Recall: 0.8791\n",
      "\n",
      "Epoch 37/100\n"
     ]
    },
    {
     "name": "stderr",
     "output_type": "stream",
     "text": [
      "Training: 100%|██████████| 133/133 [00:50<00:00,  2.62it/s]\n",
      "Evaluating: 100%|██████████| 912/912 [00:40<00:00, 22.64it/s]\n"
     ]
    },
    {
     "name": "stdout",
     "output_type": "stream",
     "text": [
      "Training Loss: 0.0036\n",
      "Validation Metrics:\n",
      "  F1 Score: 0.8750\n",
      "  Accuracy: 0.9254\n",
      "  Precision: 0.8782\n",
      "  Recall: 0.8718\n",
      "\n",
      "Epoch 38/100\n"
     ]
    },
    {
     "name": "stderr",
     "output_type": "stream",
     "text": [
      "Training: 100%|██████████| 133/133 [01:13<00:00,  1.82it/s]\n",
      "Evaluating: 100%|██████████| 912/912 [00:39<00:00, 22.85it/s]\n"
     ]
    },
    {
     "name": "stdout",
     "output_type": "stream",
     "text": [
      "Training Loss: 0.0052\n",
      "Validation Metrics:\n",
      "  F1 Score: 0.8775\n",
      "  Accuracy: 0.9265\n",
      "  Precision: 0.8759\n",
      "  Recall: 0.8791\n",
      "Early stopping triggered\n",
      "Training completed. Best F1 Score: 0.8825\n",
      "device :  cuda:0\n",
      "/data/nmc/processed_image/cropped_images_1424x1648\n",
      "(0,)               1935\n",
      "(3,)                542\n",
      "(1, 2, 3)           532\n",
      "(1, 2)              286\n",
      "(2,)                233\n",
      "(1, 2, 3, 4)        190\n",
      "(2, 3)              163\n",
      "(1,)                155\n",
      "(4,)                 47\n",
      "(1, 3)               31\n",
      "(1, 2, 4)            27\n",
      "(3, 4)               22\n",
      "(1, 2, 3, 4, 5)      11\n",
      "(5,)                  9\n",
      "(2, 3, 4)             9\n",
      "(1, 4)                9\n",
      "(1, 2, 3, 5)          8\n",
      "(1, 2, 5)             7\n",
      "(2, 4)                7\n",
      "(1, 2, 3, 5, 6)       5\n",
      "(1, 2, 3, 6)          4\n",
      "(1, 3, 4)             2\n",
      "(1, 3, 6)             1\n",
      "(6,)                  1\n",
      "(1, 2, 6)             1\n",
      "(1, 2, 3, 4, 6)       1\n",
      "Name: label, dtype: int64\n",
      "train size: 4238\n",
      "(0,)            415\n",
      "(3,)            111\n",
      "(1, 2, 3)       110\n",
      "(1, 2)           68\n",
      "(1, 2, 3, 4)     44\n",
      "(2,)             43\n",
      "(2, 3)           41\n",
      "(1,)             28\n",
      "(1, 3)           11\n",
      "(4,)              9\n",
      "(5,)              5\n",
      "(3, 4)            5\n",
      "(2, 4)            4\n",
      "(1, 2, 4)         4\n",
      "(6,)              2\n",
      "(1, 4)            2\n",
      "(1, 5)            2\n",
      "(1, 3, 4)         1\n",
      "(2, 3, 4)         1\n",
      "(1, 2, 3, 6)      1\n",
      "(1, 2, 5)         1\n",
      "(1, 2, 3, 5)      1\n",
      "Name: label, dtype: int64\n",
      "val size: 909\n",
      "(0,)               415\n",
      "(1, 2, 3)          117\n",
      "(3,)               115\n",
      "(1, 2)              64\n",
      "(2,)                47\n",
      "(1, 2, 3, 4)        42\n",
      "(2, 3)              35\n",
      "(1,)                28\n",
      "(1, 3)               7\n",
      "(3, 4)               6\n",
      "(4,)                 6\n",
      "(1, 4)               6\n",
      "(2, 4)               5\n",
      "(5,)                 4\n",
      "(1, 2, 4)            3\n",
      "(1, 2, 3, 5)         2\n",
      "(1, 2, 3, 4, 6)      1\n",
      "(2, 3, 4)            1\n",
      "(1, 2, 5)            1\n",
      "(6,)                 1\n",
      "(1, 5)               1\n",
      "Name: label, dtype: int64\n",
      "test size: 907\n"
     ]
    },
    {
     "name": "stderr",
     "output_type": "stream",
     "text": [
      "/root/anaconda3/envs/gm/lib/python3.7/site-packages/torchvision/models/_utils.py:209: UserWarning: The parameter 'pretrained' is deprecated since 0.13 and may be removed in the future, please use 'weights' instead.\n",
      "  f\"The parameter '{pretrained_param}' is deprecated since 0.13 and may be removed in the future, \"\n",
      "/root/anaconda3/envs/gm/lib/python3.7/site-packages/torchvision/models/_utils.py:223: UserWarning: Arguments other than a weight enum or `None` for 'weights' are deprecated since 0.13 and may be removed in the future. The current behavior is equivalent to passing `weights=None`.\n",
      "  warnings.warn(msg)\n"
     ]
    },
    {
     "name": "stdout",
     "output_type": "stream",
     "text": [
      "Epoch 1/100\n"
     ]
    },
    {
     "name": "stderr",
     "output_type": "stream",
     "text": [
      "Training: 100%|██████████| 133/133 [01:02<00:00,  2.13it/s]\n",
      "Evaluating: 100%|██████████| 909/909 [00:41<00:00, 21.84it/s]\n"
     ]
    },
    {
     "name": "stdout",
     "output_type": "stream",
     "text": [
      "Training Loss: 0.3803\n",
      "Validation Metrics:\n",
      "  Macro F1 Score: 0.7997\n",
      "  Macro Accuracy: 0.7921\n",
      "  Macro Precision: 0.7994\n",
      "  Macro Recall: 0.8007\n",
      "New best model saved!\n",
      "\n",
      "Epoch 2/100\n"
     ]
    },
    {
     "name": "stderr",
     "output_type": "stream",
     "text": [
      "Training: 100%|██████████| 133/133 [00:51<00:00,  2.59it/s]\n",
      "Evaluating: 100%|██████████| 909/909 [00:50<00:00, 18.15it/s]\n"
     ]
    },
    {
     "name": "stdout",
     "output_type": "stream",
     "text": [
      "Training Loss: 0.2604\n",
      "Validation Metrics:\n",
      "  Macro F1 Score: 0.8198\n",
      "  Macro Accuracy: 0.7921\n",
      "  Macro Precision: 0.7677\n",
      "  Macro Recall: 0.8798\n",
      "New best model saved!\n",
      "\n",
      "Epoch 3/100\n"
     ]
    },
    {
     "name": "stderr",
     "output_type": "stream",
     "text": [
      "Training: 100%|██████████| 133/133 [00:54<00:00,  2.44it/s]\n",
      "Evaluating: 100%|██████████| 909/909 [00:40<00:00, 22.21it/s]\n"
     ]
    },
    {
     "name": "stdout",
     "output_type": "stream",
     "text": [
      "Training Loss: 0.2047\n",
      "Validation Metrics:\n",
      "  Macro F1 Score: 0.8353\n",
      "  Macro Accuracy: 0.8097\n",
      "  Macro Precision: 0.8071\n",
      "  Macro Recall: 0.8657\n",
      "New best model saved!\n",
      "\n",
      "Epoch 4/100\n"
     ]
    },
    {
     "name": "stderr",
     "output_type": "stream",
     "text": [
      "Training: 100%|██████████| 133/133 [01:02<00:00,  2.13it/s]\n",
      "Evaluating: 100%|██████████| 909/909 [00:40<00:00, 22.55it/s]\n"
     ]
    },
    {
     "name": "stdout",
     "output_type": "stream",
     "text": [
      "Training Loss: 0.1619\n",
      "Validation Metrics:\n",
      "  Macro F1 Score: 0.8424\n",
      "  Macro Accuracy: 0.8141\n",
      "  Macro Precision: 0.8087\n",
      "  Macro Recall: 0.8793\n",
      "New best model saved!\n",
      "\n",
      "Epoch 5/100\n"
     ]
    },
    {
     "name": "stderr",
     "output_type": "stream",
     "text": [
      "Training: 100%|██████████| 133/133 [00:51<00:00,  2.60it/s]\n",
      "Evaluating: 100%|██████████| 909/909 [00:54<00:00, 16.60it/s]\n"
     ]
    },
    {
     "name": "stdout",
     "output_type": "stream",
     "text": [
      "Training Loss: 0.1403\n",
      "Validation Metrics:\n",
      "  Macro F1 Score: 0.8478\n",
      "  Macro Accuracy: 0.8218\n",
      "  Macro Precision: 0.8045\n",
      "  Macro Recall: 0.8979\n",
      "New best model saved!\n",
      "\n",
      "Epoch 6/100\n"
     ]
    },
    {
     "name": "stderr",
     "output_type": "stream",
     "text": [
      "Training: 100%|██████████| 133/133 [00:52<00:00,  2.55it/s]\n",
      "Evaluating: 100%|██████████| 909/909 [00:40<00:00, 22.33it/s]\n"
     ]
    },
    {
     "name": "stdout",
     "output_type": "stream",
     "text": [
      "Training Loss: 0.1260\n",
      "Validation Metrics:\n",
      "  Macro F1 Score: 0.8334\n",
      "  Macro Accuracy: 0.8075\n",
      "  Macro Precision: 0.8033\n",
      "  Macro Recall: 0.8659\n",
      "\n",
      "Epoch 7/100\n"
     ]
    },
    {
     "name": "stderr",
     "output_type": "stream",
     "text": [
      "Training: 100%|██████████| 133/133 [01:06<00:00,  2.00it/s]\n",
      "Evaluating: 100%|██████████| 909/909 [00:42<00:00, 21.60it/s]\n"
     ]
    },
    {
     "name": "stdout",
     "output_type": "stream",
     "text": [
      "Training Loss: 0.1002\n",
      "Validation Metrics:\n",
      "  Macro F1 Score: 0.8540\n",
      "  Macro Accuracy: 0.8339\n",
      "  Macro Precision: 0.8467\n",
      "  Macro Recall: 0.8618\n",
      "New best model saved!\n",
      "\n",
      "Epoch 8/100\n"
     ]
    },
    {
     "name": "stderr",
     "output_type": "stream",
     "text": [
      "Training: 100%|██████████| 133/133 [00:49<00:00,  2.66it/s]\n",
      "Evaluating: 100%|██████████| 909/909 [00:56<00:00, 16.06it/s]\n"
     ]
    },
    {
     "name": "stdout",
     "output_type": "stream",
     "text": [
      "Training Loss: 0.0973\n",
      "Validation Metrics:\n",
      "  Macro F1 Score: 0.8435\n",
      "  Macro Accuracy: 0.8218\n",
      "  Macro Precision: 0.8283\n",
      "  Macro Recall: 0.8594\n",
      "\n",
      "Epoch 9/100\n"
     ]
    },
    {
     "name": "stderr",
     "output_type": "stream",
     "text": [
      "Training: 100%|██████████| 133/133 [00:51<00:00,  2.57it/s]\n",
      "Evaluating: 100%|██████████| 909/909 [00:40<00:00, 22.32it/s]\n"
     ]
    },
    {
     "name": "stdout",
     "output_type": "stream",
     "text": [
      "Training Loss: 0.0775\n",
      "Validation Metrics:\n",
      "  Macro F1 Score: 0.8366\n",
      "  Macro Accuracy: 0.8119\n",
      "  Macro Precision: 0.8265\n",
      "  Macro Recall: 0.8484\n",
      "\n",
      "Epoch 10/100\n"
     ]
    },
    {
     "name": "stderr",
     "output_type": "stream",
     "text": [
      "Training: 100%|██████████| 133/133 [01:05<00:00,  2.03it/s]\n",
      "Evaluating: 100%|██████████| 909/909 [00:40<00:00, 22.60it/s]\n"
     ]
    },
    {
     "name": "stdout",
     "output_type": "stream",
     "text": [
      "Training Loss: 0.0682\n",
      "Validation Metrics:\n",
      "  Macro F1 Score: 0.8374\n",
      "  Macro Accuracy: 0.8097\n",
      "  Macro Precision: 0.8110\n",
      "  Macro Recall: 0.8675\n",
      "\n",
      "Epoch 11/100\n"
     ]
    },
    {
     "name": "stderr",
     "output_type": "stream",
     "text": [
      "Training: 100%|██████████| 133/133 [00:51<00:00,  2.59it/s]\n",
      "Evaluating: 100%|██████████| 909/909 [00:58<00:00, 15.52it/s]\n"
     ]
    },
    {
     "name": "stdout",
     "output_type": "stream",
     "text": [
      "Training Loss: 0.0640\n",
      "Validation Metrics:\n",
      "  Macro F1 Score: 0.8348\n",
      "  Macro Accuracy: 0.8108\n",
      "  Macro Precision: 0.8300\n",
      "  Macro Recall: 0.8398\n",
      "\n",
      "Epoch 12/100\n"
     ]
    },
    {
     "name": "stderr",
     "output_type": "stream",
     "text": [
      "Training: 100%|██████████| 133/133 [00:51<00:00,  2.58it/s]\n",
      "Evaluating: 100%|██████████| 909/909 [00:40<00:00, 22.41it/s]\n"
     ]
    },
    {
     "name": "stdout",
     "output_type": "stream",
     "text": [
      "Training Loss: 0.0653\n",
      "Validation Metrics:\n",
      "  Macro F1 Score: 0.8473\n",
      "  Macro Accuracy: 0.8207\n",
      "  Macro Precision: 0.8292\n",
      "  Macro Recall: 0.8673\n",
      "\n",
      "Epoch 13/100\n"
     ]
    },
    {
     "name": "stderr",
     "output_type": "stream",
     "text": [
      "Training: 100%|██████████| 133/133 [01:03<00:00,  2.09it/s]\n",
      "Evaluating: 100%|██████████| 909/909 [00:40<00:00, 22.54it/s]\n"
     ]
    },
    {
     "name": "stdout",
     "output_type": "stream",
     "text": [
      "Training Loss: 0.0647\n",
      "Validation Metrics:\n",
      "  Macro F1 Score: 0.8536\n",
      "  Macro Accuracy: 0.8284\n",
      "  Macro Precision: 0.8340\n",
      "  Macro Recall: 0.8743\n",
      "Epoch 00013: reducing learning rate of group 0 to 1.0000e-05.\n",
      "\n",
      "Epoch 14/100\n"
     ]
    },
    {
     "name": "stderr",
     "output_type": "stream",
     "text": [
      "Training: 100%|██████████| 133/133 [00:51<00:00,  2.57it/s]\n",
      "Evaluating: 100%|██████████| 909/909 [00:53<00:00, 16.94it/s]\n"
     ]
    },
    {
     "name": "stdout",
     "output_type": "stream",
     "text": [
      "Training Loss: 0.0379\n",
      "Validation Metrics:\n",
      "  Macro F1 Score: 0.8535\n",
      "  Macro Accuracy: 0.8273\n",
      "  Macro Precision: 0.8375\n",
      "  Macro Recall: 0.8707\n",
      "\n",
      "Epoch 15/100\n"
     ]
    },
    {
     "name": "stderr",
     "output_type": "stream",
     "text": [
      "Training: 100%|██████████| 133/133 [00:51<00:00,  2.60it/s]\n",
      "Evaluating: 100%|██████████| 909/909 [00:41<00:00, 22.16it/s]\n"
     ]
    },
    {
     "name": "stdout",
     "output_type": "stream",
     "text": [
      "Training Loss: 0.0370\n",
      "Validation Metrics:\n",
      "  Macro F1 Score: 0.8542\n",
      "  Macro Accuracy: 0.8295\n",
      "  Macro Precision: 0.8424\n",
      "  Macro Recall: 0.8670\n",
      "New best model saved!\n",
      "\n",
      "Epoch 16/100\n"
     ]
    },
    {
     "name": "stderr",
     "output_type": "stream",
     "text": [
      "Training: 100%|██████████| 133/133 [01:04<00:00,  2.05it/s]\n",
      "Evaluating: 100%|██████████| 909/909 [00:40<00:00, 22.21it/s]\n"
     ]
    },
    {
     "name": "stdout",
     "output_type": "stream",
     "text": [
      "Training Loss: 0.0269\n",
      "Validation Metrics:\n",
      "  Macro F1 Score: 0.8617\n",
      "  Macro Accuracy: 0.8383\n",
      "  Macro Precision: 0.8535\n",
      "  Macro Recall: 0.8717\n",
      "New best model saved!\n",
      "\n",
      "Epoch 17/100\n"
     ]
    },
    {
     "name": "stderr",
     "output_type": "stream",
     "text": [
      "Training: 100%|██████████| 133/133 [00:51<00:00,  2.56it/s]\n",
      "Evaluating: 100%|██████████| 909/909 [00:57<00:00, 15.74it/s]\n"
     ]
    },
    {
     "name": "stdout",
     "output_type": "stream",
     "text": [
      "Training Loss: 0.0236\n",
      "Validation Metrics:\n",
      "  Macro F1 Score: 0.8546\n",
      "  Macro Accuracy: 0.8306\n",
      "  Macro Precision: 0.8520\n",
      "  Macro Recall: 0.8584\n",
      "\n",
      "Epoch 18/100\n"
     ]
    },
    {
     "name": "stderr",
     "output_type": "stream",
     "text": [
      "Training: 100%|██████████| 133/133 [00:51<00:00,  2.57it/s]\n",
      "Evaluating: 100%|██████████| 909/909 [00:41<00:00, 21.68it/s]\n"
     ]
    },
    {
     "name": "stdout",
     "output_type": "stream",
     "text": [
      "Training Loss: 0.0249\n",
      "Validation Metrics:\n",
      "  Macro F1 Score: 0.8574\n",
      "  Macro Accuracy: 0.8328\n",
      "  Macro Precision: 0.8491\n",
      "  Macro Recall: 0.8670\n",
      "\n",
      "Epoch 19/100\n"
     ]
    },
    {
     "name": "stderr",
     "output_type": "stream",
     "text": [
      "Training: 100%|██████████| 133/133 [01:04<00:00,  2.06it/s]\n",
      "Evaluating: 100%|██████████| 909/909 [00:41<00:00, 21.74it/s]\n"
     ]
    },
    {
     "name": "stdout",
     "output_type": "stream",
     "text": [
      "Training Loss: 0.0211\n",
      "Validation Metrics:\n",
      "  Macro F1 Score: 0.8564\n",
      "  Macro Accuracy: 0.8328\n",
      "  Macro Precision: 0.8479\n",
      "  Macro Recall: 0.8657\n",
      "\n",
      "Epoch 20/100\n"
     ]
    },
    {
     "name": "stderr",
     "output_type": "stream",
     "text": [
      "Training: 100%|██████████| 133/133 [00:50<00:00,  2.62it/s]\n",
      "Evaluating: 100%|██████████| 909/909 [00:52<00:00, 17.27it/s]\n"
     ]
    },
    {
     "name": "stdout",
     "output_type": "stream",
     "text": [
      "Training Loss: 0.0171\n",
      "Validation Metrics:\n",
      "  Macro F1 Score: 0.8631\n",
      "  Macro Accuracy: 0.8416\n",
      "  Macro Precision: 0.8545\n",
      "  Macro Recall: 0.8733\n",
      "New best model saved!\n",
      "\n",
      "Epoch 21/100\n"
     ]
    },
    {
     "name": "stderr",
     "output_type": "stream",
     "text": [
      "Training: 100%|██████████| 133/133 [00:51<00:00,  2.61it/s]\n",
      "Evaluating: 100%|██████████| 909/909 [00:40<00:00, 22.57it/s]\n"
     ]
    },
    {
     "name": "stdout",
     "output_type": "stream",
     "text": [
      "Training Loss: 0.0158\n",
      "Validation Metrics:\n",
      "  Macro F1 Score: 0.8588\n",
      "  Macro Accuracy: 0.8361\n",
      "  Macro Precision: 0.8524\n",
      "  Macro Recall: 0.8667\n",
      "\n",
      "Epoch 22/100\n"
     ]
    },
    {
     "name": "stderr",
     "output_type": "stream",
     "text": [
      "Training: 100%|██████████| 133/133 [01:02<00:00,  2.14it/s]\n",
      "Evaluating: 100%|██████████| 909/909 [00:40<00:00, 22.28it/s]\n"
     ]
    },
    {
     "name": "stdout",
     "output_type": "stream",
     "text": [
      "Training Loss: 0.0151\n",
      "Validation Metrics:\n",
      "  Macro F1 Score: 0.8651\n",
      "  Macro Accuracy: 0.8449\n",
      "  Macro Precision: 0.8667\n",
      "  Macro Recall: 0.8641\n",
      "New best model saved!\n",
      "\n",
      "Epoch 23/100\n"
     ]
    },
    {
     "name": "stderr",
     "output_type": "stream",
     "text": [
      "Training: 100%|██████████| 133/133 [00:51<00:00,  2.60it/s]\n",
      "Evaluating: 100%|██████████| 909/909 [00:57<00:00, 15.91it/s]\n"
     ]
    },
    {
     "name": "stdout",
     "output_type": "stream",
     "text": [
      "Training Loss: 0.0144\n",
      "Validation Metrics:\n",
      "  Macro F1 Score: 0.8607\n",
      "  Macro Accuracy: 0.8394\n",
      "  Macro Precision: 0.8638\n",
      "  Macro Recall: 0.8586\n",
      "\n",
      "Epoch 24/100\n"
     ]
    },
    {
     "name": "stderr",
     "output_type": "stream",
     "text": [
      "Training: 100%|██████████| 133/133 [00:51<00:00,  2.56it/s]\n",
      "Evaluating: 100%|██████████| 909/909 [00:41<00:00, 21.88it/s]\n"
     ]
    },
    {
     "name": "stdout",
     "output_type": "stream",
     "text": [
      "Training Loss: 0.0113\n",
      "Validation Metrics:\n",
      "  Macro F1 Score: 0.8559\n",
      "  Macro Accuracy: 0.8328\n",
      "  Macro Precision: 0.8459\n",
      "  Macro Recall: 0.8670\n",
      "\n",
      "Epoch 25/100\n"
     ]
    },
    {
     "name": "stderr",
     "output_type": "stream",
     "text": [
      "Training: 100%|██████████| 133/133 [01:07<00:00,  1.98it/s]\n",
      "Evaluating: 100%|██████████| 909/909 [00:41<00:00, 22.02it/s]\n"
     ]
    },
    {
     "name": "stdout",
     "output_type": "stream",
     "text": [
      "Training Loss: 0.0117\n",
      "Validation Metrics:\n",
      "  Macro F1 Score: 0.8662\n",
      "  Macro Accuracy: 0.8449\n",
      "  Macro Precision: 0.8690\n",
      "  Macro Recall: 0.8652\n",
      "New best model saved!\n",
      "\n",
      "Epoch 26/100\n"
     ]
    },
    {
     "name": "stderr",
     "output_type": "stream",
     "text": [
      "Training: 100%|██████████| 133/133 [00:52<00:00,  2.55it/s]\n",
      "Evaluating: 100%|██████████| 909/909 [00:57<00:00, 15.86it/s]\n"
     ]
    },
    {
     "name": "stdout",
     "output_type": "stream",
     "text": [
      "Training Loss: 0.0126\n",
      "Validation Metrics:\n",
      "  Macro F1 Score: 0.8554\n",
      "  Macro Accuracy: 0.8328\n",
      "  Macro Precision: 0.8451\n",
      "  Macro Recall: 0.8683\n",
      "\n",
      "Epoch 27/100\n"
     ]
    },
    {
     "name": "stderr",
     "output_type": "stream",
     "text": [
      "Training: 100%|██████████| 133/133 [00:51<00:00,  2.56it/s]\n",
      "Evaluating: 100%|██████████| 909/909 [00:41<00:00, 21.75it/s]\n"
     ]
    },
    {
     "name": "stdout",
     "output_type": "stream",
     "text": [
      "Training Loss: 0.0116\n",
      "Validation Metrics:\n",
      "  Macro F1 Score: 0.8598\n",
      "  Macro Accuracy: 0.8405\n",
      "  Macro Precision: 0.8693\n",
      "  Macro Recall: 0.8518\n",
      "\n",
      "Epoch 28/100\n"
     ]
    },
    {
     "name": "stderr",
     "output_type": "stream",
     "text": [
      "Training: 100%|██████████| 133/133 [01:10<00:00,  1.88it/s]\n",
      "Evaluating: 100%|██████████| 909/909 [00:41<00:00, 21.79it/s]\n"
     ]
    },
    {
     "name": "stdout",
     "output_type": "stream",
     "text": [
      "Training Loss: 0.0095\n",
      "Validation Metrics:\n",
      "  Macro F1 Score: 0.8585\n",
      "  Macro Accuracy: 0.8394\n",
      "  Macro Precision: 0.8692\n",
      "  Macro Recall: 0.8500\n",
      "\n",
      "Epoch 29/100\n"
     ]
    },
    {
     "name": "stderr",
     "output_type": "stream",
     "text": [
      "Training: 100%|██████████| 133/133 [00:52<00:00,  2.55it/s]\n",
      "Evaluating: 100%|██████████| 909/909 [00:59<00:00, 15.38it/s]\n"
     ]
    },
    {
     "name": "stdout",
     "output_type": "stream",
     "text": [
      "Training Loss: 0.0095\n",
      "Validation Metrics:\n",
      "  Macro F1 Score: 0.8591\n",
      "  Macro Accuracy: 0.8405\n",
      "  Macro Precision: 0.8719\n",
      "  Macro Recall: 0.8482\n",
      "\n",
      "Epoch 30/100\n"
     ]
    },
    {
     "name": "stderr",
     "output_type": "stream",
     "text": [
      "Training: 100%|██████████| 133/133 [00:51<00:00,  2.60it/s]\n",
      "Evaluating: 100%|██████████| 909/909 [00:40<00:00, 22.21it/s]\n"
     ]
    },
    {
     "name": "stdout",
     "output_type": "stream",
     "text": [
      "Training Loss: 0.0095\n",
      "Validation Metrics:\n",
      "  Macro F1 Score: 0.8630\n",
      "  Macro Accuracy: 0.8438\n",
      "  Macro Precision: 0.8645\n",
      "  Macro Recall: 0.8633\n",
      "\n",
      "Epoch 31/100\n"
     ]
    },
    {
     "name": "stderr",
     "output_type": "stream",
     "text": [
      "Training: 100%|██████████| 133/133 [00:50<00:00,  2.62it/s]\n",
      "Evaluating: 100%|██████████| 909/909 [00:42<00:00, 21.52it/s]\n"
     ]
    },
    {
     "name": "stdout",
     "output_type": "stream",
     "text": [
      "Training Loss: 0.0069\n",
      "Validation Metrics:\n",
      "  Macro F1 Score: 0.8669\n",
      "  Macro Accuracy: 0.8449\n",
      "  Macro Precision: 0.8664\n",
      "  Macro Recall: 0.8688\n",
      "New best model saved!\n",
      "\n",
      "Epoch 32/100\n"
     ]
    },
    {
     "name": "stderr",
     "output_type": "stream",
     "text": [
      "Training: 100%|██████████| 133/133 [00:50<00:00,  2.65it/s]\n",
      "Evaluating: 100%|██████████| 909/909 [00:39<00:00, 23.24it/s]\n"
     ]
    },
    {
     "name": "stdout",
     "output_type": "stream",
     "text": [
      "Training Loss: 0.0091\n",
      "Validation Metrics:\n",
      "  Macro F1 Score: 0.8589\n",
      "  Macro Accuracy: 0.8372\n",
      "  Macro Precision: 0.8618\n",
      "  Macro Recall: 0.8573\n",
      "\n",
      "Epoch 33/100\n"
     ]
    },
    {
     "name": "stderr",
     "output_type": "stream",
     "text": [
      "Training: 100%|██████████| 133/133 [00:50<00:00,  2.63it/s]\n",
      "Evaluating: 100%|██████████| 909/909 [00:39<00:00, 23.24it/s]\n"
     ]
    },
    {
     "name": "stdout",
     "output_type": "stream",
     "text": [
      "Training Loss: 0.0077\n",
      "Validation Metrics:\n",
      "  Macro F1 Score: 0.8577\n",
      "  Macro Accuracy: 0.8372\n",
      "  Macro Precision: 0.8601\n",
      "  Macro Recall: 0.8568\n",
      "\n",
      "Epoch 34/100\n"
     ]
    },
    {
     "name": "stderr",
     "output_type": "stream",
     "text": [
      "Training: 100%|██████████| 133/133 [00:50<00:00,  2.63it/s]\n",
      "Evaluating: 100%|██████████| 909/909 [00:40<00:00, 22.50it/s]\n"
     ]
    },
    {
     "name": "stdout",
     "output_type": "stream",
     "text": [
      "Training Loss: 0.0083\n",
      "Validation Metrics:\n",
      "  Macro F1 Score: 0.8595\n",
      "  Macro Accuracy: 0.8416\n",
      "  Macro Precision: 0.8759\n",
      "  Macro Recall: 0.8450\n",
      "\n",
      "Epoch 35/100\n"
     ]
    },
    {
     "name": "stderr",
     "output_type": "stream",
     "text": [
      "Training: 100%|██████████| 133/133 [00:50<00:00,  2.65it/s]\n",
      "Evaluating: 100%|██████████| 909/909 [00:41<00:00, 21.92it/s]\n"
     ]
    },
    {
     "name": "stdout",
     "output_type": "stream",
     "text": [
      "Training Loss: 0.0079\n",
      "Validation Metrics:\n",
      "  Macro F1 Score: 0.8619\n",
      "  Macro Accuracy: 0.8416\n",
      "  Macro Precision: 0.8605\n",
      "  Macro Recall: 0.8652\n",
      "Early stopping triggered\n",
      "Training completed. Best F1 Score: 0.8669\n",
      "device :  cuda:0\n",
      "/data/nmc/processed_image/cropped_images_1424x1648\n",
      "(0,)               1935\n",
      "(3,)                542\n",
      "(1, 2, 3)           532\n",
      "(1, 2)              286\n",
      "(2,)                233\n",
      "(1, 2, 3, 4)        190\n",
      "(2, 3)              163\n",
      "(1,)                155\n",
      "(4,)                 47\n",
      "(1, 3)               31\n",
      "(1, 2, 4)            27\n",
      "(3, 4)               22\n",
      "(1, 2, 3, 4, 5)      11\n",
      "(5,)                  9\n",
      "(2, 3, 4)             9\n",
      "(1, 4)                9\n",
      "(1, 2, 3, 5)          8\n",
      "(1, 2, 5)             7\n",
      "(2, 4)                7\n",
      "(1, 2, 3, 5, 6)       5\n",
      "(1, 2, 3, 6)          4\n",
      "(1, 3, 4)             2\n",
      "(1, 3, 6)             1\n",
      "(6,)                  1\n",
      "(1, 2, 6)             1\n",
      "(1, 2, 3, 4, 6)       1\n",
      "Name: label, dtype: int64\n",
      "train size: 4238\n",
      "(0,)            415\n",
      "(1, 2, 3)       114\n",
      "(3,)            113\n",
      "(1, 2)           68\n",
      "(1, 2, 3, 4)     44\n",
      "(2,)             44\n",
      "(2, 3)           38\n",
      "(1,)             27\n",
      "(1, 3)            9\n",
      "(4,)              8\n",
      "(2, 4)            5\n",
      "(3, 4)            5\n",
      "(5,)              5\n",
      "(1, 4)            4\n",
      "(6,)              2\n",
      "(1, 2, 4)         2\n",
      "(1, 5)            2\n",
      "(2, 3, 4)         1\n",
      "(1, 2, 3, 5)      1\n",
      "(1, 2, 5)         1\n",
      "(1, 3, 4)         1\n",
      "Name: label, dtype: int64\n",
      "val size: 909\n",
      "(0,)               415\n",
      "(3,)               113\n",
      "(1, 2, 3)          113\n",
      "(1, 2)              64\n",
      "(2,)                46\n",
      "(1, 2, 3, 4)        42\n",
      "(2, 3)              38\n",
      "(1,)                29\n",
      "(1, 3)               9\n",
      "(4,)                 7\n",
      "(3, 4)               6\n",
      "(1, 2, 4)            5\n",
      "(1, 4)               4\n",
      "(2, 4)               4\n",
      "(5,)                 4\n",
      "(1, 2, 3, 5)         2\n",
      "(6,)                 1\n",
      "(1, 2, 3, 4, 6)      1\n",
      "(2, 3, 4)            1\n",
      "(1, 2, 3, 6)         1\n",
      "(1, 2, 5)            1\n",
      "(1, 5)               1\n",
      "Name: label, dtype: int64\n",
      "test size: 907\n"
     ]
    },
    {
     "name": "stderr",
     "output_type": "stream",
     "text": [
      "/root/anaconda3/envs/gm/lib/python3.7/site-packages/torchvision/models/_utils.py:209: UserWarning: The parameter 'pretrained' is deprecated since 0.13 and may be removed in the future, please use 'weights' instead.\n",
      "  f\"The parameter '{pretrained_param}' is deprecated since 0.13 and may be removed in the future, \"\n",
      "/root/anaconda3/envs/gm/lib/python3.7/site-packages/torchvision/models/_utils.py:223: UserWarning: Arguments other than a weight enum or `None` for 'weights' are deprecated since 0.13 and may be removed in the future. The current behavior is equivalent to passing `weights=None`.\n",
      "  warnings.warn(msg)\n"
     ]
    },
    {
     "name": "stdout",
     "output_type": "stream",
     "text": [
      "Epoch 1/100\n"
     ]
    },
    {
     "name": "stderr",
     "output_type": "stream",
     "text": [
      "Training: 100%|██████████| 133/133 [00:50<00:00,  2.65it/s]\n",
      "Evaluating: 100%|██████████| 909/909 [00:41<00:00, 21.88it/s]\n",
      "/root/anaconda3/envs/gm/lib/python3.7/site-packages/sklearn/metrics/_classification.py:1318: UndefinedMetricWarning: Precision is ill-defined and being set to 0.0 in labels with no predicted samples. Use `zero_division` parameter to control this behavior.\n",
      "  _warn_prf(average, modifier, msg_start, len(result))\n"
     ]
    },
    {
     "name": "stdout",
     "output_type": "stream",
     "text": [
      "Training Loss: 0.0548\n",
      "Validation Metrics:\n",
      "  Macro F1 Score: 0.2500\n",
      "  Macro Accuracy: 0.9868\n",
      "  Macro Precision: 0.2273\n",
      "  Macro Recall: 0.2778\n",
      "New best model saved!\n",
      "\n",
      "Epoch 2/100\n"
     ]
    },
    {
     "name": "stderr",
     "output_type": "stream",
     "text": [
      "Training: 100%|██████████| 133/133 [00:50<00:00,  2.61it/s]\n",
      "Evaluating: 100%|██████████| 909/909 [00:41<00:00, 21.86it/s]\n"
     ]
    },
    {
     "name": "stdout",
     "output_type": "stream",
     "text": [
      "Training Loss: 0.0052\n",
      "Validation Metrics:\n",
      "  Macro F1 Score: 0.2222\n",
      "  Macro Accuracy: 0.9857\n",
      "  Macro Precision: 0.2222\n",
      "  Macro Recall: 0.2222\n",
      "\n",
      "Epoch 3/100\n"
     ]
    },
    {
     "name": "stderr",
     "output_type": "stream",
     "text": [
      "Training: 100%|██████████| 133/133 [00:50<00:00,  2.64it/s]\n",
      "Evaluating: 100%|██████████| 909/909 [00:40<00:00, 22.33it/s]\n",
      "/root/anaconda3/envs/gm/lib/python3.7/site-packages/sklearn/metrics/_classification.py:1318: UndefinedMetricWarning: Precision is ill-defined and being set to 0.0 in labels with no predicted samples. Use `zero_division` parameter to control this behavior.\n",
      "  _warn_prf(average, modifier, msg_start, len(result))\n"
     ]
    },
    {
     "name": "stdout",
     "output_type": "stream",
     "text": [
      "Training Loss: 0.0034\n",
      "Validation Metrics:\n",
      "  Macro F1 Score: 0.1765\n",
      "  Macro Accuracy: 0.9857\n",
      "  Macro Precision: 0.1875\n",
      "  Macro Recall: 0.1667\n",
      "\n",
      "Epoch 4/100\n"
     ]
    },
    {
     "name": "stderr",
     "output_type": "stream",
     "text": [
      "Training: 100%|██████████| 133/133 [00:50<00:00,  2.62it/s]\n",
      "Evaluating: 100%|██████████| 909/909 [00:41<00:00, 21.85it/s]\n"
     ]
    },
    {
     "name": "stdout",
     "output_type": "stream",
     "text": [
      "Training Loss: 0.0055\n",
      "Validation Metrics:\n",
      "  Macro F1 Score: 0.4107\n",
      "  Macro Accuracy: 0.9868\n",
      "  Macro Precision: 0.4833\n",
      "  Macro Recall: 0.4722\n",
      "New best model saved!\n",
      "\n",
      "Epoch 5/100\n"
     ]
    },
    {
     "name": "stderr",
     "output_type": "stream",
     "text": [
      "Training: 100%|██████████| 133/133 [00:51<00:00,  2.59it/s]\n",
      "Evaluating: 100%|██████████| 909/909 [00:39<00:00, 23.04it/s]\n"
     ]
    },
    {
     "name": "stdout",
     "output_type": "stream",
     "text": [
      "Training Loss: 0.0039\n",
      "Validation Metrics:\n",
      "  Macro F1 Score: 0.6410\n",
      "  Macro Accuracy: 0.9934\n",
      "  Macro Precision: 1.0000\n",
      "  Macro Recall: 0.4722\n",
      "New best model saved!\n",
      "\n",
      "Epoch 6/100\n"
     ]
    },
    {
     "name": "stderr",
     "output_type": "stream",
     "text": [
      "Training: 100%|██████████| 133/133 [00:51<00:00,  2.58it/s]\n",
      "Evaluating: 100%|██████████| 909/909 [00:42<00:00, 21.62it/s]\n"
     ]
    },
    {
     "name": "stdout",
     "output_type": "stream",
     "text": [
      "Training Loss: 0.0073\n",
      "Validation Metrics:\n",
      "  Macro F1 Score: 0.3077\n",
      "  Macro Accuracy: 0.9912\n",
      "  Macro Precision: 0.5000\n",
      "  Macro Recall: 0.2222\n",
      "\n",
      "Epoch 7/100\n"
     ]
    },
    {
     "name": "stderr",
     "output_type": "stream",
     "text": [
      "Training: 100%|██████████| 133/133 [00:50<00:00,  2.61it/s]\n",
      "Evaluating: 100%|██████████| 909/909 [00:40<00:00, 22.63it/s]\n",
      "/root/anaconda3/envs/gm/lib/python3.7/site-packages/sklearn/metrics/_classification.py:1318: UndefinedMetricWarning: Precision is ill-defined and being set to 0.0 in labels with no predicted samples. Use `zero_division` parameter to control this behavior.\n",
      "  _warn_prf(average, modifier, msg_start, len(result))\n"
     ]
    },
    {
     "name": "stdout",
     "output_type": "stream",
     "text": [
      "Training Loss: 0.0024\n",
      "Validation Metrics:\n",
      "  Macro F1 Score: 0.1538\n",
      "  Macro Accuracy: 0.9879\n",
      "  Macro Precision: 0.2500\n",
      "  Macro Recall: 0.1111\n",
      "\n",
      "Epoch 8/100\n"
     ]
    },
    {
     "name": "stderr",
     "output_type": "stream",
     "text": [
      "Training: 100%|██████████| 133/133 [00:50<00:00,  2.66it/s]\n",
      "Evaluating: 100%|██████████| 909/909 [00:40<00:00, 22.34it/s]\n",
      "/root/anaconda3/envs/gm/lib/python3.7/site-packages/sklearn/metrics/_classification.py:1318: UndefinedMetricWarning: Precision is ill-defined and being set to 0.0 in labels with no predicted samples. Use `zero_division` parameter to control this behavior.\n",
      "  _warn_prf(average, modifier, msg_start, len(result))\n"
     ]
    },
    {
     "name": "stdout",
     "output_type": "stream",
     "text": [
      "Training Loss: 0.0047\n",
      "Validation Metrics:\n",
      "  Macro F1 Score: 0.2609\n",
      "  Macro Accuracy: 0.9857\n",
      "  Macro Precision: 0.2143\n",
      "  Macro Recall: 0.3333\n",
      "\n",
      "Epoch 9/100\n"
     ]
    },
    {
     "name": "stderr",
     "output_type": "stream",
     "text": [
      "Training: 100%|██████████| 133/133 [00:50<00:00,  2.63it/s]\n",
      "Evaluating: 100%|██████████| 909/909 [00:40<00:00, 22.33it/s]\n",
      "/root/anaconda3/envs/gm/lib/python3.7/site-packages/sklearn/metrics/_classification.py:1318: UndefinedMetricWarning: Precision is ill-defined and being set to 0.0 in labels with no predicted samples. Use `zero_division` parameter to control this behavior.\n",
      "  _warn_prf(average, modifier, msg_start, len(result))\n"
     ]
    },
    {
     "name": "stdout",
     "output_type": "stream",
     "text": [
      "Training Loss: 0.0049\n",
      "Validation Metrics:\n",
      "  Macro F1 Score: 0.3571\n",
      "  Macro Accuracy: 0.9934\n",
      "  Macro Precision: 0.5000\n",
      "  Macro Recall: 0.2778\n",
      "\n",
      "Epoch 10/100\n"
     ]
    },
    {
     "name": "stderr",
     "output_type": "stream",
     "text": [
      "Training: 100%|██████████| 133/133 [00:50<00:00,  2.62it/s]\n",
      "Evaluating: 100%|██████████| 909/909 [00:41<00:00, 21.75it/s]\n",
      "/root/anaconda3/envs/gm/lib/python3.7/site-packages/sklearn/metrics/_classification.py:1318: UndefinedMetricWarning: Precision is ill-defined and being set to 0.0 in labels with no predicted samples. Use `zero_division` parameter to control this behavior.\n",
      "  _warn_prf(average, modifier, msg_start, len(result))\n"
     ]
    },
    {
     "name": "stdout",
     "output_type": "stream",
     "text": [
      "Training Loss: 0.0016\n",
      "Validation Metrics:\n",
      "  Macro F1 Score: 0.3125\n",
      "  Macro Accuracy: 0.9912\n",
      "  Macro Precision: 0.3571\n",
      "  Macro Recall: 0.2778\n",
      "\n",
      "Epoch 11/100\n"
     ]
    },
    {
     "name": "stderr",
     "output_type": "stream",
     "text": [
      "Training: 100%|██████████| 133/133 [00:49<00:00,  2.68it/s]\n",
      "Evaluating: 100%|██████████| 909/909 [00:39<00:00, 22.96it/s]\n",
      "/root/anaconda3/envs/gm/lib/python3.7/site-packages/sklearn/metrics/_classification.py:1318: UndefinedMetricWarning: Precision is ill-defined and being set to 0.0 in labels with no predicted samples. Use `zero_division` parameter to control this behavior.\n",
      "  _warn_prf(average, modifier, msg_start, len(result))\n"
     ]
    },
    {
     "name": "stdout",
     "output_type": "stream",
     "text": [
      "Training Loss: 0.0006\n",
      "Validation Metrics:\n",
      "  Macro F1 Score: 0.3333\n",
      "  Macro Accuracy: 0.9923\n",
      "  Macro Precision: 0.4167\n",
      "  Macro Recall: 0.2778\n",
      "Epoch 00011: reducing learning rate of group 0 to 1.0000e-05.\n",
      "\n",
      "Epoch 12/100\n"
     ]
    },
    {
     "name": "stderr",
     "output_type": "stream",
     "text": [
      "Training: 100%|██████████| 133/133 [00:50<00:00,  2.62it/s]\n",
      "Evaluating: 100%|██████████| 909/909 [00:41<00:00, 21.77it/s]\n",
      "/root/anaconda3/envs/gm/lib/python3.7/site-packages/sklearn/metrics/_classification.py:1318: UndefinedMetricWarning: Precision is ill-defined and being set to 0.0 in labels with no predicted samples. Use `zero_division` parameter to control this behavior.\n",
      "  _warn_prf(average, modifier, msg_start, len(result))\n"
     ]
    },
    {
     "name": "stdout",
     "output_type": "stream",
     "text": [
      "Training Loss: 0.0003\n",
      "Validation Metrics:\n",
      "  Macro F1 Score: 0.3333\n",
      "  Macro Accuracy: 0.9923\n",
      "  Macro Precision: 0.4167\n",
      "  Macro Recall: 0.2778\n",
      "\n",
      "Epoch 13/100\n"
     ]
    },
    {
     "name": "stderr",
     "output_type": "stream",
     "text": [
      "Training: 100%|██████████| 133/133 [00:51<00:00,  2.60it/s]\n",
      "Evaluating: 100%|██████████| 909/909 [00:40<00:00, 22.23it/s]\n",
      "/root/anaconda3/envs/gm/lib/python3.7/site-packages/sklearn/metrics/_classification.py:1318: UndefinedMetricWarning: Precision is ill-defined and being set to 0.0 in labels with no predicted samples. Use `zero_division` parameter to control this behavior.\n",
      "  _warn_prf(average, modifier, msg_start, len(result))\n"
     ]
    },
    {
     "name": "stdout",
     "output_type": "stream",
     "text": [
      "Training Loss: 0.0006\n",
      "Validation Metrics:\n",
      "  Macro F1 Score: 0.3571\n",
      "  Macro Accuracy: 0.9934\n",
      "  Macro Precision: 0.5000\n",
      "  Macro Recall: 0.2778\n",
      "\n",
      "Epoch 14/100\n"
     ]
    },
    {
     "name": "stderr",
     "output_type": "stream",
     "text": [
      "Training: 100%|██████████| 133/133 [00:50<00:00,  2.64it/s]\n",
      "Evaluating: 100%|██████████| 909/909 [00:41<00:00, 22.02it/s]\n",
      "/root/anaconda3/envs/gm/lib/python3.7/site-packages/sklearn/metrics/_classification.py:1318: UndefinedMetricWarning: Precision is ill-defined and being set to 0.0 in labels with no predicted samples. Use `zero_division` parameter to control this behavior.\n",
      "  _warn_prf(average, modifier, msg_start, len(result))\n"
     ]
    },
    {
     "name": "stdout",
     "output_type": "stream",
     "text": [
      "Training Loss: 0.0003\n",
      "Validation Metrics:\n",
      "  Macro F1 Score: 0.3571\n",
      "  Macro Accuracy: 0.9934\n",
      "  Macro Precision: 0.5000\n",
      "  Macro Recall: 0.2778\n",
      "\n",
      "Epoch 15/100\n"
     ]
    },
    {
     "name": "stderr",
     "output_type": "stream",
     "text": [
      "Training: 100%|██████████| 133/133 [00:50<00:00,  2.65it/s]\n",
      "Evaluating: 100%|██████████| 909/909 [00:39<00:00, 23.20it/s]"
     ]
    },
    {
     "name": "stdout",
     "output_type": "stream",
     "text": [
      "Training Loss: 0.0003\n",
      "Validation Metrics:\n",
      "  Macro F1 Score: 0.3571\n",
      "  Macro Accuracy: 0.9934\n",
      "  Macro Precision: 0.5000\n",
      "  Macro Recall: 0.2778\n",
      "Early stopping triggered\n",
      "Training completed. Best F1 Score: 0.6410\n"
     ]
    },
    {
     "name": "stderr",
     "output_type": "stream",
     "text": [
      "\n",
      "/root/anaconda3/envs/gm/lib/python3.7/site-packages/sklearn/metrics/_classification.py:1318: UndefinedMetricWarning: Precision is ill-defined and being set to 0.0 in labels with no predicted samples. Use `zero_division` parameter to control this behavior.\n",
      "  _warn_prf(average, modifier, msg_start, len(result))\n"
     ]
    }
   ],
   "source": [
    "ncm_aptos_labels = [[0],[2],[1],[1,2],[5,6]]\n",
    "for index, target_label_idx in enumerate(ncm_aptos_labels):\n",
    "    \n",
    "    start = time.time()\n",
    "    best_mf1 = 0.0\n",
    "    device = torch.device(cfg['DEVICE'])\n",
    "    print(\"device : \", device)\n",
    "    num_workers = mp.cpu_count()\n",
    "    train_cfg, eval_cfg = cfg['TRAIN'], cfg['EVAL']\n",
    "    dataset_cfg, model_cfg = cfg['DATASET'], cfg['MODEL']\n",
    "    loss_cfg, optim_cfg, sched_cfg = cfg['LOSS'], cfg['OPTIMIZER'], cfg['SCHEDULER']\n",
    "    epochs, lr = train_cfg['EPOCHS'], optim_cfg['LR']\n",
    "\n",
    "    image_size = [256,256]\n",
    "    image_dir = Path(dataset_cfg['ROOT']) / 'train_images'\n",
    "    train_transform = get_train_augmentation(image_size)\n",
    "    val_test_transform = get_val_test_transform(image_size)\n",
    "    batch_size = 32\n",
    "\n",
    "\n",
    "    dataset = eval(dataset_cfg['NAME'])(\n",
    "        dataset_cfg['ROOT'] + '/cropped_images_1424x1648',\n",
    "        dataset_cfg['TRAIN_RATIO'],\n",
    "        dataset_cfg['VALID_RATIO'],\n",
    "        dataset_cfg['TEST_RATIO'],\n",
    "        transform=None\n",
    "    )\n",
    "    trainset, valset, testset = dataset.get_splits()\n",
    "    trainset.transform = train_transform\n",
    "    valset.transform = val_test_transform\n",
    "    testset.transform = val_test_transform\n",
    "\n",
    "\n",
    "\n",
    "    # DataLoader 수정\n",
    "    trainloader = DataLoader(\n",
    "        trainset, \n",
    "        batch_sampler=MultiTargetBalancedBatchSampler(trainset, batch_size=batch_size, target_classes =target_label_idx),\n",
    "        num_workers=num_workers,\n",
    "        pin_memory=True\n",
    "    )\n",
    "    # trainloader = DataLoader(trainset, batch_size=batch_size, num_workers=num_workers, drop_last=True, pin_memory=True)\n",
    "    valloader = DataLoader(valset, batch_size=1, num_workers=1, pin_memory=True)\n",
    "    testloader = DataLoader(testset, batch_size=1, num_workers=1, pin_memory=True)\n",
    "    \n",
    "    # Model definition (changed to binary classification)\n",
    "    efficientnet = models.efficientnet_v2_m(pretrained=False)\n",
    "    num_ftrs = efficientnet.classifier[1].in_features\n",
    "    efficientnet.classifier = nn.Sequential(\n",
    "        nn.BatchNorm1d(num_ftrs),\n",
    "        nn.Linear(num_ftrs, 1)\n",
    "    )\n",
    "    \n",
    "    efficientnet.load_state_dict(torch.load(f'model/singlelabel/best_model_label_{index}_aptos_cnn.pth'))\n",
    "    \n",
    "    # # Model definition (changed to binary classification)\n",
    "    # efficientnet = models.efficientnet_v2_m(pretrained=False)\n",
    "    # num_ftrs = efficientnet.classifier[1].in_features\n",
    "    num_targets = len(target_label_idx)\n",
    "    \n",
    "    \n",
    "    if num_targets == 1:\n",
    "        # 단일 레이블 케이스 (기존 코드와 동일)\n",
    "        efficientnet.classifier = nn.Sequential(\n",
    "            nn.BatchNorm1d(num_ftrs),\n",
    "            nn.Linear(num_ftrs, 1)\n",
    "        )\n",
    "    else:\n",
    "        # 다중 레이블 케이스\n",
    "        efficientnet.classifier = nn.Sequential(\n",
    "            nn.BatchNorm1d(num_ftrs),\n",
    "            nn.Linear(num_ftrs, num_targets)\n",
    "        )\n",
    "    efficientnet = efficientnet.to(device)\n",
    "    \n",
    "    # L2 regularization\n",
    "    weight_decay = 1e-4\n",
    "    optimizer = torch.optim.AdamW(efficientnet.parameters(), lr=0.0001, weight_decay=weight_decay)\n",
    "    criterion = nn.BCEWithLogitsLoss()\n",
    "    scaler = GradScaler(enabled=train_cfg['AMP'])\n",
    "    # Learning rate scheduler\n",
    "    scheduler = optim.lr_scheduler.ReduceLROnPlateau(optimizer, mode='max', factor=0.1, patience=5, verbose=True)\n",
    "\n",
    "    # Main execution code\n",
    "    epochs = 100\n",
    "\n",
    "\n",
    "    best_f1 = train_and_evaluate(\n",
    "        efficientnet, \n",
    "        trainloader, \n",
    "        valloader, \n",
    "        criterion, \n",
    "        optimizer, \n",
    "        scaler, \n",
    "        device, \n",
    "        epochs,\n",
    "        target_label_idx\n",
    "    )\n",
    "\n",
    "    print(f\"Training completed. Best F1 Score: {best_f1:.4f}\")"
   ]
  },
  {
   "cell_type": "code",
   "execution_count": null,
   "metadata": {},
   "outputs": [],
   "source": []
  },
  {
   "cell_type": "code",
   "execution_count": null,
   "metadata": {},
   "outputs": [],
   "source": []
  },
  {
   "cell_type": "code",
   "execution_count": null,
   "metadata": {},
   "outputs": [],
   "source": []
  },
  {
   "cell_type": "code",
   "execution_count": null,
   "metadata": {},
   "outputs": [],
   "source": []
  },
  {
   "cell_type": "code",
   "execution_count": null,
   "metadata": {},
   "outputs": [],
   "source": []
  },
  {
   "cell_type": "code",
   "execution_count": null,
   "metadata": {},
   "outputs": [],
   "source": []
  },
  {
   "cell_type": "code",
   "execution_count": 16,
   "metadata": {},
   "outputs": [
    {
     "name": "stdout",
     "output_type": "stream",
     "text": [
      "device :  cuda:0\n",
      "/data/nmc/processed_image/cropped_images_1424x1648\n",
      "(0,)               1935\n",
      "(3,)                542\n",
      "(1, 2, 3)           532\n",
      "(1, 2)              286\n",
      "(2,)                233\n",
      "(1, 2, 3, 4)        190\n",
      "(2, 3)              163\n",
      "(1,)                155\n",
      "(4,)                 47\n",
      "(1, 3)               31\n",
      "(1, 2, 4)            27\n",
      "(3, 4)               22\n",
      "(1, 2, 3, 4, 5)      11\n",
      "(5,)                  9\n",
      "(2, 3, 4)             9\n",
      "(1, 4)                9\n",
      "(1, 2, 3, 5)          8\n",
      "(1, 2, 5)             7\n",
      "(2, 4)                7\n",
      "(1, 2, 3, 5, 6)       5\n",
      "(1, 2, 3, 6)          4\n",
      "(1, 3, 4)             2\n",
      "(1, 3, 6)             1\n",
      "(6,)                  1\n",
      "(1, 2, 6)             1\n",
      "(1, 2, 3, 4, 6)       1\n",
      "Name: label, dtype: int64\n",
      "train size: 4238\n",
      "(0,)               415\n",
      "(3,)               118\n",
      "(1, 2, 3)          113\n",
      "(1, 2)              65\n",
      "(2,)                50\n",
      "(1, 2, 3, 4)        46\n",
      "(2, 3)              35\n",
      "(1,)                32\n",
      "(4,)                13\n",
      "(1, 3)               7\n",
      "(5,)                 4\n",
      "(3, 4)               3\n",
      "(1, 2, 4)            2\n",
      "(1, 4)               2\n",
      "(2, 4)               2\n",
      "(1, 5)               2\n",
      "(1, 2, 3, 4, 6)      1\n",
      "(2, 3, 4)            1\n",
      "(1, 2, 3, 6)         1\n",
      "(1, 2, 3, 5)         1\n",
      "(1, 2, 5)            1\n",
      "Name: label, dtype: int64\n",
      "val size: 914\n",
      "(0,)            415\n",
      "(1, 2, 3)       114\n",
      "(3,)            108\n",
      "(1, 2)           67\n",
      "(2, 3)           41\n",
      "(1, 2, 3, 4)     40\n",
      "(2,)             40\n",
      "(1,)             24\n",
      "(1, 3)           11\n",
      "(3, 4)            8\n",
      "(2, 4)            7\n",
      "(1, 4)            6\n",
      "(5,)              5\n",
      "(1, 2, 4)         5\n",
      "(6,)              3\n",
      "(4,)              2\n",
      "(1, 2, 3, 5)      2\n",
      "(1, 3, 4)         1\n",
      "(2, 3, 4)         1\n",
      "(1, 2, 5)         1\n",
      "(1, 5)            1\n",
      "Name: label, dtype: int64\n",
      "test size: 902\n"
     ]
    }
   ],
   "source": [
    "\n",
    "start = time.time()\n",
    "best_mf1 = 0.0\n",
    "device = torch.device(cfg['DEVICE'])\n",
    "print(\"device : \", device)\n",
    "num_workers = mp.cpu_count()\n",
    "train_cfg, eval_cfg = cfg['TRAIN'], cfg['EVAL']\n",
    "dataset_cfg, model_cfg = cfg['DATASET'], cfg['MODEL']\n",
    "loss_cfg, optim_cfg, sched_cfg = cfg['LOSS'], cfg['OPTIMIZER'], cfg['SCHEDULER']\n",
    "epochs, lr = train_cfg['EPOCHS'], optim_cfg['LR']\n",
    "\n",
    "image_size = [256,256]\n",
    "image_dir = Path(dataset_cfg['ROOT']) / 'train_images'\n",
    "train_transform = get_train_augmentation(image_size)\n",
    "val_test_transform = get_val_test_transform(image_size)\n",
    "batch_size = 32\n",
    "\n",
    "\n",
    "dataset = eval(dataset_cfg['NAME'])(\n",
    "    dataset_cfg['ROOT'] + '/cropped_images_1424x1648',\n",
    "    dataset_cfg['TRAIN_RATIO'],\n",
    "    dataset_cfg['VALID_RATIO'],\n",
    "    dataset_cfg['TEST_RATIO'],\n",
    "    transform=None\n",
    ")\n",
    "trainset, valset, testset = dataset.get_splits()\n",
    "trainset.transform = train_transform\n",
    "valset.transform = val_test_transform\n",
    "testset.transform = val_test_transform\n",
    "\n",
    "\n",
    "\n",
    "# DataLoader 수정\n",
    "trainloader = DataLoader(\n",
    "    trainset, \n",
    "    batch_sampler=MultiTargetBalancedBatchSampler(trainset, batch_size=batch_size, target_classes =target_label_idx),\n",
    "    num_workers=num_workers,\n",
    "    pin_memory=True\n",
    ")\n",
    "# trainloader = DataLoader(trainset, batch_size=batch_size, num_workers=num_workers, drop_last=True, pin_memory=True)\n",
    "valloader = DataLoader(valset, batch_size=1, num_workers=1, pin_memory=True)\n",
    "testloader = DataLoader(testset, batch_size=1, num_workers=1, pin_memory=True)"
   ]
  },
  {
   "cell_type": "code",
   "execution_count": 18,
   "metadata": {},
   "outputs": [],
   "source": [
    "def evaluate(model, dataloader, device, target_label_idx):\n",
    "   model.eval()\n",
    "   all_preds = []\n",
    "   all_labels = []\n",
    "   num_targets = len(target_label_idx)\n",
    "   \n",
    "   with torch.no_grad():\n",
    "       for images, labels in tqdm(dataloader, desc=\"Evaluating\"):\n",
    "           images = images.to(device)\n",
    "           \n",
    "           if num_targets == 1:\n",
    "               # 단일 레이블 케이스\n",
    "               target_labels = labels[:, target_label_idx].to(device)\n",
    "               outputs = model(images)\n",
    "               \n",
    "               # 차원 처리\n",
    "               if len(outputs.shape) == 2:\n",
    "                   outputs = outputs.squeeze(1)\n",
    "               \n",
    "               preds = (torch.sigmoid(outputs) > 0.5).float()\n",
    "               \n",
    "               all_preds.append(preds.cpu().numpy().reshape(-1))\n",
    "               all_labels.append(target_labels.cpu().numpy().reshape(-1))\n",
    "           \n",
    "           else:\n",
    "               # 다중 레이블 케이스\n",
    "               target_labels = labels[:, target_label_idx].to(device)\n",
    "               outputs = model(images)\n",
    "               \n",
    "               # 각 레이블에 대한 예측\n",
    "               preds = (torch.sigmoid(outputs) > 0.5).float()\n",
    "               \n",
    "               all_preds.append(preds.cpu().numpy())\n",
    "               all_labels.append(target_labels.cpu().numpy())\n",
    "   \n",
    "   # numpy array로 변환\n",
    "   all_preds = np.concatenate(all_preds)\n",
    "   all_labels = np.concatenate(all_labels)\n",
    "   \n",
    "   if num_targets == 1:\n",
    "       # 단일 레이블 메트릭\n",
    "       f1 = f1_score(all_labels, all_preds, average='binary')\n",
    "       accuracy = accuracy_score(all_labels, all_preds)\n",
    "       precision = precision_score(all_labels, all_preds)\n",
    "       recall = recall_score(all_labels, all_preds)\n",
    "       \n",
    "       return f1, accuracy, precision, recall\n",
    "   else:\n",
    "       # 다중 레이블 메트릭\n",
    "       # 클래스별 F1 점수 계산\n",
    "       class_f1s = []\n",
    "       for i in range(num_targets):\n",
    "           class_f1 = f1_score(all_labels[:, i], all_preds[:, i], average='binary')\n",
    "           class_f1s.append(class_f1)\n",
    "           print(f\"Class {target_label_idx[i]} F1: {class_f1:.4f}\")\n",
    "       \n",
    "       # 전체 평균 메트릭\n",
    "       macro_f1 = np.mean(class_f1s)\n",
    "       accuracy = accuracy_score(all_labels, all_preds)\n",
    "       precision = precision_score(all_labels, all_preds, average='macro')\n",
    "       recall = recall_score(all_labels, all_preds, average='macro')\n",
    "       \n",
    "       return macro_f1, accuracy, precision, recall"
   ]
  },
  {
   "cell_type": "code",
   "execution_count": 19,
   "metadata": {},
   "outputs": [
    {
     "name": "stderr",
     "output_type": "stream",
     "text": [
      "Evaluating: 100%|██████████| 902/902 [00:39<00:00, 22.62it/s]\n",
      "/root/anaconda3/envs/gm/lib/python3.7/site-packages/torchvision/models/_utils.py:209: UserWarning: The parameter 'pretrained' is deprecated since 0.13 and may be removed in the future, please use 'weights' instead.\n",
      "  f\"The parameter '{pretrained_param}' is deprecated since 0.13 and may be removed in the future, \"\n",
      "/root/anaconda3/envs/gm/lib/python3.7/site-packages/torchvision/models/_utils.py:223: UserWarning: Arguments other than a weight enum or `None` for 'weights' are deprecated since 0.13 and may be removed in the future. The current behavior is equivalent to passing `weights=EfficientNet_V2_M_Weights.IMAGENET1K_V1`. You can also use `weights=EfficientNet_V2_M_Weights.DEFAULT` to get the most up-to-date weights.\n",
      "  warnings.warn(msg)\n"
     ]
    },
    {
     "name": "stdout",
     "output_type": "stream",
     "text": [
      "Test Results:\n",
      "  F1 Score: 0.8847\n",
      "  Accuracy: 0.8914\n",
      "  Precision: 0.8644\n",
      "  Recall: 0.9060\n"
     ]
    },
    {
     "name": "stderr",
     "output_type": "stream",
     "text": [
      "Evaluating: 100%|██████████| 902/902 [00:38<00:00, 23.25it/s]\n",
      "/root/anaconda3/envs/gm/lib/python3.7/site-packages/torchvision/models/_utils.py:209: UserWarning: The parameter 'pretrained' is deprecated since 0.13 and may be removed in the future, please use 'weights' instead.\n",
      "  f\"The parameter '{pretrained_param}' is deprecated since 0.13 and may be removed in the future, \"\n",
      "/root/anaconda3/envs/gm/lib/python3.7/site-packages/torchvision/models/_utils.py:223: UserWarning: Arguments other than a weight enum or `None` for 'weights' are deprecated since 0.13 and may be removed in the future. The current behavior is equivalent to passing `weights=EfficientNet_V2_M_Weights.IMAGENET1K_V1`. You can also use `weights=EfficientNet_V2_M_Weights.DEFAULT` to get the most up-to-date weights.\n",
      "  warnings.warn(msg)\n"
     ]
    },
    {
     "name": "stdout",
     "output_type": "stream",
     "text": [
      "Test Results:\n",
      "  F1 Score: 0.8624\n",
      "  Accuracy: 0.9002\n",
      "  Precision: 0.8393\n",
      "  Recall: 0.8868\n"
     ]
    },
    {
     "name": "stderr",
     "output_type": "stream",
     "text": [
      "Evaluating: 100%|██████████| 902/902 [00:38<00:00, 23.63it/s]\n",
      "/root/anaconda3/envs/gm/lib/python3.7/site-packages/torchvision/models/_utils.py:209: UserWarning: The parameter 'pretrained' is deprecated since 0.13 and may be removed in the future, please use 'weights' instead.\n",
      "  f\"The parameter '{pretrained_param}' is deprecated since 0.13 and may be removed in the future, \"\n",
      "/root/anaconda3/envs/gm/lib/python3.7/site-packages/torchvision/models/_utils.py:223: UserWarning: Arguments other than a weight enum or `None` for 'weights' are deprecated since 0.13 and may be removed in the future. The current behavior is equivalent to passing `weights=EfficientNet_V2_M_Weights.IMAGENET1K_V1`. You can also use `weights=EfficientNet_V2_M_Weights.DEFAULT` to get the most up-to-date weights.\n",
      "  warnings.warn(msg)\n"
     ]
    },
    {
     "name": "stdout",
     "output_type": "stream",
     "text": [
      "Test Results:\n",
      "  F1 Score: 0.8669\n",
      "  Accuracy: 0.9180\n",
      "  Precision: 0.8486\n",
      "  Recall: 0.8860\n"
     ]
    },
    {
     "name": "stderr",
     "output_type": "stream",
     "text": [
      "Evaluating: 100%|██████████| 902/902 [00:38<00:00, 23.59it/s]\n",
      "/root/anaconda3/envs/gm/lib/python3.7/site-packages/torchvision/models/_utils.py:209: UserWarning: The parameter 'pretrained' is deprecated since 0.13 and may be removed in the future, please use 'weights' instead.\n",
      "  f\"The parameter '{pretrained_param}' is deprecated since 0.13 and may be removed in the future, \"\n",
      "/root/anaconda3/envs/gm/lib/python3.7/site-packages/torchvision/models/_utils.py:223: UserWarning: Arguments other than a weight enum or `None` for 'weights' are deprecated since 0.13 and may be removed in the future. The current behavior is equivalent to passing `weights=EfficientNet_V2_M_Weights.IMAGENET1K_V1`. You can also use `weights=EfficientNet_V2_M_Weights.DEFAULT` to get the most up-to-date weights.\n",
      "  warnings.warn(msg)\n"
     ]
    },
    {
     "name": "stdout",
     "output_type": "stream",
     "text": [
      "Class 1 F1: 0.8539\n",
      "Class 2 F1: 0.8719\n",
      "Test Results:\n",
      "  F1 Score: 0.8629\n",
      "  Accuracy: 0.8448\n",
      "  Precision: 0.8744\n",
      "  Recall: 0.8523\n"
     ]
    },
    {
     "name": "stderr",
     "output_type": "stream",
     "text": [
      "Evaluating: 100%|██████████| 902/902 [00:38<00:00, 23.70it/s]"
     ]
    },
    {
     "name": "stdout",
     "output_type": "stream",
     "text": [
      "Class 5 F1: 0.6154\n",
      "Class 6 F1: 0.8000\n",
      "Test Results:\n",
      "  F1 Score: 0.7077\n",
      "  Accuracy: 0.9933\n",
      "  Precision: 1.0000\n",
      "  Recall: 0.5556\n"
     ]
    },
    {
     "name": "stderr",
     "output_type": "stream",
     "text": [
      "\n"
     ]
    }
   ],
   "source": [
    "ncm_aptos_labels = [[0],[2],[1],[1,2],[5,6]]\n",
    "for target_label_idx in ncm_aptos_labels:\n",
    "    # Model definition (changed to binary classification)\n",
    "    efficientnet = models.efficientnet_v2_m(pretrained=True)\n",
    "    num_ftrs = efficientnet.classifier[1].in_features\n",
    "    num_targets = len(target_label_idx)\n",
    "    \n",
    "    \n",
    "    if num_targets == 1:\n",
    "        # 단일 레이블 케이스 (기존 코드와 동일)\n",
    "        efficientnet.classifier = nn.Sequential(\n",
    "            nn.BatchNorm1d(num_ftrs),\n",
    "            nn.Linear(num_ftrs, 1)\n",
    "        )\n",
    "    else:\n",
    "        # 다중 레이블 케이스\n",
    "        efficientnet.classifier = nn.Sequential(\n",
    "            nn.BatchNorm1d(num_ftrs),\n",
    "            nn.Linear(num_ftrs, num_targets)\n",
    "        )\n",
    "    efficientnet = efficientnet.to(device)\n",
    "    \n",
    "    if len(target_label_idx)==1:\n",
    "        # Final evaluation on test set\n",
    "        efficientnet.load_state_dict(torch.load(f'model/singlelabel_finetuning/best_model_label_{target_label_idx[0]}_nmc_cnn.pth'))\n",
    "    else:\n",
    "        efficientnet.load_state_dict(torch.load(f'model/singlelabel_finetuning/best_model_labels_{\"-\".join(map(str,target_label_idx))}_nmc_cnn.pth'))\n",
    "    test_f1, test_acc, test_prec, test_rec = evaluate(efficientnet, testloader, device, target_label_idx)\n",
    "    print(f\"Test Results:\")\n",
    "    print(f\"  F1 Score: {test_f1:.4f}\")\n",
    "    print(f\"  Accuracy: {test_acc:.4f}\")\n",
    "    print(f\"  Precision: {test_prec:.4f}\")\n",
    "    print(f\"  Recall: {test_rec:.4f}\")"
   ]
  },
  {
   "cell_type": "code",
   "execution_count": null,
   "metadata": {},
   "outputs": [],
   "source": []
  }
 ],
 "metadata": {
  "kernelspec": {
   "display_name": "gm",
   "language": "python",
   "name": "python3"
  },
  "language_info": {
   "codemirror_mode": {
    "name": "ipython",
    "version": 3
   },
   "file_extension": ".py",
   "mimetype": "text/x-python",
   "name": "python",
   "nbconvert_exporter": "python",
   "pygments_lexer": "ipython3",
   "version": "3.7.16"
  }
 },
 "nbformat": 4,
 "nbformat_minor": 2
}
